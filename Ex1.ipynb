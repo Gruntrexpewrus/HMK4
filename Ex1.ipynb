{
 "cells": [
  {
   "cell_type": "code",
   "execution_count": 1,
   "metadata": {},
   "outputs": [],
   "source": [
    "import pandas as pd\n",
    "import json"
   ]
  },
  {
   "cell_type": "code",
   "execution_count": 2,
   "metadata": {
    "scrolled": true
   },
   "outputs": [
    {
     "data": {
      "text/html": [
       "<div>\n",
       "<style scoped>\n",
       "    .dataframe tbody tr th:only-of-type {\n",
       "        vertical-align: middle;\n",
       "    }\n",
       "\n",
       "    .dataframe tbody tr th {\n",
       "        vertical-align: top;\n",
       "    }\n",
       "\n",
       "    .dataframe thead th {\n",
       "        text-align: right;\n",
       "    }\n",
       "</style>\n",
       "<table border=\"1\" class=\"dataframe\">\n",
       "  <thead>\n",
       "    <tr style=\"text-align: right;\">\n",
       "      <th></th>\n",
       "      <th>0</th>\n",
       "    </tr>\n",
       "  </thead>\n",
       "  <tbody>\n",
       "    <tr>\n",
       "      <th>0</th>\n",
       "      <td>JV#0$S;D@j+c96/8C(W%</td>\n",
       "    </tr>\n",
       "    <tr>\n",
       "      <th>1</th>\n",
       "      <td>J,)e+LH'ENmdV5YGWu4B</td>\n",
       "    </tr>\n",
       "    <tr>\n",
       "      <th>2</th>\n",
       "      <td>tR0V2@$SNuU9;&lt;&amp;DafxO</td>\n",
       "    </tr>\n",
       "    <tr>\n",
       "      <th>3</th>\n",
       "      <td>/DXhI;GNl*nbCzKso=?@</td>\n",
       "    </tr>\n",
       "    <tr>\n",
       "      <th>4</th>\n",
       "      <td>b*ZB/egd=!XcvV&gt;K(qY@</td>\n",
       "    </tr>\n",
       "  </tbody>\n",
       "</table>\n",
       "</div>"
      ],
      "text/plain": [
       "                      0\n",
       "0  JV#0$S;D@j+c96/8C(W%\n",
       "1  J,)e+LH'ENmdV5YGWu4B\n",
       "2  tR0V2@$SNuU9;<&DafxO\n",
       "3  /DXhI;GNl*nbCzKso=?@\n",
       "4  b*ZB/egd=!XcvV>K(qY@"
      ]
     },
     "execution_count": 2,
     "metadata": {},
     "output_type": "execute_result"
    }
   ],
   "source": [
    "df = pd.read_csv(\"passwords1.txt\", header=None, delim_whitespace=True)\n",
    "df.head()"
   ]
  },
  {
   "cell_type": "code",
   "execution_count": 3,
   "metadata": {},
   "outputs": [
    {
     "data": {
      "text/plain": [
       "95234682"
      ]
     },
     "execution_count": 3,
     "metadata": {},
     "output_type": "execute_result"
    }
   ],
   "source": [
    "len(df)"
   ]
  },
  {
   "cell_type": "code",
   "execution_count": 4,
   "metadata": {
    "scrolled": true
   },
   "outputs": [
    {
     "data": {
      "text/html": [
       "<div>\n",
       "<style scoped>\n",
       "    .dataframe tbody tr th:only-of-type {\n",
       "        vertical-align: middle;\n",
       "    }\n",
       "\n",
       "    .dataframe tbody tr th {\n",
       "        vertical-align: top;\n",
       "    }\n",
       "\n",
       "    .dataframe thead th {\n",
       "        text-align: right;\n",
       "    }\n",
       "</style>\n",
       "<table border=\"1\" class=\"dataframe\">\n",
       "  <thead>\n",
       "    <tr style=\"text-align: right;\">\n",
       "      <th></th>\n",
       "      <th>passwords</th>\n",
       "    </tr>\n",
       "  </thead>\n",
       "  <tbody>\n",
       "    <tr>\n",
       "      <th>0</th>\n",
       "      <td>JV#0$S;D@j+c96/8C(W%</td>\n",
       "    </tr>\n",
       "    <tr>\n",
       "      <th>1</th>\n",
       "      <td>J,)e+LH'ENmdV5YGWu4B</td>\n",
       "    </tr>\n",
       "    <tr>\n",
       "      <th>2</th>\n",
       "      <td>tR0V2@$SNuU9;&lt;&amp;DafxO</td>\n",
       "    </tr>\n",
       "    <tr>\n",
       "      <th>3</th>\n",
       "      <td>/DXhI;GNl*nbCzKso=?@</td>\n",
       "    </tr>\n",
       "    <tr>\n",
       "      <th>4</th>\n",
       "      <td>b*ZB/egd=!XcvV&gt;K(qY@</td>\n",
       "    </tr>\n",
       "  </tbody>\n",
       "</table>\n",
       "</div>"
      ],
      "text/plain": [
       "              passwords\n",
       "0  JV#0$S;D@j+c96/8C(W%\n",
       "1  J,)e+LH'ENmdV5YGWu4B\n",
       "2  tR0V2@$SNuU9;<&DafxO\n",
       "3  /DXhI;GNl*nbCzKso=?@\n",
       "4  b*ZB/egd=!XcvV>K(qY@"
      ]
     },
     "execution_count": 4,
     "metadata": {},
     "output_type": "execute_result"
    }
   ],
   "source": [
    "df = df.rename(columns={0: \"passwords\"})\n",
    "df.head()"
   ]
  },
  {
   "cell_type": "code",
   "execution_count": 7,
   "metadata": {},
   "outputs": [],
   "source": [
    "df.to_csv('df.csv')"
   ]
  },
  {
   "cell_type": "markdown",
   "metadata": {},
   "source": [
    "Now we create a dictionary where every password has 20 values that are the ascii values for every character."
   ]
  },
  {
   "cell_type": "code",
   "execution_count": 12,
   "metadata": {},
   "outputs": [],
   "source": [
    "dic_ascii = {}\n",
    "for i in df['passwords']:\n",
    "    if i not in  dic_ascii:\n",
    "        asc = []\n",
    "        for c in i:\n",
    "            asc.append(ord(c))\n",
    "        dic_ascii[i] = asc\n",
    "with open('dic_ascii.json', 'w') as fp:\n",
    "    json.dump(dic_ascii, fp)"
   ]
  },
  {
   "cell_type": "code",
   "execution_count": 1,
   "metadata": {},
   "outputs": [],
   "source": [
    "A = [1,2]"
   ]
  },
  {
   "cell_type": "code",
   "execution_count": 8,
   "metadata": {
    "scrolled": true
   },
   "outputs": [
    {
     "name": "stdout",
     "output_type": "stream",
     "text": [
      "Requirement already satisfied: sympy in c:\\users\\leona\\anaconda3\\lib\\site-packages (1.4)\n",
      "Requirement already satisfied: mpmath>=0.19 in c:\\users\\leona\\anaconda3\\lib\\site-packages (from sympy) (1.1.0)\n",
      "Note: you may need to restart the kernel to use updated packages.\n"
     ]
    }
   ],
   "source": [
    "pip install sympy"
   ]
  },
  {
   "cell_type": "markdown",
   "metadata": {},
   "source": [
    "I choose m in respect of a 0.07% false positive rate that I will pose in the furture bloom filter, so the module of the hash fucntions will the the first greater prime of 527114570."
   ]
  },
  {
   "cell_type": "code",
   "execution_count": 14,
   "metadata": {
    "scrolled": true
   },
   "outputs": [
    {
     "data": {
      "text/plain": [
       "527114611"
      ]
     },
     "execution_count": 14,
     "metadata": {},
     "output_type": "execute_result"
    }
   ],
   "source": [
    "import sympy as s\n",
    "m = s.nextprime(527114570)\n",
    "m"
   ]
  },
  {
   "cell_type": "code",
   "execution_count": null,
   "metadata": {},
   "outputs": [],
   "source": []
  },
  {
   "cell_type": "code",
   "execution_count": 16,
   "metadata": {},
   "outputs": [
    {
     "data": {
      "text/plain": [
       "298894430"
      ]
     },
     "execution_count": 16,
     "metadata": {},
     "output_type": "execute_result"
    }
   ],
   "source": [
    "import random\n",
    "random.randrange(m)"
   ]
  },
  {
   "cell_type": "markdown",
   "metadata": {},
   "source": [
    "I will create 4 hash functions, that I will later describe, the first thing is that I need 4 vectors with 20 components, all randomly generated in between 0 and m."
   ]
  },
  {
   "cell_type": "code",
   "execution_count": 21,
   "metadata": {},
   "outputs": [],
   "source": [
    "def randomizr(m): \n",
    "    vec = []\n",
    "    for i in range(20):\n",
    "        vec.append(random.randrange(m))\n",
    "    return vec\n"
   ]
  },
  {
   "cell_type": "code",
   "execution_count": 23,
   "metadata": {},
   "outputs": [
    {
     "name": "stdout",
     "output_type": "stream",
     "text": [
      "[55562445, 326412123, 517620619, 82557444, 124484253, 206132606, 152363464, 457642380, 110539775, 141714105, 98519460, 169495199, 205943578, 356272723, 197821188, 525494969, 332311367, 172269659, 21190289, 261606644] \n",
      " [146939973, 472828821, 362051872, 481260545, 150893091, 479208025, 161427083, 162709789, 333130560, 255061743, 408229312, 408864144, 110787110, 64801791, 305797461, 353665148, 379748443, 463555711, 301828971, 366943646] \n",
      " [237904666, 8715804, 246860143, 36593556, 156812513, 93434722, 475668356, 319144638, 326069300, 113067605, 92330184, 427153890, 20137911, 163069086, 203737011, 76027686, 136271340, 262343691, 376044511, 161732585] \n",
      " [21836976, 437493629, 93160995, 181676887, 443639206, 242915781, 419601293, 488777532, 481969058, 60534811, 26981764, 517617281, 482857327, 59545467, 445871635, 462668141, 373812211, 476308162, 15572568, 471346767]\n",
      "False\n"
     ]
    }
   ],
   "source": [
    "vector1 = randomizr(m)\n",
    "vector2 = randomizr(m)\n",
    "vector3 = randomizr(m)\n",
    "vector4 = randomizr(m)\n",
    "print(vector1,'\\n',vector2, '\\n', vector3, '\\n', vector4)\n",
    "print(vector1 == vector2 or vector1==vector3 or vector1==vector4 or vector2 == vector3 or vector3==vector4)"
   ]
  },
  {
   "cell_type": "markdown",
   "metadata": {},
   "source": [
    "Now that the vectors are all different, to avoid changing them every time we run the file, we save the vectors with the values printed above. We did that to make explicit the uniform distribution to chooes those components."
   ]
  },
  {
   "cell_type": "code",
   "execution_count": 24,
   "metadata": {},
   "outputs": [],
   "source": [
    "vector1 = [55562445, 326412123, 517620619, 82557444, 124484253, 206132606, 152363464, 457642380, 110539775, 141714105, 98519460, 169495199, 205943578, 356272723, 197821188, 525494969, 332311367, 172269659, 21190289, 261606644]\n",
    "vector2 = [146939973, 472828821, 362051872, 481260545, 150893091, 479208025, 161427083, 162709789, 333130560, 255061743, 408229312, 408864144, 110787110, 64801791, 305797461, 353665148, 379748443, 463555711, 301828971, 366943646] \n",
    "vector3 = [237904666, 8715804, 246860143, 36593556, 156812513, 93434722, 475668356, 319144638, 326069300, 113067605, 92330184, 427153890, 20137911, 163069086, 203737011, 76027686, 136271340, 262343691, 376044511, 161732585]\n",
    "vector4 = [21836976, 437493629, 93160995, 181676887, 443639206, 242915781, 419601293, 488777532, 481969058, 60534811, 26981764, 517617281, 482857327, 59545467, 445871635, 462668141, 373812211, 476308162, 15572568, 471346767]\n",
    "#done!"
   ]
  },
  {
   "cell_type": "markdown",
   "metadata": {},
   "source": [
    "Now we define the 4 hash fucntions, that will actually be the same but with different coefficients given by the vectors we just defined."
   ]
  },
  {
   "cell_type": "code",
   "execution_count": null,
   "metadata": {},
   "outputs": [],
   "source": []
  }
 ],
 "metadata": {
  "kernelspec": {
   "display_name": "Python 3",
   "language": "python",
   "name": "python3"
  },
  "language_info": {
   "codemirror_mode": {
    "name": "ipython",
    "version": 3
   },
   "file_extension": ".py",
   "mimetype": "text/x-python",
   "name": "python",
   "nbconvert_exporter": "python",
   "pygments_lexer": "ipython3",
   "version": "3.7.5"
  }
 },
 "nbformat": 4,
 "nbformat_minor": 2
}
