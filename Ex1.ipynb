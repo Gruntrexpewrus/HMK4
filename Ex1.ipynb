{
 "cells": [
  {
   "cell_type": "code",
   "execution_count": 1,
   "metadata": {},
   "outputs": [],
   "source": [
    "import pandas as pd\n",
    "import json"
   ]
  },
  {
   "cell_type": "code",
   "execution_count": 2,
   "metadata": {},
   "outputs": [
    {
     "name": "stdout",
     "output_type": "stream",
     "text": [
      "Number of passwords in passwords1.txt 100000000\n"
     ]
    }
   ],
   "source": [
    "i = 0\n",
    "with open(\"passwords1.txt\") as infile:\n",
    "    for line in infile:\n",
    "        i = i+1\n",
    "print('Number of passwords in passwords1.txt', i)"
   ]
  },
  {
   "cell_type": "code",
   "execution_count": 20,
   "metadata": {},
   "outputs": [
    {
     "name": "stdout",
     "output_type": "stream",
     "text": [
      "Number of passwords in passwords2.txt 39000000\n"
     ]
    }
   ],
   "source": [
    "i = 0\n",
    "with open(\"passwords2.txt\") as infile:\n",
    "    for line in infile:\n",
    "        i = i+1\n",
    "print('Number of passwords in passwords2.txt', i)"
   ]
  },
  {
   "cell_type": "code",
   "execution_count": 9,
   "metadata": {},
   "outputs": [
    {
     "data": {
      "text/plain": [
       "97"
      ]
     },
     "execution_count": 9,
     "metadata": {},
     "output_type": "execute_result"
    }
   ],
   "source": [
    "ord('a')"
   ]
  },
  {
   "cell_type": "code",
   "execution_count": 8,
   "metadata": {
    "scrolled": false
   },
   "outputs": [
    {
     "name": "stdout",
     "output_type": "stream",
     "text": [
      "Requirement already satisfied: sympy in c:\\users\\leona\\anaconda3\\lib\\site-packages (1.4)\n",
      "Requirement already satisfied: mpmath>=0.19 in c:\\users\\leona\\anaconda3\\lib\\site-packages (from sympy) (1.1.0)\n",
      "Note: you may need to restart the kernel to use updated packages.\n"
     ]
    }
   ],
   "source": [
    "pip install sympy"
   ]
  },
  {
   "cell_type": "markdown",
   "metadata": {},
   "source": [
    "We choose m(dimension of the future bit array) in respect of a 7% false positive rate that we will pose in the future bloom filter, so the module of the hash fucntions will the the first greater prime of 553490135."
   ]
  },
  {
   "cell_type": "code",
   "execution_count": 10,
   "metadata": {
    "scrolled": true
   },
   "outputs": [
    {
     "data": {
      "text/plain": [
       "553490137"
      ]
     },
     "execution_count": 10,
     "metadata": {},
     "output_type": "execute_result"
    }
   ],
   "source": [
    "import sympy as s\n",
    "m = s.nextprime(553490135)\n",
    "m"
   ]
  },
  {
   "cell_type": "code",
   "execution_count": 3,
   "metadata": {},
   "outputs": [
    {
     "data": {
      "text/plain": [
       "212148138"
      ]
     },
     "execution_count": 3,
     "metadata": {},
     "output_type": "execute_result"
    }
   ],
   "source": [
    "import random\n",
    "random.randrange(m)"
   ]
  },
  {
   "cell_type": "markdown",
   "metadata": {},
   "source": [
    "We will create 4 hash functions, that we will later describe, the first thing we that I need 4 vectors with 20 components, all randomly generated in between 0 and m."
   ]
  },
  {
   "cell_type": "code",
   "execution_count": 4,
   "metadata": {},
   "outputs": [],
   "source": [
    "def randomizr(m): \n",
    "    vec = []\n",
    "    for i in range(20):\n",
    "        vec.append(random.randrange(m))\n",
    "    return vec\n"
   ]
  },
  {
   "cell_type": "code",
   "execution_count": 5,
   "metadata": {},
   "outputs": [
    {
     "name": "stdout",
     "output_type": "stream",
     "text": [
      "[320032415, 124596468, 192243248, 210600885, 469279337, 363944069, 428720719, 464995414, 142099927, 100010091, 189760839, 292309987, 191899598, 434784156, 9828227, 438433839, 379787659, 511525427, 383277022, 207476111] \n",
      " [196878839, 414628127, 121047087, 88914908, 506086479, 509913332, 442529809, 92785850, 276855162, 78990086, 208974229, 231678954, 273784351, 206209961, 441568291, 551861911, 360218731, 244146914, 483924221, 482762323] \n",
      " [414795905, 399707943, 519985065, 91158296, 123533042, 4699813, 281354659, 306748969, 3414012, 521779425, 434949211, 117222902, 45998078, 81912791, 161085663, 181661559, 423762748, 192380751, 189679520, 321212085] \n",
      " [378547270, 152879104, 193866808, 82129304, 437351035, 307560657, 98108298, 353643679, 406975444, 273737614, 258928089, 432601128, 53903005, 397466955, 326740583, 63708514, 236761772, 196259849, 294424851, 551195740]\n",
      "False\n"
     ]
    }
   ],
   "source": [
    "vector1 = randomizr(m)\n",
    "vector2 = randomizr(m)\n",
    "vector3 = randomizr(m)\n",
    "vector4 = randomizr(m)\n",
    "print(vector1,'\\n',vector2, '\\n', vector3, '\\n', vector4)\n",
    "print(vector1 == vector2 or vector1==vector3 or vector1==vector4 or vector2 == vector3 or vector3==vector4)"
   ]
  },
  {
   "cell_type": "markdown",
   "metadata": {},
   "source": [
    "Now that the vectors are all different, to avoid changing them every time we run the file, we save the vectors with the values printed above. We did that to make explicit the uniform distribution to chooes those components."
   ]
  },
  {
   "cell_type": "code",
   "execution_count": 2,
   "metadata": {},
   "outputs": [],
   "source": [
    "vector1 = [320032415, 124596468, 192243248, 210600885, 469279337, 363944069, 428720719, 464995414, 142099927, 100010091, 189760839, 292309987, 191899598, 434784156, 9828227, 438433839, 379787659, 511525427, 383277022, 207476111] \n",
    "vector2 = [196878839, 414628127, 121047087, 88914908, 506086479, 509913332, 442529809, 92785850, 276855162, 78990086, 208974229, 231678954, 273784351, 206209961, 441568291, 551861911, 360218731, 244146914, 483924221, 482762323]\n",
    "vector3 = [414795905, 399707943, 519985065, 91158296, 123533042, 4699813, 281354659, 306748969, 3414012, 521779425, 434949211, 117222902, 45998078, 81912791, 161085663, 181661559, 423762748, 192380751, 189679520, 321212085]\n",
    "vector4 = [378547270, 152879104, 193866808, 82129304, 437351035, 307560657, 98108298, 353643679, 406975444, 273737614, 258928089, 432601128, 53903005, 397466955, 326740583, 63708514, 236761772, 196259849, 294424851, 551195740]\n"
   ]
  },
  {
   "cell_type": "code",
   "execution_count": 21,
   "metadata": {},
   "outputs": [],
   "source": [
    "#vector1 = [548373287, 222232648, 393628080, 220566875, 315011190, 457014546, 401445075, 165870502, 544231662, 431020630, 189088991, 382246549, 207652822, 296995918, 282393338, 361281726, 379519948, 289192586, 422903918, 179727888]\n",
    "#vector2 = [510338572, 428859708, 127662473, 411969966, 268400108, 235368761, 316744780, 506406582, 545941917, 173198424, 519259740, 487278310, 165823038, 452155477, 51364823, 418169255, 277375778, 416769453, 246767791, 492198197]\n",
    "#vector3 = [372907205, 539742227, 324783969, 297544716, 334245771, 88148016, 531791743, 323977773, 386017264, 22958949, 341277333, 215029602, 313390962, 343400267, 91334501, 510518004, 437634524, 319955216, 323354422, 493771037]\n",
    "#vector4 = [429698059, 384014737, 257859287, 93358385, 410243180, 386311450, 514566367, 450082373, 480763392, 117581539, 403105809, 121520178, 313661122, 13845469, 325510496, 256279553, 371541715, 133092061, 56891456, 90041203]\n",
    "#done!"
   ]
  },
  {
   "cell_type": "code",
   "execution_count": 22,
   "metadata": {},
   "outputs": [],
   "source": [
    "#import numpy as np\n",
    "#def simple_dot(a,b):\n",
    "   # return(np.dot(a,b)%m)"
   ]
  },
  {
   "cell_type": "code",
   "execution_count": 3,
   "metadata": {},
   "outputs": [],
   "source": [
    "def simple_dot(x,y):\n",
    "    k = 0\n",
    "    A = 0\n",
    "    for i in range(20):\n",
    "        #print(x[i])\n",
    "        A = A +((x[i])*y[i])%m\n",
    "    return(A%m)"
   ]
  },
  {
   "cell_type": "markdown",
   "metadata": {},
   "source": [
    "Now we define the 4 hash fucntions, that will actually be the same but with different coefficients given by the vectors we just defined."
   ]
  },
  {
   "cell_type": "code",
   "execution_count": 4,
   "metadata": {},
   "outputs": [],
   "source": [
    "def Hash1(x): \n",
    "    vec = []\n",
    "    for i in x:\n",
    "        vec.append(ord(i))\n",
    "    return (simple_dot(vec,vector1))\n"
   ]
  },
  {
   "cell_type": "code",
   "execution_count": 5,
   "metadata": {},
   "outputs": [],
   "source": [
    "def Hash2(x): \n",
    "    vec = []\n",
    "    for i in x:\n",
    "        vec.append(ord(i))\n",
    "    return (simple_dot(vec,vector2))"
   ]
  },
  {
   "cell_type": "code",
   "execution_count": 6,
   "metadata": {},
   "outputs": [],
   "source": [
    "def Hash3(x): \n",
    "    vec = []\n",
    "    for i in x:\n",
    "        vec.append(ord(i))\n",
    "    return (simple_dot(vec,vector3))"
   ]
  },
  {
   "cell_type": "code",
   "execution_count": 7,
   "metadata": {},
   "outputs": [],
   "source": [
    "def Hash4(x): \n",
    "    vec = []\n",
    "    for i in x:\n",
    "        vec.append(ord(i))\n",
    "    return (simple_dot(vec,vector4))"
   ]
  },
  {
   "cell_type": "code",
   "execution_count": 14,
   "metadata": {},
   "outputs": [],
   "source": [
    "import time, sys\n",
    "from IPython.display import clear_output\n",
    "\n",
    "def update_progress(progress):\n",
    "    bar_length = 20\n",
    "    if isinstance(progress, int):\n",
    "        progress = float(progress)\n",
    "    if not isinstance(progress, float):\n",
    "        progress = 0\n",
    "    if progress < 0:\n",
    "        progress = 0\n",
    "    if progress >= 1:\n",
    "        progress = 1\n",
    "\n",
    "    block = int(round(bar_length * progress))\n",
    "\n",
    "    clear_output(wait = True)\n",
    "    text = \"Progress: [{0}] {1:.1f}%\".format( \"#\" * block + \"-\" * (bar_length - block), progress * 100)\n",
    "    print(text)"
   ]
  },
  {
   "cell_type": "markdown",
   "metadata": {},
   "source": [
    "Now that I have 4 Hash functions I need to build the bloom filter!"
   ]
  },
  {
   "cell_type": "code",
   "execution_count": 24,
   "metadata": {},
   "outputs": [],
   "source": [
    "import time\n",
    "def BloomFilter3(passwords1, passwords2):\n",
    "    start = time.time()\n",
    "    filtr = [0]*553490137 #here m. the module\n",
    "    probably = 0\n",
    "    n = 0\n",
    "    k = 0\n",
    "    #first i put in my filter all the password from passwords1, signing with a 1 the components where there is something\n",
    "    with open(passwords1) as infile:\n",
    "        for line in infile:\n",
    "            item = line.replace('\\n','')\n",
    "            #print(item)\n",
    "            A = Hash1(item)\n",
    "            B = Hash2(item)\n",
    "            C = Hash3(item)\n",
    "            D = Hash4(item)\n",
    "            #print(A,B,C,D)\n",
    "            filtr[A] = 1\n",
    "            filtr[B] = 1\n",
    "            filtr[C] = 1\n",
    "            filtr[D] = 1\n",
    "            n = n+1\n",
    "            if n == 20000000:\n",
    "                break\n",
    "    #now that every password from df passwords1 is inside, we have to put the new ones and count homw many are probably duplicates\n",
    "    with open(passwords2) as infile:\n",
    "        for line in infile:\n",
    "            item = line.replace('\\n','')\n",
    "            #print(filtr)\n",
    "            #print(item)\n",
    "            #print(filtr[Hash1(item)])\n",
    "            if filtr[Hash1(item)] == 1:\n",
    "                if filtr[Hash2(item)] == 1:\n",
    "                    if filtr[Hash3(item)] == 1:\n",
    "                        if filtr[Hash4(item)] == 1:\n",
    "                            probably = probably + 1\n",
    "            k = k+1\n",
    "            if k == 20950000:\n",
    "                break\n",
    "    end = time.time()\n",
    "    #for the probability of false positive I build the model from the passwords1 size and i false positive rate i wanted, so it's 7%\n",
    "    print('Number of hash function used: ', 4)\n",
    "    print('Number of duplicates detected: ', probably)\n",
    "    print('Probability of false positives: ', 0.07)\n",
    "    print('Execution time: ', end-start)\n",
    "    return "
   ]
  },
  {
   "cell_type": "code",
   "execution_count": 25,
   "metadata": {
    "scrolled": false
   },
   "outputs": [
    {
     "ename": "KeyboardInterrupt",
     "evalue": "",
     "output_type": "error",
     "traceback": [
      "\u001b[1;31m---------------------------------------------------------------------------\u001b[0m",
      "\u001b[1;31mKeyboardInterrupt\u001b[0m                         Traceback (most recent call last)",
      "\u001b[1;32m<ipython-input-25-d7c25f76ea90>\u001b[0m in \u001b[0;36m<module>\u001b[1;34m\u001b[0m\n\u001b[1;32m----> 1\u001b[1;33m \u001b[0mBloomFilter3\u001b[0m\u001b[1;33m(\u001b[0m\u001b[1;34m'passwords1.txt'\u001b[0m\u001b[1;33m,\u001b[0m \u001b[1;34m'passwords2.txt'\u001b[0m\u001b[1;33m)\u001b[0m\u001b[1;33m\u001b[0m\u001b[1;33m\u001b[0m\u001b[0m\n\u001b[0m",
      "\u001b[1;32m<ipython-input-24-dc24f8fa30cb>\u001b[0m in \u001b[0;36mBloomFilter3\u001b[1;34m(passwords1, passwords2)\u001b[0m\n\u001b[0;32m     25\u001b[0m     \u001b[1;31m#now that every password from df passwords1 is inside, we have to put the new ones and count homw many are probably duplicates\u001b[0m\u001b[1;33m\u001b[0m\u001b[1;33m\u001b[0m\u001b[1;33m\u001b[0m\u001b[0m\n\u001b[0;32m     26\u001b[0m     \u001b[1;32mwith\u001b[0m \u001b[0mopen\u001b[0m\u001b[1;33m(\u001b[0m\u001b[0mpasswords2\u001b[0m\u001b[1;33m)\u001b[0m \u001b[1;32mas\u001b[0m \u001b[0minfile\u001b[0m\u001b[1;33m:\u001b[0m\u001b[1;33m\u001b[0m\u001b[1;33m\u001b[0m\u001b[0m\n\u001b[1;32m---> 27\u001b[1;33m         \u001b[1;32mfor\u001b[0m \u001b[0mline\u001b[0m \u001b[1;32min\u001b[0m \u001b[0minfile\u001b[0m\u001b[1;33m:\u001b[0m\u001b[1;33m\u001b[0m\u001b[1;33m\u001b[0m\u001b[0m\n\u001b[0m\u001b[0;32m     28\u001b[0m             \u001b[0mitem\u001b[0m \u001b[1;33m=\u001b[0m \u001b[0mline\u001b[0m\u001b[1;33m.\u001b[0m\u001b[0mreplace\u001b[0m\u001b[1;33m(\u001b[0m\u001b[1;34m'\\n'\u001b[0m\u001b[1;33m,\u001b[0m\u001b[1;34m''\u001b[0m\u001b[1;33m)\u001b[0m\u001b[1;33m\u001b[0m\u001b[1;33m\u001b[0m\u001b[0m\n\u001b[0;32m     29\u001b[0m             \u001b[1;31m#print(filtr)\u001b[0m\u001b[1;33m\u001b[0m\u001b[1;33m\u001b[0m\u001b[1;33m\u001b[0m\u001b[0m\n",
      "\u001b[1;32m~\\Anaconda3\\lib\\encodings\\cp1252.py\u001b[0m in \u001b[0;36mdecode\u001b[1;34m(self, input, final)\u001b[0m\n\u001b[0;32m     20\u001b[0m \u001b[1;33m\u001b[0m\u001b[0m\n\u001b[0;32m     21\u001b[0m \u001b[1;32mclass\u001b[0m \u001b[0mIncrementalDecoder\u001b[0m\u001b[1;33m(\u001b[0m\u001b[0mcodecs\u001b[0m\u001b[1;33m.\u001b[0m\u001b[0mIncrementalDecoder\u001b[0m\u001b[1;33m)\u001b[0m\u001b[1;33m:\u001b[0m\u001b[1;33m\u001b[0m\u001b[1;33m\u001b[0m\u001b[0m\n\u001b[1;32m---> 22\u001b[1;33m     \u001b[1;32mdef\u001b[0m \u001b[0mdecode\u001b[0m\u001b[1;33m(\u001b[0m\u001b[0mself\u001b[0m\u001b[1;33m,\u001b[0m \u001b[0minput\u001b[0m\u001b[1;33m,\u001b[0m \u001b[0mfinal\u001b[0m\u001b[1;33m=\u001b[0m\u001b[1;32mFalse\u001b[0m\u001b[1;33m)\u001b[0m\u001b[1;33m:\u001b[0m\u001b[1;33m\u001b[0m\u001b[1;33m\u001b[0m\u001b[0m\n\u001b[0m\u001b[0;32m     23\u001b[0m         \u001b[1;32mreturn\u001b[0m \u001b[0mcodecs\u001b[0m\u001b[1;33m.\u001b[0m\u001b[0mcharmap_decode\u001b[0m\u001b[1;33m(\u001b[0m\u001b[0minput\u001b[0m\u001b[1;33m,\u001b[0m\u001b[0mself\u001b[0m\u001b[1;33m.\u001b[0m\u001b[0merrors\u001b[0m\u001b[1;33m,\u001b[0m\u001b[0mdecoding_table\u001b[0m\u001b[1;33m)\u001b[0m\u001b[1;33m[\u001b[0m\u001b[1;36m0\u001b[0m\u001b[1;33m]\u001b[0m\u001b[1;33m\u001b[0m\u001b[1;33m\u001b[0m\u001b[0m\n\u001b[0;32m     24\u001b[0m \u001b[1;33m\u001b[0m\u001b[0m\n",
      "\u001b[1;31mKeyboardInterrupt\u001b[0m: "
     ]
    }
   ],
   "source": [
    "BloomFilter3('passwords1.txt', 'passwords2.txt')"
   ]
  },
  {
   "cell_type": "markdown",
   "metadata": {},
   "source": [
    "13.16"
   ]
  },
  {
   "cell_type": "markdown",
   "metadata": {},
   "source": [
    "Now we will modify a little the bloom filter to asnwer the bonus question about the exact number of false positives."
   ]
  },
  {
   "cell_type": "code",
   "execution_count": 47,
   "metadata": {},
   "outputs": [],
   "source": [
    "import time\n",
    "def BloomFilter2(passwords1, passwords2):\n",
    "    n = 0\n",
    "    k = 0\n",
    "    start = time.time()\n",
    "    filtr = [0]*m #here m. the module\n",
    "    false_pos = 0\n",
    "    #first i put in my filter all the password from passwords1, signing with a 1 the components where there is something\n",
    "    dic_hash1 = {}\n",
    "    with open(passwords1) as infile:\n",
    "        for line in infile:\n",
    "            item = line.replace('\\n','')\n",
    "            A = Hash1(item)\n",
    "            B = Hash2(item)\n",
    "            C = Hash3(item)\n",
    "            D = Hash4(item)\n",
    "            filtr[A] = 1\n",
    "            try:\n",
    "                dic_hash1[A].append(item)\n",
    "            except KeyError:\n",
    "                dic_hash1[A] = [item]\n",
    "            filtr[B] = 1\n",
    "            filtr[C] = 1\n",
    "            filtr[D] = 1\n",
    "            n = n+1\n",
    "            if n == 1000000:\n",
    "                break\n",
    "    #now that every password from df passwords1 is inside, we have to put the new ones and count homw many are probably duplicates\n",
    "    with open(passwords2) as infile:\n",
    "        for line in infile:\n",
    "            item = line.replace('\\n','')\n",
    "            A = Hash1(item)\n",
    "            if filtr[Hash1(item)] == 1:\n",
    "                if filtr[Hash2(item)] == 1:\n",
    "                    if filtr[Hash3(item)] == 1:\n",
    "                        if filtr[Hash4(item)] == 1:\n",
    "                            if item not in dic_hash1[A]:\n",
    "                                false_pos = false_pos + 1\n",
    "            k = k+1\n",
    "            if k == 390000:\n",
    "                break\n",
    "    end = time.time()\n",
    "    #for the probability of false positive I build the model from the passwords1 size and i false positive rate i wanted, so it's 7%\n",
    "    print('Number of hash function used: ', 4)\n",
    "    print('Number of false positives: ', false_pos)\n",
    "    print('Theoretical probability of false positives: ', 0.07)\n",
    "    print('Actual false positives probability', false_pos/300000)\n",
    "    print('Execution time: ', end-start)\n",
    "    return "
   ]
  },
  {
   "cell_type": "code",
   "execution_count": 48,
   "metadata": {
    "scrolled": false
   },
   "outputs": [
    {
     "name": "stdout",
     "output_type": "stream",
     "text": [
      "Number of hash function used:  4\n",
      "Number of false positives:  0\n",
      "Theoretical probability of false positives:  0.07\n",
      "Actual false positives probability 0.0\n",
      "Execution time:  236.54372000694275\n"
     ]
    }
   ],
   "source": [
    "BloomFilter2('passwords1.txt', 'passwords2.txt')"
   ]
  }
 ],
 "metadata": {
  "kernelspec": {
   "display_name": "Python 3",
   "language": "python",
   "name": "python3"
  },
  "language_info": {
   "codemirror_mode": {
    "name": "ipython",
    "version": 3
   },
   "file_extension": ".py",
   "mimetype": "text/x-python",
   "name": "python",
   "nbconvert_exporter": "python",
   "pygments_lexer": "ipython3",
   "version": "3.7.3"
  }
 },
 "nbformat": 4,
 "nbformat_minor": 2
}
