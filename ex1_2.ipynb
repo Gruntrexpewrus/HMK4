{
 "cells": [
  {
   "cell_type": "code",
   "execution_count": 1,
   "metadata": {},
   "outputs": [],
   "source": [
    "import pandas as pd\n",
    "import json"
   ]
  },
  {
   "cell_type": "code",
   "execution_count": 2,
   "metadata": {},
   "outputs": [
    {
     "name": "stdout",
     "output_type": "stream",
     "text": [
      "Number of passwords in passwords1.txt 100000000\n"
     ]
    }
   ],
   "source": [
    "i = 0\n",
    "with open(\"passwords1.txt\") as infile:\n",
    "    for line in infile:\n",
    "        i = i+1\n",
    "print('Number of passwords in passwords1.txt', i)"
   ]
  },
  {
   "cell_type": "code",
   "execution_count": 20,
   "metadata": {},
   "outputs": [
    {
     "name": "stdout",
     "output_type": "stream",
     "text": [
      "Number of passwords in passwords2.txt 39000000\n"
     ]
    }
   ],
   "source": [
    "i = 0\n",
    "with open(\"passwords2.txt\") as infile:\n",
    "    for line in infile:\n",
    "        i = i+1\n",
    "print('Number of passwords in passwords2.txt', i)"
   ]
  },
  {
   "cell_type": "code",
   "execution_count": 9,
   "metadata": {},
   "outputs": [
    {
     "data": {
      "text/plain": [
       "97"
      ]
     },
     "execution_count": 9,
     "metadata": {},
     "output_type": "execute_result"
    }
   ],
   "source": [
    "ord('a')"
   ]
  },
  {
   "cell_type": "code",
   "execution_count": 8,
   "metadata": {
    "scrolled": false
   },
   "outputs": [
    {
     "name": "stdout",
     "output_type": "stream",
     "text": [
      "Requirement already satisfied: sympy in c:\\users\\leona\\anaconda3\\lib\\site-packages (1.4)\n",
      "Requirement already satisfied: mpmath>=0.19 in c:\\users\\leona\\anaconda3\\lib\\site-packages (from sympy) (1.1.0)\n",
      "Note: you may need to restart the kernel to use updated packages.\n"
     ]
    }
   ],
   "source": [
    "pip install sympy"
   ]
  },
  {
   "cell_type": "markdown",
   "metadata": {},
   "source": [
    "We choose m(dimension of the future bit array) in respect of a 1% false positive rate that we will pose in the future bloom filter, so the module of the hash fucntions will the the first greater prime of 958505838."
   ]
  },
  {
   "cell_type": "code",
   "execution_count": 2,
   "metadata": {
    "scrolled": true
   },
   "outputs": [
    {
     "data": {
      "text/plain": [
       "958505839"
      ]
     },
     "execution_count": 2,
     "metadata": {},
     "output_type": "execute_result"
    }
   ],
   "source": [
    "import sympy as s\n",
    "m = s.nextprime(958505838)\n",
    "m"
   ]
  },
  {
   "cell_type": "code",
   "execution_count": 3,
   "metadata": {},
   "outputs": [
    {
     "data": {
      "text/plain": [
       "827067896"
      ]
     },
     "execution_count": 3,
     "metadata": {},
     "output_type": "execute_result"
    }
   ],
   "source": [
    "import random\n",
    "random.randrange(m)"
   ]
  },
  {
   "cell_type": "markdown",
   "metadata": {},
   "source": [
    "We will create 4 hash functions, that we will later describe, the first thing we that I need 4 vectors with 20 components, all randomly generated in between 0 and m."
   ]
  },
  {
   "cell_type": "code",
   "execution_count": 4,
   "metadata": {},
   "outputs": [],
   "source": [
    "def randomizr(m): \n",
    "    vec = []\n",
    "    for i in range(20):\n",
    "        vec.append(random.randrange(m))\n",
    "    return vec\n"
   ]
  },
  {
   "cell_type": "code",
   "execution_count": 6,
   "metadata": {},
   "outputs": [
    {
     "name": "stdout",
     "output_type": "stream",
     "text": [
      "[238420765, 848925297, 784711979, 497093051, 95554829, 514988376, 892218180, 442524537, 607757090, 700296439, 596878981, 371686624, 439536567, 181541896, 635998009, 830467436, 782561980, 212875567, 392765566, 534916217] \n",
      " [667252919, 294923376, 857674523, 455499217, 487102145, 176035026, 223282253, 610577513, 707981282, 103967431, 812769808, 806736283, 479599574, 228782634, 441223920, 850329407, 434609601, 799716331, 671844433, 589053973] \n",
      " [399089958, 398452767, 51973215, 420884573, 883431994, 46306089, 445136725, 73819833, 460047188, 550915479, 840195322, 53305110, 523616283, 679027420, 164041420, 323692409, 850889656, 267436729, 530084757, 555947052] \n",
      " [360456327, 260340259, 556014589, 88632059, 675905187, 154700660, 558289546, 13412832, 496149736, 145965229, 410734023, 701177977, 523295721, 354015393, 31246611, 203541478, 811770871, 697524858, 38643469, 625709998] \n",
      " [198449539, 858931647, 111900049, 793153272, 72035689, 915892416, 386067109, 432145732, 786680161, 197524167, 560256363, 582699524, 801304152, 922568252, 471275982, 287382050, 691678402, 792317068, 475674805, 696631435] \n",
      " [897728679, 185242023, 563247529, 957415683, 275736323, 813059754, 874316063, 81158502, 858981714, 704621876, 782484058, 274547650, 73468298, 285239415, 467534053, 240265981, 85451921, 379450467, 815001741, 153710564] \n",
      " [667091761, 594599526, 417139662, 901299857, 576375979, 19784631, 532685751, 112057141, 475564085, 676246707, 478433915, 854391781, 953972748, 130700365, 732046487, 341923245, 95697728, 164619653, 90474761, 622232906]\n"
     ]
    }
   ],
   "source": [
    "vector1 = randomizr(m)\n",
    "vector2 = randomizr(m)\n",
    "vector3 = randomizr(m)\n",
    "vector4 = randomizr(m)\n",
    "vector5 = randomizr(m)\n",
    "vector6 = randomizr(m)\n",
    "vector7 = randomizr(m)\n",
    "print(vector1,'\\n',vector2, '\\n', vector3, '\\n', vector4,'\\n', vector5, '\\n', vector6,'\\n',vector7)\n",
    "#print(vector1 == vector2 or vector1==vector3 or vector1==vector4 or vector2 == vector3 or vector3==vector4)"
   ]
  },
  {
   "cell_type": "markdown",
   "metadata": {},
   "source": [
    "Now that the vectors are all different, to avoid changing them every time we run the file, we save the vectors with the values printed above. We did that to make explicit the uniform distribution to chooes those components."
   ]
  },
  {
   "cell_type": "code",
   "execution_count": 2,
   "metadata": {},
   "outputs": [],
   "source": [
    "vector1 = [238420765, 848925297, 784711979, 497093051, 95554829, 514988376, 892218180, 442524537, 607757090, 700296439, 596878981, 371686624, 439536567, 181541896, 635998009, 830467436, 782561980, 212875567, 392765566, 534916217]\n",
    "vector2 = [667252919, 294923376, 857674523, 455499217, 487102145, 176035026, 223282253, 610577513, 707981282, 103967431, 812769808, 806736283, 479599574, 228782634, 441223920, 850329407, 434609601, 799716331, 671844433, 589053973]\n",
    "vector3 = [399089958, 398452767, 51973215, 420884573, 883431994, 46306089, 445136725, 73819833, 460047188, 550915479, 840195322, 53305110, 523616283, 679027420, 164041420, 323692409, 850889656, 267436729, 530084757, 555947052]\n",
    "vector4 = [360456327, 260340259, 556014589, 88632059, 675905187, 154700660, 558289546, 13412832, 496149736, 145965229, 410734023, 701177977, 523295721, 354015393, 31246611, 203541478, 811770871, 697524858, 38643469, 625709998]\n",
    "vector5 = [198449539, 858931647, 111900049, 793153272, 72035689, 915892416, 386067109, 432145732, 786680161, 197524167, 560256363, 582699524, 801304152, 922568252, 471275982, 287382050, 691678402, 792317068, 475674805, 696631435]\n",
    "vector6 = [897728679, 185242023, 563247529, 957415683, 275736323, 813059754, 874316063, 81158502, 858981714, 704621876, 782484058, 274547650, 73468298, 285239415, 467534053, 240265981, 85451921, 379450467, 815001741, 153710564]\n",
    "vector7 = [667091761, 594599526, 417139662, 901299857, 576375979, 19784631, 532685751, 112057141, 475564085, 676246707, 478433915, 854391781, 953972748, 130700365, 732046487, 341923245, 95697728, 164619653, 90474761, 622232906]"
   ]
  },
  {
   "cell_type": "code",
   "execution_count": 7,
   "metadata": {},
   "outputs": [],
   "source": [
    "def simple_dot(x,y):\n",
    "    k = 0\n",
    "    A = 0\n",
    "    for i in range(20):\n",
    "        #print(x[i])\n",
    "        A = A +((x[i])*y[i])%m\n",
    "    return(A%m)"
   ]
  },
  {
   "cell_type": "markdown",
   "metadata": {},
   "source": [
    "Now we define the 4 hash fucntions, that will actually be the same but with different coefficients given by the vectors we just defined."
   ]
  },
  {
   "cell_type": "code",
   "execution_count": 8,
   "metadata": {},
   "outputs": [],
   "source": [
    "def Hash1(x): \n",
    "    vec = []\n",
    "    for i in x:\n",
    "        vec.append(ord(i))\n",
    "    return (simple_dot(vec,vector1))\n"
   ]
  },
  {
   "cell_type": "code",
   "execution_count": 9,
   "metadata": {},
   "outputs": [],
   "source": [
    "def Hash2(x): \n",
    "    vec = []\n",
    "    for i in x:\n",
    "        vec.append(ord(i))\n",
    "    return (simple_dot(vec,vector2))"
   ]
  },
  {
   "cell_type": "code",
   "execution_count": 10,
   "metadata": {},
   "outputs": [],
   "source": [
    "def Hash3(x): \n",
    "    vec = []\n",
    "    for i in x:\n",
    "        vec.append(ord(i))\n",
    "    return (simple_dot(vec,vector3))"
   ]
  },
  {
   "cell_type": "code",
   "execution_count": 11,
   "metadata": {},
   "outputs": [],
   "source": [
    "def Hash4(x): \n",
    "    vec = []\n",
    "    for i in x:\n",
    "        vec.append(ord(i))\n",
    "    return (simple_dot(vec,vector4))"
   ]
  },
  {
   "cell_type": "code",
   "execution_count": 12,
   "metadata": {},
   "outputs": [],
   "source": [
    "def Hash5(x): \n",
    "    vec = []\n",
    "    for i in x:\n",
    "        vec.append(ord(i))\n",
    "    return (simple_dot(vec,vector5))"
   ]
  },
  {
   "cell_type": "code",
   "execution_count": 13,
   "metadata": {},
   "outputs": [],
   "source": [
    "def Hash6(x): \n",
    "    vec = []\n",
    "    for i in x:\n",
    "        vec.append(ord(i))\n",
    "    return (simple_dot(vec,vector6))"
   ]
  },
  {
   "cell_type": "code",
   "execution_count": 14,
   "metadata": {},
   "outputs": [],
   "source": [
    "def Hash7(x): \n",
    "    vec = []\n",
    "    for i in x:\n",
    "        vec.append(ord(i))\n",
    "    return (simple_dot(vec,vector7))"
   ]
  },
  {
   "cell_type": "code",
   "execution_count": 14,
   "metadata": {},
   "outputs": [],
   "source": [
    "import time, sys\n",
    "from IPython.display import clear_output\n",
    "\n",
    "def update_progress(progress):\n",
    "    bar_length = 20\n",
    "    if isinstance(progress, int):\n",
    "        progress = float(progress)\n",
    "    if not isinstance(progress, float):\n",
    "        progress = 0\n",
    "    if progress < 0:\n",
    "        progress = 0\n",
    "    if progress >= 1:\n",
    "        progress = 1\n",
    "\n",
    "    block = int(round(bar_length * progress))\n",
    "\n",
    "    clear_output(wait = True)\n",
    "    text = \"Progress: [{0}] {1:.1f}%\".format( \"#\" * block + \"-\" * (bar_length - block), progress * 100)\n",
    "    print(text)"
   ]
  },
  {
   "cell_type": "markdown",
   "metadata": {},
   "source": [
    "Now that I have 4 Hash functions I need to build the bloom filter!"
   ]
  },
  {
   "cell_type": "code",
   "execution_count": 21,
   "metadata": {},
   "outputs": [],
   "source": [
    "import time\n",
    "def BloomFilter(passwords1, passwords2):\n",
    "    start = time.time()\n",
    "    filtr = [0]*m #here m. the module\n",
    "    probably = 0\n",
    "    n = 0\n",
    "    k = 0\n",
    "    ppos = []\n",
    "    #first i put in my filter all the password from passwords1, signing with a 1 the components where there is something\n",
    "    with open(passwords1) as infile:\n",
    "        for line in infile:\n",
    "            item = line.replace('\\n','')\n",
    "            filtr[Hash1(item)] = 1\n",
    "            filtr[Hash2(item)] = 1\n",
    "            filtr[Hash3(item)] = 1\n",
    "            filtr[Hash4(item)] = 1\n",
    "            filtr[Hash5(item)] = 1\n",
    "            filtr[Hash6(item)] = 1\n",
    "            filtr[Hash7(item)] = 1\n",
    "            #n = n+1\n",
    "            #if n == 1000000:\n",
    "                #break\n",
    "    #now that every password from df passwords1 is inside, we have to put the new ones and count homw many are probably duplicates\n",
    "    with open(passwords2) as infile:\n",
    "        for line in infile:\n",
    "            item = line.replace('\\n','')\n",
    "            if filtr[Hash1(item)] == 1:\n",
    "                if filtr[Hash2(item)] == 1:\n",
    "                    if filtr[Hash3(item)] == 1:\n",
    "                        if filtr[Hash4(item)] == 1:\n",
    "                            if filtr[Hash5(item)] == 1:\n",
    "                                if filtr[Hash6(item)] == 1:\n",
    "                                    if filtr[Hash7(item)] == 1:\n",
    "                                        probably = probably + 1\n",
    "                                        ppos.append(item)\n",
    "           # k = k+1\n",
    "            #if k == 390000:\n",
    "                #break\n",
    "    end = time.time()\n",
    "    #for the probability of false positive I build the model from the passwords1 size and i false positive rate i wanted, so it's 7%\n",
    "    print('Number of hash function used: ', 7)\n",
    "    print('Number of duplicates detected: ', probably)\n",
    "    print('Probability of false positives: ', 0.01)\n",
    "    print('Execution time: ', end-start)\n",
    "    return ppos"
   ]
  },
  {
   "cell_type": "code",
   "execution_count": 22,
   "metadata": {
    "scrolled": false
   },
   "outputs": [
    {
     "name": "stdout",
     "output_type": "stream",
     "text": [
      "Number of hash function used:  7\n",
      "Number of duplicates detected:  14251586\n",
      "Probability of false positives:  0.01\n",
      "Execution time:  4720.218661308289\n"
     ]
    }
   ],
   "source": [
    "ppos = BloomFilter('passwords1.txt', 'passwords2.txt')"
   ]
  },
  {
   "cell_type": "markdown",
   "metadata": {},
   "source": [
    "In minutes the execution time is 78,6."
   ]
  },
  {
   "cell_type": "code",
   "execution_count": 23,
   "metadata": {},
   "outputs": [
    {
     "data": {
      "text/plain": [
       "['oZs,l!:b4LqHC#y\"S.?m',\n",
       " 'MK!<6d4g2icTLHkD9W1R',\n",
       " 'i;.TLnR=%\"cgp+)xJ>\\'K',\n",
       " '#>Vy=zMk\\'?1R);I\"$JgG',\n",
       " 'V\"qaR6%4#j28puXe0@JO',\n",
       " 'zg\"mI,H2RZi5uXMr9JD6',\n",
       " '&hlowGC(SW-%c6Hu7)=/',\n",
       " ':e08)PxS*WfIRQ?6GY9p',\n",
       " 'lbKwjIm?%25GVC+tuL8f',\n",
       " 'NyXu0!\".,QK&wt%s)SF;',\n",
       " '6Y:J/$mdaTGCU9cNqMEi',\n",
       " '2saZzxo6wpM(0=QRjL#g',\n",
       " '6AXcoMpuOGy0\\'3\"/h?!a',\n",
       " 'Gt=0uT%hpj@qn<8MRvVW',\n",
       " '&1gmC5clnBjfhNsqrUJt',\n",
       " '%4#$9*Mf>kUWITpbozEh',\n",
       " 'kEC2rXpLzBtgO-SbsaDR',\n",
       " 'AmpV=k.QKcsb-Dj9%5#E',\n",
       " '$cMuT-5Qf:zYV=2gka;i',\n",
       " '\"a<f?Fb&Etx/=C#wo3RU',\n",
       " '4P2i1je:,T3sbh9?yv(5',\n",
       " 'C6/s7vIkBTLQeVrEZ5j%',\n",
       " 'C1u.0pBkcRz5)KS6x(>4',\n",
       " 'kB,;0\"1t7@Z).w=?Vh$p',\n",
       " 'qL7-l@9PF!/sc)nO1,Na',\n",
       " 'F!O1;:v%E.Y06w4#J+Hb',\n",
       " 'wvprCgAMDHKNxVkYU6t.',\n",
       " 'iH=r:49(O7E,cCyvF2%<',\n",
       " 'cXhUFyNVZD#S(z.=&k6$',\n",
       " \"F'q0AOs-Ji;#*X,9w)ng\",\n",
       " '4MHt&G*hA%e0fjxN,:Sl',\n",
       " 'Dl*LTo7cK?#%C>!bJZ4e',\n",
       " '9wlzK<(-#M%WSA)You7x',\n",
       " 'UJt4g#\"zMi><@EF$C/*n',\n",
       " '%<V#gU\"1hPDjCHdk2*JI',\n",
       " \"S5*1CKy9NA=fDB4'v)?k\",\n",
       " 'xqZHgyAkOUWKlL.o:rc$',\n",
       " \"(jZN9HQdWz'=KACo30y:\",\n",
       " \"P(o:eUD*QSqvpi'x0R4z\",\n",
       " 'Ahn?#KX;VNyrl(Zj8t6>',\n",
       " '9E$<Q\"O8e./n;,b*\\'wxu',\n",
       " 'z-1(3?YA,Xq*Usvp/E9>',\n",
       " 'A@?rk:(uF>d&UvJ3nK.s',\n",
       " '/Q<K!W;6,bEP*tJSo%uj',\n",
       " 'jZUS/+6uoA9b2NEnXHx:',\n",
       " 'rh/4%ZA2e7W=>z)&MoEB',\n",
       " '1SDe(r4-VaHkBU<2W?)T',\n",
       " 'fdp1$&i/v\"qR>IBkFb-5',\n",
       " '7@;>xK\"6Ic#u!lqr*ZA:',\n",
       " 'T9H<!v;7hcC\\'q\"uFEMY/',\n",
       " 'Am%RGVP3Y9W?K@J<Qn6u',\n",
       " 'j,>1z!f*OophcH/txr.k',\n",
       " 'lyugfk3v.1:a;>irwRz9',\n",
       " 'X);waqoMWPrgA\"1sfc,5',\n",
       " ':\"*6GJPzh&qbp5l2dUR;',\n",
       " \"<JjKRl&-'H)FVcP,f*W7\",\n",
       " '+oQCHzLFVPOZYu*@k2%>',\n",
       " 's\\'6Mi=4E;+>#SpC0uH\"9',\n",
       " '*w-0JKqL9p,Okoj+lSv2',\n",
       " \"'H4>On2y:dM+mFI.VrXY\",\n",
       " 'Fy*gw%\"VM4orZf3#1k5d',\n",
       " 'TSpefanG9,?lums53R@7',\n",
       " 'JP(s3RCtoh1upyn9,;k4',\n",
       " 'GDNU,%(Qh>+$b*F-Lzxc',\n",
       " 'fbD&=Op$Zl43I0jAqmTB',\n",
       " 'O*=&sniT/rRCukmxc:A<',\n",
       " 'B-sth7(:bm+i;qVeR5,?',\n",
       " \"*i'UVN.k1n!,jRw:pt/d\",\n",
       " \".YMT+fr2='tP79&4)!Cj\",\n",
       " '5se>=\"qCd0kE%L$(TY\\';',\n",
       " '>t=zZsi24:8X<wgIGM$\"',\n",
       " 'Pw0fCkXIRsTeH=iVaYgZ',\n",
       " '4\"6bcG/p:F0SO;3y*7XE',\n",
       " 'E1qwftC>;G4<YFbix7Pg',\n",
       " \"7/wtASa3B&ZD'*#QNzVJ\",\n",
       " '3d5Fbt,$NhprCmn)0*QW',\n",
       " \"?jhtL,C/15.l2E(iJbS'\",\n",
       " ')=>RUblHuk<PLeB7IK$Y',\n",
       " 'z1;N*9F?@p#jt20+UbGS',\n",
       " \"DM>+m'PV4Ca0=i!*ctF,\",\n",
       " 'CSK#s4=NMHhep!Z+cLO)',\n",
       " \"u1Bjh7V'HJ%pw(Po/KY0\",\n",
       " \"c5oHS=b8Yl/+dD'g7&nt\",\n",
       " \"U0mw15<V'z;iD-EgF(9L\",\n",
       " 'ZchpLO)5KE(k:MzFn;mC',\n",
       " '\"?ndwCf,qU5Q!>2T-J;3',\n",
       " 'xLZO&it7AW@.g4mhQ*!,',\n",
       " 'TqRcIE!9Pi=>\\'\";xX?DB',\n",
       " 'TnwqiruFzHVx/EPR:s4k',\n",
       " 'nm>b8dr-C/U+A(i91<Lw',\n",
       " 'o7hl*!kPenw8xJjIDf=F',\n",
       " '!2WVP9/(NOhbdI?)ma;n',\n",
       " '0Pa*xv.Z57XpCy842V)@',\n",
       " 'e7D0?rEUSWqlV+g(kLh!',\n",
       " '271Nk.!#hY\"$Rb6?jTac',\n",
       " 'AT14!\"%u.xd-i7M,X*kj',\n",
       " 'CoU<76I!1?r8*SGT>k:-',\n",
       " 'ibg\".R(LCwYFW)*Kp6<#',\n",
       " 'a-Zm?zxg7.:\"1jU/ctb&']"
      ]
     },
     "execution_count": 23,
     "metadata": {},
     "output_type": "execute_result"
    }
   ],
   "source": [
    "ppos[1:100]"
   ]
  },
  {
   "cell_type": "markdown",
   "metadata": {},
   "source": [
    "18:39"
   ]
  },
  {
   "cell_type": "markdown",
   "metadata": {},
   "source": [
    "Now we will modify a little the bloom filter to asnwer the bonus question about the exact number of false positives."
   ]
  },
  {
   "cell_type": "code",
   "execution_count": 25,
   "metadata": {},
   "outputs": [
    {
     "ename": "KeyboardInterrupt",
     "evalue": "",
     "output_type": "error",
     "traceback": [
      "\u001b[1;31m---------------------------------------------------------------------------\u001b[0m",
      "\u001b[1;31mKeyboardInterrupt\u001b[0m                         Traceback (most recent call last)",
      "\u001b[1;32m<ipython-input-25-2aa762cf35db>\u001b[0m in \u001b[0;36m<module>\u001b[1;34m\u001b[0m\n\u001b[0;32m      3\u001b[0m         \u001b[1;32mfor\u001b[0m \u001b[0mline\u001b[0m \u001b[1;32min\u001b[0m \u001b[0minfile\u001b[0m\u001b[1;33m:\u001b[0m\u001b[1;33m\u001b[0m\u001b[1;33m\u001b[0m\u001b[0m\n\u001b[0;32m      4\u001b[0m             \u001b[1;32mif\u001b[0m \u001b[0mline\u001b[0m\u001b[1;33m.\u001b[0m\u001b[0mreplace\u001b[0m\u001b[1;33m(\u001b[0m\u001b[1;34m'\\n'\u001b[0m\u001b[1;33m,\u001b[0m\u001b[1;34m''\u001b[0m\u001b[1;33m)\u001b[0m \u001b[1;32min\u001b[0m \u001b[0mppos\u001b[0m\u001b[1;33m:\u001b[0m\u001b[1;33m\u001b[0m\u001b[1;33m\u001b[0m\u001b[0m\n\u001b[1;32m----> 5\u001b[1;33m                 \u001b[0mcount\u001b[0m \u001b[1;33m=\u001b[0m \u001b[0mcount\u001b[0m \u001b[1;33m+\u001b[0m \u001b[1;36m1\u001b[0m\u001b[1;33m\u001b[0m\u001b[1;33m\u001b[0m\u001b[0m\n\u001b[0m\u001b[0;32m      6\u001b[0m \u001b[0mprint\u001b[0m\u001b[1;33m(\u001b[0m\u001b[1;34m'The actual number of false positives is: '\u001b[0m\u001b[1;33m,\u001b[0m \u001b[1;36m14251586\u001b[0m\u001b[1;33m-\u001b[0m\u001b[0mcount\u001b[0m\u001b[1;33m)\u001b[0m\u001b[1;33m\u001b[0m\u001b[1;33m\u001b[0m\u001b[0m\n\u001b[0;32m      7\u001b[0m \u001b[0mprint\u001b[0m\u001b[1;33m(\u001b[0m\u001b[1;34m'The actual probability of false positive is: '\u001b[0m\u001b[1;33m,\u001b[0m \u001b[1;33m(\u001b[0m\u001b[1;36m1\u001b[0m \u001b[1;33m-\u001b[0m \u001b[0mcount\u001b[0m\u001b[1;33m//\u001b[0m\u001b[1;36m14251586\u001b[0m\u001b[1;33m)\u001b[0m\u001b[1;33m)\u001b[0m\u001b[1;33m\u001b[0m\u001b[1;33m\u001b[0m\u001b[0m\n",
      "\u001b[1;31mKeyboardInterrupt\u001b[0m: "
     ]
    }
   ],
   "source": [
    "count = 0\n",
    "with open('passwords1.txt') as infile:\n",
    "        for line in infile:\n",
    "            if line.replace('\\n','') in ppos:\n",
    "                count = count + 1\n",
    "print('The actual number of false positives is: ', 14251586-count)  \n",
    "print('The actual probability of false positive is: ', (1 - count//14251586))\n",
    "    "
   ]
  },
  {
   "cell_type": "code",
   "execution_count": 47,
   "metadata": {},
   "outputs": [],
   "source": [
    "import time\n",
    "def BloomFilter2(passwords1, passwords2):\n",
    "    n = 0\n",
    "    k = 0\n",
    "    start = time.time()\n",
    "    filtr = [0]*m #here m. the module\n",
    "    false_pos = 0\n",
    "    #first i put in my filter all the password from passwords1, signing with a 1 the components where there is something\n",
    "    dic_hash1 = {}\n",
    "    with open(passwords1) as infile:\n",
    "        for line in infile:\n",
    "            item = line.replace('\\n','')\n",
    "            A = Hash1(item)\n",
    "            filtr[A] = 1\n",
    "            try:\n",
    "                dic_hash1[A].append(item)\n",
    "            except KeyError:\n",
    "                dic_hash1[A] = [item]\n",
    "            filtr[Hash2(item)] = 1\n",
    "            filtr[Hash3(item)] = 1\n",
    "            filtr[Hash4(item)] = 1\n",
    "            filtr[Hash5(item)] = 1\n",
    "            filtr[Hash6(item)] = 1\n",
    "            filtr[Hash7(item)] = 1\n",
    "            n = n+1\n",
    "            if n == 1000000:\n",
    "                break\n",
    "    #now that every password from df passwords1 is inside, we have to put the new ones and count homw many are probably duplicates\n",
    "    with open(passwords2) as infile:\n",
    "        for line in infile:\n",
    "            item = line.replace('\\n','')\n",
    "            A = Hash1(item)\n",
    "            if filtr[Hash1(item)] == 1:\n",
    "                if filtr[Hash2(item)] == 1:\n",
    "                    if filtr[Hash3(item)] == 1:\n",
    "                        if filtr[Hash4(item)] == 1:\n",
    "                            if filtr[Hash5(item)] == 1:\n",
    "                                if filtr[Hash6(item)] == 1:\n",
    "                                    if filtr[Hash7(item)] == 1:\n",
    "                                        if item not in dic_hash1[A]:\n",
    "                                            false_pos = false_pos + 1\n",
    "            k = k+1\n",
    "            if k == 390000:\n",
    "                break\n",
    "    end = time.time()\n",
    "    #for the probability of false positive I build the model from the passwords1 size and i false positive rate i wanted, so it's 7%\n",
    "    print('Number of hash function used: ', 4)\n",
    "    print('Number of false positives: ', false_pos)\n",
    "    print('Theoretical probability of false positives: ', 0.07)\n",
    "    print('Actual false positives probability', false_pos/300000) #PUT HERE THE NUMBER OF PROBABLY POSITIVE OF BLOOMFILTER\n",
    "    print('Execution time: ', end-start)\n",
    "    return "
   ]
  },
  {
   "cell_type": "code",
   "execution_count": 48,
   "metadata": {
    "scrolled": false
   },
   "outputs": [
    {
     "name": "stdout",
     "output_type": "stream",
     "text": [
      "Number of hash function used:  4\n",
      "Number of false positives:  0\n",
      "Theoretical probability of false positives:  0.07\n",
      "Actual false positives probability 0.0\n",
      "Execution time:  236.54372000694275\n"
     ]
    }
   ],
   "source": [
    "BloomFilter2('passwords1.txt', 'passwords2.txt')"
   ]
  }
 ],
 "metadata": {
  "kernelspec": {
   "display_name": "Python 3",
   "language": "python",
   "name": "python3"
  },
  "language_info": {
   "codemirror_mode": {
    "name": "ipython",
    "version": 3
   },
   "file_extension": ".py",
   "mimetype": "text/x-python",
   "name": "python",
   "nbconvert_exporter": "python",
   "pygments_lexer": "ipython3",
   "version": "3.7.5"
  }
 },
 "nbformat": 4,
 "nbformat_minor": 2
}
