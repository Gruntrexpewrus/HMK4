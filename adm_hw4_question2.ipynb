{
 "cells": [
  {
   "cell_type": "code",
   "execution_count": null,
   "metadata": {},
   "outputs": [],
   "source": [
    "<h1> Counting  </h1>"
   ]
  },
  {
   "cell_type": "code",
   "execution_count": 13,
   "metadata": {},
   "outputs": [],
   "source": [
    "#import libraries\n",
    "import pandas as pd\n",
    "import sys\n",
    "import string\n",
    "from collections import Counter"
   ]
  },
  {
   "cell_type": "code",
   "execution_count": 14,
   "metadata": {
    "scrolled": true
   },
   "outputs": [
    {
     "name": "stdout",
     "output_type": "stream",
     "text": [
      "w\n",
      "e\n",
      "r\n",
      "r\n",
      "t\n",
      "\n"
     ]
    }
   ],
   "source": [
    "#create an empty list and keep appending the input of alphabets to the list until :\n",
    "#1. an empty input occurs\n",
    "#2. the length of input is greater than 1\n",
    "#3. the input is a number\n",
    "alphabet_lst = []\n",
    "while True:\n",
    "    inp = input()\n",
    "    if inp == \"\" or len(inp) > 1 or inp.isdigit() == True:    break\n",
    "    alphabet_lst.append(inp)"
   ]
  },
  {
   "cell_type": "code",
   "execution_count": 15,
   "metadata": {},
   "outputs": [
    {
     "data": {
      "text/plain": [
       "['w', 'e', 'r', 'r', 't']"
      ]
     },
     "execution_count": 15,
     "metadata": {},
     "output_type": "execute_result"
    }
   ],
   "source": [
    "alphabet_lst"
   ]
  },
  {
   "cell_type": "code",
   "execution_count": 16,
   "metadata": {},
   "outputs": [],
   "source": [
    "#create a dictionary of all alphabets mapping to numbers\n",
    "alpha_dict = dict(zip(string.ascii_lowercase, range(0,26)))"
   ]
  },
  {
   "cell_type": "code",
   "execution_count": 17,
   "metadata": {
    "scrolled": true
   },
   "outputs": [
    {
     "data": {
      "text/plain": [
       "{'a': 0,\n",
       " 'b': 1,\n",
       " 'c': 2,\n",
       " 'd': 3,\n",
       " 'e': 4,\n",
       " 'f': 5,\n",
       " 'g': 6,\n",
       " 'h': 7,\n",
       " 'i': 8,\n",
       " 'j': 9,\n",
       " 'k': 10,\n",
       " 'l': 11,\n",
       " 'm': 12,\n",
       " 'n': 13,\n",
       " 'o': 14,\n",
       " 'p': 15,\n",
       " 'q': 16,\n",
       " 'r': 17,\n",
       " 's': 18,\n",
       " 't': 19,\n",
       " 'u': 20,\n",
       " 'v': 21,\n",
       " 'w': 22,\n",
       " 'x': 23,\n",
       " 'y': 24,\n",
       " 'z': 25}"
      ]
     },
     "execution_count": 17,
     "metadata": {},
     "output_type": "execute_result"
    }
   ],
   "source": [
    "alpha_dict"
   ]
  },
  {
   "cell_type": "code",
   "execution_count": 18,
   "metadata": {
    "scrolled": true
   },
   "outputs": [
    {
     "data": {
      "text/plain": [
       "26"
      ]
     },
     "execution_count": 18,
     "metadata": {},
     "output_type": "execute_result"
    }
   ],
   "source": [
    "#check the length of the dictionary of alphabets\n",
    "len(alpha_dict)"
   ]
  },
  {
   "cell_type": "code",
   "execution_count": 57,
   "metadata": {},
   "outputs": [],
   "source": [
    "def count_sort(alphabet_lst,alpha_dict):\n",
    "    #create an auxiliary list of size greater than \"alpha_dict\" holding initial values as 0\n",
    "    aux_lst = [0] * (len(alpha_dict)+1)\n",
    "    #traverse through the alphabet_lst and store the count of occurrence of each element in the appropriate index of \"aux_lst\"\n",
    "    for i in alphabet_lst:\n",
    "        aux_lst[alpha_dict[i]+1] = aux_lst[alpha_dict[i]+1] + 1\n",
    "    \n",
    "    #find the cumulative sum of the elements\n",
    "    cumul = {}\n",
    "    running_sum = 0\n",
    "    for index in range(len(alpha_dict)):\n",
    "        cumul[index] = running_sum\n",
    "        running_sum += aux_lst[index+1]\n",
    "    \n",
    "    #initialize the output list with zeros\n",
    "    output_lst = [0] * len(alphabet_lst)\n",
    "    for letter in alphabet_lst:\n",
    "        output_lst[cumul[alpha_dict[letter]]] = letter\n",
    "        cumul[alpha_dict[letter]] += 1\n",
    "    return output_lst"
   ]
  },
  {
   "cell_type": "code",
   "execution_count": 58,
   "metadata": {
    "scrolled": true
   },
   "outputs": [
    {
     "data": {
      "text/plain": [
       "['e', 'r', 'r', 't', 'w']"
      ]
     },
     "execution_count": 58,
     "metadata": {},
     "output_type": "execute_result"
    }
   ],
   "source": [
    "count_sort(alphabet_lst,alpha_dict)"
   ]
  },
  {
   "cell_type": "code",
   "execution_count": null,
   "metadata": {},
   "outputs": [],
   "source": []
  }
 ],
 "metadata": {
  "kernelspec": {
   "display_name": "Python 3",
   "language": "python",
   "name": "python3"
  },
  "language_info": {
   "codemirror_mode": {
    "name": "ipython",
    "version": 3
   },
   "file_extension": ".py",
   "mimetype": "text/x-python",
   "name": "python",
   "nbconvert_exporter": "python",
   "pygments_lexer": "ipython3",
   "version": "3.7.4"
  }
 },
 "nbformat": 4,
 "nbformat_minor": 2
}
