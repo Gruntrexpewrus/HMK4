{
 "cells": [
  {
   "cell_type": "markdown",
   "metadata": {},
   "source": [
    "# Homework 4 for ADM, group 23"
   ]
  },
  {
   "cell_type": "markdown",
   "metadata": {},
   "source": [
    "# Ex.1 Bloom filter + bonus # false positives"
   ]
  },
  {
   "cell_type": "code",
   "execution_count": 2,
   "metadata": {},
   "outputs": [
    {
     "name": "stdout",
     "output_type": "stream",
     "text": [
      "Number of passwords in passwords1.txt 100000000\n"
     ]
    }
   ],
   "source": [
    "i = 0\n",
    "with open(\"passwords1.txt\") as infile:\n",
    "    for line in infile:\n",
    "        i = i+1\n",
    "print('Number of passwords in passwords1.txt', i)"
   ]
  },
  {
   "cell_type": "code",
   "execution_count": 20,
   "metadata": {},
   "outputs": [
    {
     "name": "stdout",
     "output_type": "stream",
     "text": [
      "Number of passwords in passwords2.txt 39000000\n"
     ]
    }
   ],
   "source": [
    "i = 0\n",
    "with open(\"passwords2.txt\") as infile:\n",
    "    for line in infile:\n",
    "        i = i+1\n",
    "print('Number of passwords in passwords2.txt', i)"
   ]
  },
  {
   "cell_type": "code",
   "execution_count": 9,
   "metadata": {},
   "outputs": [
    {
     "data": {
      "text/plain": [
       "97"
      ]
     },
     "execution_count": 9,
     "metadata": {},
     "output_type": "execute_result"
    }
   ],
   "source": [
    "ord('a')"
   ]
  },
  {
   "cell_type": "markdown",
   "metadata": {},
   "source": [
    "We choose m(dimension of the future bit array) in respect of a $p =  0.01$ false positive rate that we will pose in the future bloom filter, so the module of the hash functions will the the first greater prime of 958505838.<br>\n",
    "The calulation for this are that $m = numberofpass*ln(p)/(ln2)^2$ and <br>$k = (m/n)ln2$.<br> From here we need the first prime greater than $m$ to be taken as module to create a series of hashing functions more general possible."
   ]
  },
  {
   "cell_type": "code",
   "execution_count": 14,
   "metadata": {
    "scrolled": true
   },
   "outputs": [
    {
     "data": {
      "text/plain": [
       "958505839"
      ]
     },
     "execution_count": 14,
     "metadata": {},
     "output_type": "execute_result"
    }
   ],
   "source": [
    "import sympy as s\n",
    "m = s.nextprime(958505838)\n",
    "m"
   ]
  },
  {
   "cell_type": "code",
   "execution_count": 3,
   "metadata": {},
   "outputs": [
    {
     "data": {
      "text/plain": [
       "827067896"
      ]
     },
     "execution_count": 3,
     "metadata": {},
     "output_type": "execute_result"
    }
   ],
   "source": [
    "import random\n",
    "random.randrange(m)"
   ]
  },
  {
   "cell_type": "markdown",
   "metadata": {},
   "source": [
    "We will create 4 hash functions, that we will later describe, the first thing we that I need 4 vectors with 20 components, all randomly generated in between 0 and m."
   ]
  },
  {
   "cell_type": "code",
   "execution_count": 4,
   "metadata": {},
   "outputs": [],
   "source": [
    "def randomizr(m): \n",
    "    vec = []\n",
    "    for i in range(20):\n",
    "        vec.append(random.randrange(m))\n",
    "    return vec\n"
   ]
  },
  {
   "cell_type": "code",
   "execution_count": 6,
   "metadata": {},
   "outputs": [
    {
     "name": "stdout",
     "output_type": "stream",
     "text": [
      "[238420765, 848925297, 784711979, 497093051, 95554829, 514988376, 892218180, 442524537, 607757090, 700296439, 596878981, 371686624, 439536567, 181541896, 635998009, 830467436, 782561980, 212875567, 392765566, 534916217] \n",
      " [667252919, 294923376, 857674523, 455499217, 487102145, 176035026, 223282253, 610577513, 707981282, 103967431, 812769808, 806736283, 479599574, 228782634, 441223920, 850329407, 434609601, 799716331, 671844433, 589053973] \n",
      " [399089958, 398452767, 51973215, 420884573, 883431994, 46306089, 445136725, 73819833, 460047188, 550915479, 840195322, 53305110, 523616283, 679027420, 164041420, 323692409, 850889656, 267436729, 530084757, 555947052] \n",
      " [360456327, 260340259, 556014589, 88632059, 675905187, 154700660, 558289546, 13412832, 496149736, 145965229, 410734023, 701177977, 523295721, 354015393, 31246611, 203541478, 811770871, 697524858, 38643469, 625709998] \n",
      " [198449539, 858931647, 111900049, 793153272, 72035689, 915892416, 386067109, 432145732, 786680161, 197524167, 560256363, 582699524, 801304152, 922568252, 471275982, 287382050, 691678402, 792317068, 475674805, 696631435] \n",
      " [897728679, 185242023, 563247529, 957415683, 275736323, 813059754, 874316063, 81158502, 858981714, 704621876, 782484058, 274547650, 73468298, 285239415, 467534053, 240265981, 85451921, 379450467, 815001741, 153710564] \n",
      " [667091761, 594599526, 417139662, 901299857, 576375979, 19784631, 532685751, 112057141, 475564085, 676246707, 478433915, 854391781, 953972748, 130700365, 732046487, 341923245, 95697728, 164619653, 90474761, 622232906]\n"
     ]
    }
   ],
   "source": [
    "vector1 = randomizr(m)\n",
    "vector2 = randomizr(m)\n",
    "vector3 = randomizr(m)\n",
    "vector4 = randomizr(m)\n",
    "vector5 = randomizr(m)\n",
    "vector6 = randomizr(m)\n",
    "vector7 = randomizr(m)\n",
    "print(vector1,'\\n',vector2, '\\n', vector3, '\\n', vector4,'\\n', vector5, '\\n', vector6,'\\n',vector7)\n",
    "#print(vector1 == vector2 or vector1==vector3 or vector1==vector4 or vector2 == vector3 or vector3==vector4)"
   ]
  },
  {
   "cell_type": "markdown",
   "metadata": {},
   "source": [
    "Now that the vectors are all different, to avoid changing them every time we run the file, we save the vectors with the values printed above. We did that to make explicit the uniform distribution to chooes those components."
   ]
  },
  {
   "cell_type": "code",
   "execution_count": 15,
   "metadata": {},
   "outputs": [],
   "source": [
    "vector1 = [238420765, 848925297, 784711979, 497093051, 95554829, 514988376, 892218180, 442524537, 607757090, 700296439, 596878981, 371686624, 439536567, 181541896, 635998009, 830467436, 782561980, 212875567, 392765566, 534916217]\n",
    "vector2 = [667252919, 294923376, 857674523, 455499217, 487102145, 176035026, 223282253, 610577513, 707981282, 103967431, 812769808, 806736283, 479599574, 228782634, 441223920, 850329407, 434609601, 799716331, 671844433, 589053973]\n",
    "vector3 = [399089958, 398452767, 51973215, 420884573, 883431994, 46306089, 445136725, 73819833, 460047188, 550915479, 840195322, 53305110, 523616283, 679027420, 164041420, 323692409, 850889656, 267436729, 530084757, 555947052]\n",
    "vector4 = [360456327, 260340259, 556014589, 88632059, 675905187, 154700660, 558289546, 13412832, 496149736, 145965229, 410734023, 701177977, 523295721, 354015393, 31246611, 203541478, 811770871, 697524858, 38643469, 625709998]\n",
    "vector5 = [198449539, 858931647, 111900049, 793153272, 72035689, 915892416, 386067109, 432145732, 786680161, 197524167, 560256363, 582699524, 801304152, 922568252, 471275982, 287382050, 691678402, 792317068, 475674805, 696631435]\n",
    "vector6 = [897728679, 185242023, 563247529, 957415683, 275736323, 813059754, 874316063, 81158502, 858981714, 704621876, 782484058, 274547650, 73468298, 285239415, 467534053, 240265981, 85451921, 379450467, 815001741, 153710564]\n",
    "vector7 = [667091761, 594599526, 417139662, 901299857, 576375979, 19784631, 532685751, 112057141, 475564085, 676246707, 478433915, 854391781, 953972748, 130700365, 732046487, 341923245, 95697728, 164619653, 90474761, 622232906]"
   ]
  },
  {
   "cell_type": "code",
   "execution_count": 16,
   "metadata": {},
   "outputs": [],
   "source": [
    "def simple_dot(x,y):\n",
    "    A = 0\n",
    "    for i in range(20):\n",
    "        #print(x[i])\n",
    "        A = A +((x[i])*y[i])%m\n",
    "    return(A%m)"
   ]
  },
  {
   "cell_type": "markdown",
   "metadata": {},
   "source": [
    "Now we define the 4 hash fucntions, that will actually be the same but with different coefficients given by the vectors we just defined."
   ]
  },
  {
   "cell_type": "code",
   "execution_count": 17,
   "metadata": {},
   "outputs": [],
   "source": [
    "def Hash1(x): \n",
    "    vec = []\n",
    "    for i in x:\n",
    "        vec.append(ord(i))\n",
    "    return (simple_dot(vec,vector1))"
   ]
  },
  {
   "cell_type": "code",
   "execution_count": 18,
   "metadata": {},
   "outputs": [],
   "source": [
    "def Hash2(x): \n",
    "    vec = []\n",
    "    for i in x:\n",
    "        vec.append(ord(i))\n",
    "    return (simple_dot(vec,vector2))"
   ]
  },
  {
   "cell_type": "code",
   "execution_count": 19,
   "metadata": {},
   "outputs": [],
   "source": [
    "def Hash3(x): \n",
    "    vec = []\n",
    "    for i in x:\n",
    "        vec.append(ord(i))\n",
    "    return (simple_dot(vec,vector3))"
   ]
  },
  {
   "cell_type": "code",
   "execution_count": 20,
   "metadata": {},
   "outputs": [],
   "source": [
    "def Hash4(x): \n",
    "    vec = []\n",
    "    for i in x:\n",
    "        vec.append(ord(i))\n",
    "    return (simple_dot(vec,vector4))"
   ]
  },
  {
   "cell_type": "code",
   "execution_count": 21,
   "metadata": {},
   "outputs": [],
   "source": [
    "def Hash5(x): \n",
    "    vec = []\n",
    "    for i in x:\n",
    "        vec.append(ord(i))\n",
    "    return (simple_dot(vec,vector5))"
   ]
  },
  {
   "cell_type": "code",
   "execution_count": 22,
   "metadata": {},
   "outputs": [],
   "source": [
    "def Hash6(x): \n",
    "    vec = []\n",
    "    for i in x:\n",
    "        vec.append(ord(i))\n",
    "    return (simple_dot(vec,vector6))"
   ]
  },
  {
   "cell_type": "code",
   "execution_count": 23,
   "metadata": {},
   "outputs": [],
   "source": [
    "def Hash7(x): \n",
    "    vec = []\n",
    "    for i in x:\n",
    "        vec.append(ord(i))\n",
    "    return (simple_dot(vec,vector7))"
   ]
  },
  {
   "cell_type": "markdown",
   "metadata": {},
   "source": [
    "Now that we have 7 Hash functions we need to build the bloom filter!"
   ]
  },
  {
   "cell_type": "code",
   "execution_count": 24,
   "metadata": {},
   "outputs": [],
   "source": [
    "import time\n",
    "def BloomFilter(passwords1, passwords2):\n",
    "    start = time.time()\n",
    "    filtr = [0]*m #here m the module\n",
    "    probably = 0\n",
    "    ppos = []\n",
    "    #first i put in my filter all the password from passwords1, signing with a 1 the components where there is something\n",
    "    with open(passwords1) as infile:\n",
    "        for line in infile:\n",
    "            item = line.replace('\\n','')\n",
    "            filtr[Hash1(item)] = 1\n",
    "            filtr[Hash2(item)] = 1\n",
    "            filtr[Hash3(item)] = 1\n",
    "            filtr[Hash4(item)] = 1\n",
    "            filtr[Hash5(item)] = 1\n",
    "            filtr[Hash6(item)] = 1\n",
    "            filtr[Hash7(item)] = 1\n",
    "    #now that every password from df passwords1 is inside, we have to put the new ones and count homw many are probably duplicates\n",
    "    with open(passwords2) as infile:\n",
    "        for line in infile:\n",
    "            item = line.replace('\\n','')\n",
    "            if filtr[Hash1(item)] == 1:\n",
    "                if filtr[Hash2(item)] == 1:\n",
    "                    if filtr[Hash3(item)] == 1:\n",
    "                        if filtr[Hash4(item)] == 1:\n",
    "                            if filtr[Hash5(item)] == 1:\n",
    "                                if filtr[Hash6(item)] == 1:\n",
    "                                    if filtr[Hash7(item)] == 1:\n",
    "                                        probably = probably + 1\n",
    "                                        #we created the ppso list to end the bonus part quickly without rerun the code\n",
    "                                        ppos.append(item)\n",
    "    end = time.time()\n",
    "    #for the probability of false positive we build the model from the passwords1 size and i false positive rate we wanted, so it's 1%\n",
    "    print('Number of hash function used: ', 7)\n",
    "    print('Number of duplicates detected: ', probably)\n",
    "    print('Probability of false positives: ', 0.01)\n",
    "    print('Execution time: ', end-start)\n",
    "    return ppos"
   ]
  },
  {
   "cell_type": "code",
   "execution_count": 25,
   "metadata": {},
   "outputs": [
    {
     "name": "stdout",
     "output_type": "stream",
     "text": [
      "Number of hash function used:  7\n",
      "Number of duplicates detected:  14251586\n",
      "Probability of false positives:  0.01\n",
      "Execution time:  4877.80882525444\n"
     ]
    }
   ],
   "source": [
    "ppos = BloomFilter('passwords1.txt', 'passwords2.txt')"
   ]
  },
  {
   "cell_type": "markdown",
   "metadata": {},
   "source": [
    "In minutes the execution time is 81.2, but if we hadn't used the ppos list it would have been 78,6 minutes."
   ]
  },
  {
   "cell_type": "markdown",
   "metadata": {},
   "source": [
    "## Bonus Part"
   ]
  },
  {
   "cell_type": "markdown",
   "metadata": {},
   "source": [
    "Now we put all the 100 million password1 in a list, sort them alphabetically with the python sorted() function and execute a binary search to find in a reasonable time the number of real and false positives in our bloom filter for passwords2.txt and check what real false positive rate we achieved!"
   ]
  },
  {
   "cell_type": "code",
   "execution_count": 7,
   "metadata": {},
   "outputs": [],
   "source": [
    "import csv\n",
    "Psw = []\n",
    "with open('passwords1.txt') as infile:\n",
    "        for line in infile:\n",
    "            lin = line.replace('\\n','')\n",
    "            Psw.append(lin)"
   ]
  },
  {
   "cell_type": "markdown",
   "metadata": {},
   "source": [
    "Before being sorted..."
   ]
  },
  {
   "cell_type": "code",
   "execution_count": 8,
   "metadata": {
    "scrolled": true
   },
   "outputs": [
    {
     "name": "stdout",
     "output_type": "stream",
     "text": [
      "JV#0$S;D@j+c96/8C(W% \n",
      " J,)e+LH'ENmdV5YGWu4B \n",
      " tR0V2@$SNuU9;<&DafxO\n"
     ]
    }
   ],
   "source": [
    "print(Psw[0], '\\n', Psw[1],'\\n', Psw[2])"
   ]
  },
  {
   "cell_type": "markdown",
   "metadata": {},
   "source": [
    "After bein sorted..."
   ]
  },
  {
   "cell_type": "code",
   "execution_count": 9,
   "metadata": {
    "scrolled": true
   },
   "outputs": [
    {
     "name": "stdout",
     "output_type": "stream",
     "text": [
      "!\"#$@wYz8=akSeyL&H4% \n",
      " !\"#$xCctIO)lT'S<-V+4 \n",
      " !\"#%GORX+eK)a1Dt>AT8\n"
     ]
    }
   ],
   "source": [
    "Psw = sorted(Psw)\n",
    "print(Psw[0], '\\n', Psw[1],'\\n', Psw[2])"
   ]
  },
  {
   "cell_type": "code",
   "execution_count": 28,
   "metadata": {},
   "outputs": [
    {
     "data": {
      "text/plain": [
       "100000000"
      ]
     },
     "execution_count": 28,
     "metadata": {},
     "output_type": "execute_result"
    }
   ],
   "source": [
    "len(Psw)"
   ]
  },
  {
   "cell_type": "markdown",
   "metadata": {},
   "source": [
    "Here the Binary search in a iterative fashion, because the recursive would generally reach the max depth."
   ]
  },
  {
   "cell_type": "code",
   "execution_count": 42,
   "metadata": {},
   "outputs": [],
   "source": [
    "#to define the binary i checked on wikipedia, but I already did the algo in my math degree and with Aris.\n",
    "def binary_s(vec, ln, val):\n",
    "    L = 0\n",
    "    R = ln-1\n",
    "    while L <= R:\n",
    "        m = ((L + R) // 2)\n",
    "        if vec[m] < val:\n",
    "            L = m + 1\n",
    "        elif vec[m] > val:\n",
    "            R = m - 1\n",
    "        else:\n",
    "            return 1\n",
    "    return 0"
   ]
  },
  {
   "cell_type": "markdown",
   "metadata": {},
   "source": [
    "Here the \"real thing\" of a performed binary search!"
   ]
  },
  {
   "cell_type": "code",
   "execution_count": 43,
   "metadata": {},
   "outputs": [
    {
     "name": "stdout",
     "output_type": "stream",
     "text": [
      "The number of passwords really in the dataset was:  14000000\n",
      "So the number of False Positive in our filter was:  251586\n",
      "Then the rate was actually:  0.01797042857142857\n",
      "All this in how many minutes? 3.305193479855855\n"
     ]
    }
   ],
   "source": [
    "import time\n",
    "start = time.time()\n",
    "tot = 0\n",
    "for i in ppos:\n",
    "    tot = tot + binary_s( Psw, 100000000, i)\n",
    "end = time.time()\n",
    "print(\"The number of passwords really in the dataset was: \", tot)\n",
    "print('So the number of False Positive in our filter was: ',14251586-tot)\n",
    "print('Then the rate was actually: ', (14251586-tot)/tot)\n",
    "print('All this in how many minutes?', (end-start)/60 )"
   ]
  },
  {
   "cell_type": "markdown",
   "metadata": {},
   "source": [
    "We wanted a false positive rate of 0.1, so we can consider yourselves satisfied!!!!"
   ]
  },
  {
   "cell_type": "markdown",
   "metadata": {},
   "source": [
    "# EX[2]"
   ]
  },
  {
   "cell_type": "markdown",
   "metadata": {},
   "source": [
    "## Part 1"
   ]
  },
  {
   "cell_type": "code",
   "execution_count": 1,
   "metadata": {},
   "outputs": [],
   "source": [
    "#import libraries\n",
    "import pandas as pd\n",
    "import sys\n",
    "import string\n",
    "from collections import Counter"
   ]
  },
  {
   "cell_type": "code",
   "execution_count": 2,
   "metadata": {},
   "outputs": [
    {
     "name": "stdout",
     "output_type": "stream",
     "text": [
      "Gimme a string of lettersAAKHVDVkjhdlkhflihve\n"
     ]
    },
    {
     "data": {
      "text/plain": [
       "['a',\n",
       " 'a',\n",
       " 'k',\n",
       " 'h',\n",
       " 'v',\n",
       " 'd',\n",
       " 'v',\n",
       " 'k',\n",
       " 'j',\n",
       " 'h',\n",
       " 'd',\n",
       " 'l',\n",
       " 'k',\n",
       " 'h',\n",
       " 'f',\n",
       " 'l',\n",
       " 'i',\n",
       " 'h',\n",
       " 'v',\n",
       " 'e']"
      ]
     },
     "execution_count": 2,
     "metadata": {},
     "output_type": "execute_result"
    }
   ],
   "source": [
    "Ask = input('Gimme a string of letters')\n",
    "letters = list(Ask.lower())\n",
    "letters"
   ]
  },
  {
   "cell_type": "code",
   "execution_count": 3,
   "metadata": {},
   "outputs": [],
   "source": [
    "#I am inspiring myself on the wikipedia page for the algo\n",
    "def CountingSort(alphabet, lis):\n",
    "    #first i need the max value and min value of the list, based on the aphabetical dictionary\n",
    "    max_al = alphabet[lis[0]]\n",
    "    min_al = alphabet[lis[0]]\n",
    "    min_l = max_l = 0\n",
    "    for i in range(len(lis)):\n",
    "        item = lis[i]\n",
    "        if alphabet[item] > max_al:\n",
    "            max_l = item\n",
    "            max_al = alphabet[max_l]\n",
    "            \n",
    "        elif alphabet[item]< min_al:\n",
    "            min_l = item\n",
    "            min_al = alphabet[min_l]\n",
    "            \n",
    "    #now i take an array of dimension max-min+1\n",
    "    array = [0]*(max_al - min_al + 2)\n",
    "    #Here i start counting each value in the list and putting it in the relative component of the array\n",
    "    for i in lis:\n",
    "        array[alphabet[i]-min_al+1] = array[alphabet[i]-min_al+1] + 1\n",
    "        #Now I sum the characters in row\n",
    "    for i in range(1,len(array)):\n",
    "        array[i] = array[i]+array[i-1]\n",
    "    #Now the real counting sort starts!\n",
    "    k = 0\n",
    "    new_l = [0]*len(lis)\n",
    "    for i in range(len(lis)):\n",
    "            item = alphabet[lis[i]]-min_al +1\n",
    "            new_l[array[item]-1] = lis[i]\n",
    "            array[item] = array[item] - 1\n",
    "    return new_l"
   ]
  },
  {
   "cell_type": "code",
   "execution_count": 4,
   "metadata": {},
   "outputs": [
    {
     "name": "stdout",
     "output_type": "stream",
     "text": [
      "Gimme a string of lettersAAdksjdlkfhvDGjsg\n"
     ]
    },
    {
     "data": {
      "text/plain": [
       "['a',\n",
       " 'a',\n",
       " 'd',\n",
       " 'd',\n",
       " 'd',\n",
       " 'f',\n",
       " 'g',\n",
       " 'g',\n",
       " 'h',\n",
       " 'j',\n",
       " 'j',\n",
       " 'k',\n",
       " 'k',\n",
       " 'l',\n",
       " 's',\n",
       " 's',\n",
       " 'v']"
      ]
     },
     "execution_count": 4,
     "metadata": {},
     "output_type": "execute_result"
    }
   ],
   "source": [
    "alpha_dict = dict(zip(string.ascii_lowercase, range(0,26)))\n",
    "alphabet_lst = ['a','z','z','h','j','a','h']\n",
    "Ask = input('Gimme a string of letters')\n",
    "letters = list(Ask.lower())\n",
    "CountingSort(alpha_dict, letters)"
   ]
  },
  {
   "cell_type": "markdown",
   "metadata": {},
   "source": [
    "## Part 2. Sort a permutated alphabet string and discuss complexity."
   ]
  },
  {
   "cell_type": "code",
   "execution_count": 5,
   "metadata": {},
   "outputs": [],
   "source": [
    "import numpy as np\n",
    "def Permutator(li):\n",
    "    for i in range(100):\n",
    "        A = np.random.randint(26)\n",
    "        B = np.random.randint(26)\n",
    "        aux = li[A]\n",
    "        li[A]= li[B]\n",
    "        li[B] = aux\n",
    "    return li"
   ]
  },
  {
   "cell_type": "markdown",
   "metadata": {},
   "source": [
    "Let's take a permutation of the alphabet(remember we use a lowercase alphabet)."
   ]
  },
  {
   "cell_type": "code",
   "execution_count": 6,
   "metadata": {
    "scrolled": true
   },
   "outputs": [
    {
     "data": {
      "text/plain": [
       "['u',\n",
       " 'g',\n",
       " 'f',\n",
       " 'l',\n",
       " 'd',\n",
       " 'y',\n",
       " 'z',\n",
       " 'x',\n",
       " 'v',\n",
       " 'e',\n",
       " 'r',\n",
       " 'm',\n",
       " 'a',\n",
       " 'k',\n",
       " 'i',\n",
       " 'w',\n",
       " 'p',\n",
       " 'q',\n",
       " 'n',\n",
       " 'o',\n",
       " 't',\n",
       " 'c',\n",
       " 's',\n",
       " 'b',\n",
       " 'h',\n",
       " 'j']"
      ]
     },
     "execution_count": 6,
     "metadata": {},
     "output_type": "execute_result"
    }
   ],
   "source": [
    "ex2 = list(string.ascii_lowercase)\n",
    "Permutator(ex2)\n",
    "ex2"
   ]
  },
  {
   "cell_type": "markdown",
   "metadata": {},
   "source": [
    "And here is sorted using the CountingSort defined before."
   ]
  },
  {
   "cell_type": "code",
   "execution_count": 7,
   "metadata": {},
   "outputs": [
    {
     "data": {
      "text/plain": [
       "['a',\n",
       " 'b',\n",
       " 'c',\n",
       " 'd',\n",
       " 'e',\n",
       " 'f',\n",
       " 'g',\n",
       " 'h',\n",
       " 'i',\n",
       " 'j',\n",
       " 'k',\n",
       " 'l',\n",
       " 'm',\n",
       " 'n',\n",
       " 'o',\n",
       " 'p',\n",
       " 'q',\n",
       " 'r',\n",
       " 's',\n",
       " 't',\n",
       " 'u',\n",
       " 'v',\n",
       " 'w',\n",
       " 'x',\n",
       " 'y',\n",
       " 'z']"
      ]
     },
     "execution_count": 7,
     "metadata": {},
     "output_type": "execute_result"
    }
   ],
   "source": [
    "alpha_dict = dict(zip(string.ascii_lowercase, range(0,26)))\n",
    "CountingSort(alpha_dict, ex2)"
   ]
  },
  {
   "cell_type": "markdown",
   "metadata": {},
   "source": [
    "# Let's discuss the Complexity"
   ]
  },
  {
   "cell_type": "markdown",
   "metadata": {},
   "source": [
    "The CountingSort is: <br>\n",
    "\n",
    "    def CountingSort(alphabet, lis):<br>\n",
    "        max_al = alphabet[lis[0]]  **Complexity O(1)**\n",
    "        min_al = alphabet[lis[0]]  **Complexity O(1)**\n",
    "        min_l = max_l = 0          **Complexity O(1)**\n",
    "        for i in range(len(lis)):  **Complexity O(k) { where k is the len of the input list(in this case 26)**\n",
    "            item = lis[i]          **Complexity O(1)** \n",
    "            if alphabet[item] > max_al:  **Complexity O(1){**\n",
    "                max_l = item       **Complexity O(1)**\n",
    "                max_al = alphabet[max_l]  **Complexity O(1)}**   \n",
    "            elif alphabet[item]< min_al:  **Complexity O(1){**\n",
    "                min_l = item  **Complexity O(1)**\n",
    "                min_al = alphabet[min_l]  **Complexity O(1) }}**         \n",
    "        array = [0]\\*(max_al - min_al + 2) **Complexity O(2)**\n",
    "        for i in lis:  **Complexity O(k)**\n",
    "            array[alphabet[i]-min_al+1] = array[alphabet[i]-min_al+1] + 1  **Complexity O(1)**\n",
    "        for i in range(1,len(array)): **Complexity O(c){ where c(max_al - min_al + 2) in this case of alphabet is 27**\n",
    "            array[i] = array[i]+array[i-1] **Complexity O(1)}** \n",
    "        k = 0  **Complexity O(1)**\n",
    "        new_l = [0]\\*len(lis) **Complexity O(k)**\n",
    "        for i in range(len(lis)):  **Complexity O(k){**\n",
    "            item = alphabet[lis[i]]-min_al +1  **Complexity O(2)**\n",
    "            new_l[array[item]-1] = lis[i]  **Complexity O(1)**\n",
    "            array[item] = array[item] - 1  **Complexity O(1)}**\n",
    "        return new_l "
   ]
  },
  {
   "cell_type": "markdown",
   "metadata": {},
   "source": [
    "So we would like to check that the algorithm respect the CountingSort complexity of $O(k+c)$ where k is the length of the list to order and c the distance between the max and min element + 1.\n",
    "Let's go!\n",
    "$f(k, c) = O(1) + O(1)+ O(1) + O(k(O(1)+O(1+2)+O(1+2)) + O(c) + O(k) + O(c) + O(1) + O(k) + O(k4)$ = <br>\n",
    "$O(k)+O(c)= O(k+c)$.\n",
    "We can say it's a perfect implemented CountingSort for list of letters.<br>\n",
    "In this case we can also say it's an ideal scenario, because I have a list with all 26 letters of alphabet and create a vector of 27 components(alwasy one more than the distance between nmax and min), and every component of the vector has 1, so we had created a vector with the sume equal to length -1, this means that the c is the ideal number of component, every other list will have a c that will get a worse quality vector with many 0 when it's created.<br>\n",
    "For example 'acd' will create intially a vector of [0,1,0,1,1] that is longer than the string, so using a alphabet list with all the letters(one time each or more is the same, it continue gaining performance because we have a little vector with all possible values) is a good case for the performance of the counting sort."
   ]
  },
  {
   "cell_type": "markdown",
   "metadata": {},
   "source": [
    "Well you asked empirically.. let's see what we can do, maybe getting a very long string !)"
   ]
  },
  {
   "cell_type": "code",
   "execution_count": 8,
   "metadata": {},
   "outputs": [],
   "source": [
    "import time\n",
    "#The same algo but with a timer inside to register performance\n",
    "def CountingSortEmpirically(alphabet, lis):\n",
    "    start = time.time()\n",
    "    #first i need the max value and min value of the list, based on the aphabetical dictionary\n",
    "    max_al = alphabet[lis[0]]\n",
    "    min_al = alphabet[lis[0]]\n",
    "    min_l = max_l = 0\n",
    "    for i in range(len(lis)):\n",
    "        item = lis[i]\n",
    "        if alphabet[item] > max_al:\n",
    "            max_l = item\n",
    "            max_al = alphabet[max_l]\n",
    "            \n",
    "        elif alphabet[item]< min_al:\n",
    "            min_l = item\n",
    "            min_al = alphabet[min_l]\n",
    "            \n",
    "    #now i take an array of dimension max-min+1\n",
    "    array = [0]*(max_al - min_al + 2)\n",
    "    #Here i start counting each value in the list and putting it in the relative component of the array\n",
    "    for i in lis:\n",
    "        array[alphabet[i]-min_al+1] = array[alphabet[i]-min_al+1] + 1\n",
    "        #Now I sum the characters in row\n",
    "    for i in range(1,len(array)):\n",
    "        array[i] = array[i]+array[i-1]\n",
    "    #Now the real counting sort starts!\n",
    "    k = 0\n",
    "    new_l = [0]*len(lis)\n",
    "    for i in range(len(lis)):\n",
    "            item = alphabet[lis[i]]-min_al +1\n",
    "            new_l[array[item]-1] = lis[i]\n",
    "            array[item] = array[item] - 1\n",
    "    end = time.time()\n",
    "    print('Time performance in seconds: ',end-start)\n",
    "    return new_l"
   ]
  },
  {
   "cell_type": "code",
   "execution_count": 9,
   "metadata": {},
   "outputs": [
    {
     "name": "stdout",
     "output_type": "stream",
     "text": [
      "Time performance in seconds:  0.0\n"
     ]
    },
    {
     "data": {
      "text/plain": [
       "['a',\n",
       " 'b',\n",
       " 'c',\n",
       " 'd',\n",
       " 'e',\n",
       " 'f',\n",
       " 'g',\n",
       " 'h',\n",
       " 'i',\n",
       " 'j',\n",
       " 'k',\n",
       " 'l',\n",
       " 'm',\n",
       " 'n',\n",
       " 'o',\n",
       " 'p',\n",
       " 'q',\n",
       " 'r',\n",
       " 's',\n",
       " 't',\n",
       " 'u',\n",
       " 'v',\n",
       " 'w',\n",
       " 'x',\n",
       " 'y',\n",
       " 'z']"
      ]
     },
     "execution_count": 9,
     "metadata": {},
     "output_type": "execute_result"
    }
   ],
   "source": [
    "#I remember the algo returns a new list and don't modify the one we want to order\n",
    "\n",
    "alpha_dict = dict(zip(string.ascii_lowercase, range(0,26)))\n",
    "CountingSortEmpirically(alpha_dict, ex2)"
   ]
  },
  {
   "cell_type": "markdown",
   "metadata": {},
   "source": [
    "But let's make stuff a lot more evil, let's see with a vector of dimension 25497498 eheheeheheh."
   ]
  },
  {
   "cell_type": "code",
   "execution_count": 10,
   "metadata": {},
   "outputs": [],
   "source": [
    "import numpy as np\n",
    "def PermutatorEvil(li,n):\n",
    "    for i in range(1938463):\n",
    "        A = np.random.randint(n)\n",
    "        B = np.random.randint(n)\n",
    "        aux = li[A]\n",
    "        li[A]= li[B]\n",
    "        li[B] = aux\n",
    "    return li\n",
    "ex2 = list(string.ascii_lowercase)*25497498\n",
    "eheh = PermutatorEvil(ex2, 297498)"
   ]
  },
  {
   "cell_type": "code",
   "execution_count": 11,
   "metadata": {},
   "outputs": [
    {
     "name": "stdout",
     "output_type": "stream",
     "text": [
      "Time performance in seconds:  302.5093297958374\n"
     ]
    }
   ],
   "source": [
    "alpha_dict = dict(zip(string.ascii_lowercase, range(0,26)))\n",
    "OilaIcantprint = CountingSortEmpirically(alpha_dict, ex2)"
   ]
  },
  {
   "cell_type": "markdown",
   "metadata": {},
   "source": [
    "Not bad 5 minutes for a 25 million components vector eh? UUUaahahahah"
   ]
  },
  {
   "cell_type": "markdown",
   "metadata": {},
   "source": [
    "## Part 3"
   ]
  },
  {
   "cell_type": "markdown",
   "metadata": {},
   "source": [
    "# EX[3]"
   ]
  },
  {
   "cell_type": "code",
   "execution_count": null,
   "metadata": {},
   "outputs": [],
   "source": []
  },
  {
   "cell_type": "code",
   "execution_count": null,
   "metadata": {},
   "outputs": [],
   "source": []
  },
  {
   "cell_type": "markdown",
   "metadata": {},
   "source": [
    "# EX[4]"
   ]
  },
  {
   "cell_type": "markdown",
   "metadata": {},
   "source": [
    "# Bad Points"
   ]
  },
  {
   "cell_type": "markdown",
   "metadata": {},
   "source": [
    "# Part 1: a distorsion treatment."
   ]
  },
  {
   "cell_type": "markdown",
   "metadata": {},
   "source": [
    "First we propose a little study on the distorsion we meet choosing not ideal points.\n",
    "For example we got a toy dataset (the code used for the kmeans is the strandard sklearn kmeans and we took inspiration from https://towardsdatascience.com/k-means-clustering-with-scikit-learn-6b47a369a83c article about how to do kmeans with sklearn)."
   ]
  },
  {
   "cell_type": "markdown",
   "metadata": {},
   "source": [
    "First let's take the toy set."
   ]
  },
  {
   "cell_type": "code",
   "execution_count": 13,
   "metadata": {},
   "outputs": [
    {
     "data": {
      "image/png": "[encoded data removed]",
      "text/plain": [
       "<Figure size 360x360 with 1 Axes>"
      ]
     },
     "metadata": {
      "needs_background": "light"
     },
     "output_type": "display_data"
    }
   ],
   "source": [
    "import matplotlib.pyplot as plt\n",
    "from sklearn.datasets import make_blobs\n",
    "#I put 35v centers to make a strange dataset to cluster\n",
    "# create dataset\n",
    "X, y = make_blobs(\n",
    "   n_samples=1000, n_features=2,\n",
    "   centers=35, cluster_std=0.5,\n",
    "   shuffle=True, random_state=0\n",
    ")\n",
    "\n",
    "# plot\n",
    "fig = plt.figure(figsize = (5,5))\n",
    "plt.scatter(\n",
    "   X[:, 0], X[:, 1],\n",
    "   c='white', marker='o',\n",
    "   edgecolor='black', s=50\n",
    ")\n",
    "plt.show()"
   ]
  },
  {
   "cell_type": "markdown",
   "metadata": {},
   "source": [
    "Now we will print first the distorsion starting from arbitrary centroids for 10 clusters, then using the usual kmeans of sklearn that takes the best on 10 trials.<br>\n",
    "Note the first number printed will be the distorsion with arbitrary bad points and the second the distorsion with an almost ideal kmeans."
   ]
  },
  {
   "cell_type": "code",
   "execution_count": 14,
   "metadata": {},
   "outputs": [
    {
     "name": "stdout",
     "output_type": "stream",
     "text": [
      "5613.937023085697 4531.996922628663\n"
     ]
    }
   ],
   "source": [
    "import numpy as np\n",
    "from sklearn.cluster import KMeans\n",
    "#Our bad kmeans with bad points\n",
    "km = KMeans(\n",
    "    n_clusters=10, init=np.array([[0.2,1],[0.3,1],[0.4,1],[0.5,1],[0.6,1],[0.7,1],[0.8,1],[0.9,1], [0.95,1], [0.1,1]]),\n",
    "    n_init=1, max_iter=300000, \n",
    "    tol=1e-04, random_state=0\n",
    ")\n",
    "y_km = km.fit_predict(X)\n",
    "import numpy as np\n",
    "from sklearn.cluster import KMeans\n",
    "\n",
    "#A good kmeans with ranodm points and 10 tries\n",
    "km2 = KMeans(\n",
    "    n_clusters=10, init= 'random',\n",
    "    n_init=10000, max_iter=300000, \n",
    "    tol=1e-04, random_state=0\n",
    ")\n",
    "y2_km = km2.fit_predict(X)\n",
    "\n",
    "A = km.fit(X)\n",
    "B = km2.fit(X)\n",
    "print(A.inertia_, B.inertia_)"
   ]
  },
  {
   "cell_type": "markdown",
   "metadata": {},
   "source": [
    "Now the same on 7 clusters!"
   ]
  },
  {
   "cell_type": "code",
   "execution_count": 15,
   "metadata": {},
   "outputs": [
    {
     "name": "stdout",
     "output_type": "stream",
     "text": [
      "7817.979996816344 7624.032273740174\n"
     ]
    }
   ],
   "source": [
    "import numpy as np\n",
    "from sklearn.cluster import KMeans\n",
    "\n",
    "km = KMeans(\n",
    "    n_clusters=7, init=np.array([[0.2,1],[0.3,1],[0.4,1],[0.5,1], [0.6,1],[0.7,1],[0.8,1]]),\n",
    "    n_init=1, max_iter=300000, \n",
    "    tol=1e-04, random_state=0\n",
    ")\n",
    "y_km = km.fit_predict(X)\n",
    "import numpy as np\n",
    "from sklearn.cluster import KMeans\n",
    "\n",
    "km2 = KMeans(\n",
    "    n_clusters=7, init= 'random',\n",
    "    n_init=10000, max_iter=300000, \n",
    "    tol=1e-04, random_state=0\n",
    ")\n",
    "y2_km = km2.fit_predict(X)\n",
    "\n",
    "A = km.fit(X)\n",
    "B = km2.fit(X)\n",
    "print(A.inertia_, B.inertia_)"
   ]
  },
  {
   "cell_type": "markdown",
   "metadata": {},
   "source": [
    "And now with 4 centroids."
   ]
  },
  {
   "cell_type": "code",
   "execution_count": 16,
   "metadata": {},
   "outputs": [
    {
     "name": "stdout",
     "output_type": "stream",
     "text": [
      "21937.454688076607 15952.976178703893\n"
     ]
    }
   ],
   "source": [
    "import numpy as np\n",
    "from sklearn.cluster import KMeans\n",
    "\n",
    "km = KMeans(\n",
    "    n_clusters=4, init=np.array([[0.2,1],[0.3,1],[0.4,1],[0.5,1]]),\n",
    "    n_init=1, max_iter=300000, \n",
    "    tol=1e-04, random_state=0\n",
    ")\n",
    "y_km = km.fit_predict(X)\n",
    "import numpy as np\n",
    "from sklearn.cluster import KMeans\n",
    "\n",
    "km2 = KMeans(\n",
    "    n_clusters=4, init= 'random',\n",
    "    n_init=10000, max_iter=300000, \n",
    "    tol=1e-04, random_state=0\n",
    ")\n",
    "y2_km = km2.fit_predict(X)\n",
    "\n",
    "A = km.fit(X)\n",
    "B = km2.fit(X)\n",
    "print(A.inertia_, B.inertia_)"
   ]
  },
  {
   "cell_type": "markdown",
   "metadata": {},
   "source": [
    "The distorsions changed a lot but actually we will point out that where all kinda similar in the ranges we expected, we can check it with the elbow method."
   ]
  },
  {
   "cell_type": "code",
   "execution_count": 17,
   "metadata": {},
   "outputs": [
    {
     "data": {
      "image/png": "[encoded data removed]",
      "text/plain": [
       "<Figure size 432x288 with 1 Axes>"
      ]
     },
     "metadata": {
      "needs_background": "light"
     },
     "output_type": "display_data"
    }
   ],
   "source": [
    "# calculate distortion for a range of number of cluster\n",
    "distortions = []\n",
    "for i in range(1, 11):\n",
    "    km = KMeans(\n",
    "        n_clusters=i, init='random',\n",
    "        n_init=10, max_iter=300,\n",
    "        tol=1e-04, random_state=0\n",
    "    )\n",
    "    km.fit(X)\n",
    "    distortions.append(km.inertia_)\n",
    "\n",
    "# plot\n",
    "plt.plot(range(1, 11), distortions, marker='o')\n",
    "plt.xlabel('Number of clusters')\n",
    "plt.ylabel('Distortion')\n",
    "plt.show()"
   ]
  },
  {
   "cell_type": "markdown",
   "metadata": {},
   "source": [
    "Finally we saw that bad initialization got in vary cases a very worse distiorsion, so the cost of the kmeans would grow more arbitrarly choosing bad points that will augment the distorsion and so the loops to get to a good acceptable result."
   ]
  },
  {
   "cell_type": "markdown",
   "metadata": {},
   "source": [
    "# Part 2: Careful we got into an infinite loop!"
   ]
  },
  {
   "cell_type": "markdown",
   "metadata": {},
   "source": [
    "Well we managed to make crash the algorithm with bad initialization. How?"
   ]
  },
  {
   "cell_type": "markdown",
   "metadata": {},
   "source": [
    "We selected points out of max and min of the dataset so we usually got that some centroids will have no item associated, so when comparing the minimum distance the algorithm will return a cluster with the nan values as distances ( as the minimum in a vector with numbers and nan is a nan), so by this procedure the algo will just get stuck in a infinite loop that will exchange the clusters eevry time without returning anything. We tought this was a good example of bad initialization because the algo takes random centroids, and with the following code the cost will explode and the algo will not give anything if not provided of method of solution(like selecting new centers when some centroids become nan)."
   ]
  },
  {
   "cell_type": "markdown",
   "metadata": {},
   "source": [
    "### We create a perfect dataframe and initialize far centroids to create a \"difficult\" situation for k-means (the following code is a different kmeans than in ex3, the same in practice but we wanted to show how two people in teh same group got similar but different kmeans)."
   ]
  },
  {
   "cell_type": "code",
   "execution_count": 18,
   "metadata": {},
   "outputs": [
    {
     "data": {
      "image/png": "[encoded data removed]",
      "text/plain": [
       "<Figure size 360x360 with 1 Axes>"
      ]
     },
     "metadata": {
      "needs_background": "light"
     },
     "output_type": "display_data"
    },
    {
     "name": "stdout",
     "output_type": "stream",
     "text": [
      "{1: [1, 1], 2: [2, 2], 3: [3, 3]}\n"
     ]
    }
   ],
   "source": [
    "import numpy as np\n",
    "import pandas as pd\n",
    "import matplotlib.pyplot as plt\n",
    "import copy\n",
    "%matplotlib inline\n",
    "\n",
    "# List of channels we want to access\n",
    "\n",
    "df = pd.DataFrame() \n",
    "c=[]\n",
    "for i in range(2):\n",
    "    cc=[]\n",
    "    for j in range(100):\n",
    "        a=0\n",
    "        if i==1:\n",
    "            a=1\n",
    "        else:\n",
    "            a=np.random.randint(80,100)\n",
    "        cc.append(a)\n",
    "    c.append(cc)\n",
    "\n",
    "df = pd.DataFrame({'f1':c[0], 'f2':c[1],})# 'f3':c[2],'f4':c[3], 'f5':c[4], 'f6':c[5]})\n",
    "df\n",
    "k = 3\n",
    "\n",
    "#centroids = {\n",
    "   # i+1:[np.random.uniform(0,1000), np.random.uniform(19,20)] for i in range(k)\n",
    "#}\n",
    "centroids = {1:[1,1], 2:[2,2], 3:[3,3]}#,4:[4,4]}\n",
    "fig = plt.figure(figsize = (5,5))\n",
    "plt.scatter(df['f1'], df['f2'], color = 'k')\n",
    "colmap = {1 :'r', 2 : 'g', 3 : 'b', 4 : 'm'}\n",
    "for i in centroids:\n",
    "    plt.scatter(*centroids[i], color = colmap[i])\n",
    "plt.xlim(0.1000)\n",
    "plt.ylim(0,20)\n",
    "plt.show()\n",
    "print(centroids)"
   ]
  },
  {
   "cell_type": "markdown",
   "metadata": {},
   "source": [
    "## Now it's time to move centroids and generate clusters.... if k-means is able!(Let's crash some codes baby)"
   ]
  },
  {
   "cell_type": "code",
   "execution_count": 19,
   "metadata": {},
   "outputs": [
    {
     "name": "stdout",
     "output_type": "stream",
     "text": [
      "{1: [nan, nan], 2: [nan, nan], 3: [89.64, 1.0]}\n"
     ]
    },
    {
     "data": {
      "image/png": "[encoded data removed]",
      "text/plain": [
       "<Figure size 360x360 with 1 Axes>"
      ]
     },
     "metadata": {
      "needs_background": "light"
     },
     "output_type": "display_data"
    },
    {
     "name": "stdout",
     "output_type": "stream",
     "text": [
      "{1: [89.64, 1.0], 2: [nan, nan], 3: [nan, nan]}\n"
     ]
    },
    {
     "data": {
      "image/png": "[encoded data removed]",
      "text/plain": [
       "<Figure size 360x360 with 1 Axes>"
      ]
     },
     "metadata": {
      "needs_background": "light"
     },
     "output_type": "display_data"
    },
    {
     "name": "stdout",
     "output_type": "stream",
     "text": [
      "{1: [nan, nan], 2: [89.64, 1.0], 3: [nan, nan]}\n"
     ]
    },
    {
     "data": {
      "image/png": "[encoded data removed]",
      "text/plain": [
       "<Figure size 360x360 with 1 Axes>"
      ]
     },
     "metadata": {
      "needs_background": "light"
     },
     "output_type": "display_data"
    },
    {
     "name": "stdout",
     "output_type": "stream",
     "text": [
      "{1: [89.64, 1.0], 2: [nan, nan], 3: [nan, nan]}\n"
     ]
    },
    {
     "data": {
      "image/png": "[encoded data removed]",
      "text/plain": [
       "<Figure size 360x360 with 1 Axes>"
      ]
     },
     "metadata": {
      "needs_background": "light"
     },
     "output_type": "display_data"
    },
    {
     "name": "stdout",
     "output_type": "stream",
     "text": [
      "{1: [nan, nan], 2: [89.64, 1.0], 3: [nan, nan]}\n"
     ]
    },
    {
     "data": {
      "image/png": "[encoded data removed]",
      "text/plain": [
       "<Figure size 360x360 with 1 Axes>"
      ]
     },
     "metadata": {
      "needs_background": "light"
     },
     "output_type": "display_data"
    },
    {
     "name": "stdout",
     "output_type": "stream",
     "text": [
      "{1: [89.64, 1.0], 2: [nan, nan], 3: [nan, nan]}\n"
     ]
    },
    {
     "data": {
      "image/png": "[encoded data removed]",
      "text/plain": [
       "<Figure size 360x360 with 1 Axes>"
      ]
     },
     "metadata": {
      "needs_background": "light"
     },
     "output_type": "display_data"
    },
    {
     "name": "stdout",
     "output_type": "stream",
     "text": [
      "{1: [nan, nan], 2: [89.64, 1.0], 3: [nan, nan]}\n"
     ]
    },
    {
     "data": {
      "image/png": "[encoded data removed]",
      "text/plain": [
       "<Figure size 360x360 with 1 Axes>"
      ]
     },
     "metadata": {
      "needs_background": "light"
     },
     "output_type": "display_data"
    },
    {
     "name": "stdout",
     "output_type": "stream",
     "text": [
      "{1: [89.64, 1.0], 2: [nan, nan], 3: [nan, nan]}\n"
     ]
    },
    {
     "data": {
      "image/png": "[encoded data removed]",
      "text/plain": [
       "<Figure size 360x360 with 1 Axes>"
      ]
     },
     "metadata": {
      "needs_background": "light"
     },
     "output_type": "display_data"
    },
    {
     "name": "stdout",
     "output_type": "stream",
     "text": [
      "{1: [nan, nan], 2: [89.64, 1.0], 3: [nan, nan]}\n"
     ]
    },
    {
     "data": {
      "image/png": "[encoded data removed]",
      "text/plain": [
       "<Figure size 360x360 with 1 Axes>"
      ]
     },
     "metadata": {
      "needs_background": "light"
     },
     "output_type": "display_data"
    },
    {
     "name": "stdout",
     "output_type": "stream",
     "text": [
      "{1: [89.64, 1.0], 2: [nan, nan], 3: [nan, nan]}\n"
     ]
    },
    {
     "data": {
      "image/png": "[encoded data removed]",
      "text/plain": [
       "<Figure size 360x360 with 1 Axes>"
      ]
     },
     "metadata": {
      "needs_background": "light"
     },
     "output_type": "display_data"
    },
    {
     "name": "stdout",
     "output_type": "stream",
     "text": [
      "{1: [nan, nan], 2: [89.64, 1.0], 3: [nan, nan]}\n"
     ]
    },
    {
     "data": {
      "image/png": "[encoded data removed]",
      "text/plain": [
       "<Figure size 360x360 with 1 Axes>"
      ]
     },
     "metadata": {
      "needs_background": "light"
     },
     "output_type": "display_data"
    },
    {
     "name": "stdout",
     "output_type": "stream",
     "text": [
      "{1: [89.64, 1.0], 2: [nan, nan], 3: [nan, nan]}\n"
     ]
    },
    {
     "data": {
      "image/png": "[encoded data removed]",
      "text/plain": [
       "<Figure size 360x360 with 1 Axes>"
      ]
     },
     "metadata": {
      "needs_background": "light"
     },
     "output_type": "display_data"
    },
    {
     "name": "stdout",
     "output_type": "stream",
     "text": [
      "{1: [nan, nan], 2: [89.64, 1.0], 3: [nan, nan]}\n"
     ]
    },
    {
     "data": {
      "image/png": "[encoded data removed]",
      "text/plain": [
       "<Figure size 360x360 with 1 Axes>"
      ]
     },
     "metadata": {
      "needs_background": "light"
     },
     "output_type": "display_data"
    },
    {
     "name": "stdout",
     "output_type": "stream",
     "text": [
      "{1: [89.64, 1.0], 2: [nan, nan], 3: [nan, nan]}\n"
     ]
    },
    {
     "data": {
      "image/png": "[encoded data removed]",
      "text/plain": [
       "<Figure size 360x360 with 1 Axes>"
      ]
     },
     "metadata": {
      "needs_background": "light"
     },
     "output_type": "display_data"
    },
    {
     "name": "stdout",
     "output_type": "stream",
     "text": [
      "{1: [nan, nan], 2: [89.64, 1.0], 3: [nan, nan]}\n"
     ]
    },
    {
     "data": {
      "image/png": "[encoded data removed]",
      "text/plain": [
       "<Figure size 360x360 with 1 Axes>"
      ]
     },
     "metadata": {
      "needs_background": "light"
     },
     "output_type": "display_data"
    },
    {
     "name": "stdout",
     "output_type": "stream",
     "text": [
      "{1: [89.64, 1.0], 2: [nan, nan], 3: [nan, nan]}\n"
     ]
    },
    {
     "ename": "KeyboardInterrupt",
     "evalue": "",
     "output_type": "error",
     "traceback": [
      "\u001b[1;31m---------------------------------------------------------------------------\u001b[0m",
      "\u001b[1;31mKeyboardInterrupt\u001b[0m                         Traceback (most recent call last)",
      "\u001b[1;32m<ipython-input-19-20c600e569c9>\u001b[0m in \u001b[0;36m<module>\u001b[1;34m\u001b[0m\n\u001b[0;32m     41\u001b[0m         \u001b[1;32mbreak\u001b[0m\u001b[1;33m\u001b[0m\u001b[1;33m\u001b[0m\u001b[0m\n\u001b[0;32m     42\u001b[0m     \u001b[0mfig\u001b[0m \u001b[1;33m=\u001b[0m \u001b[0mplt\u001b[0m\u001b[1;33m.\u001b[0m\u001b[0mfigure\u001b[0m\u001b[1;33m(\u001b[0m\u001b[0mfigsize\u001b[0m \u001b[1;33m=\u001b[0m \u001b[1;33m(\u001b[0m\u001b[1;36m5\u001b[0m\u001b[1;33m,\u001b[0m\u001b[1;36m5\u001b[0m\u001b[1;33m)\u001b[0m\u001b[1;33m)\u001b[0m\u001b[1;33m\u001b[0m\u001b[1;33m\u001b[0m\u001b[0m\n\u001b[1;32m---> 43\u001b[1;33m     \u001b[0max\u001b[0m \u001b[1;33m=\u001b[0m \u001b[0mplt\u001b[0m\u001b[1;33m.\u001b[0m\u001b[0maxes\u001b[0m\u001b[1;33m(\u001b[0m\u001b[1;33m)\u001b[0m\u001b[1;33m\u001b[0m\u001b[1;33m\u001b[0m\u001b[0m\n\u001b[0m\u001b[0;32m     44\u001b[0m     \u001b[0mcolmap\u001b[0m \u001b[1;33m=\u001b[0m \u001b[1;33m{\u001b[0m\u001b[1;36m1\u001b[0m \u001b[1;33m:\u001b[0m\u001b[1;34m'r'\u001b[0m\u001b[1;33m,\u001b[0m \u001b[1;36m2\u001b[0m \u001b[1;33m:\u001b[0m \u001b[1;34m'g'\u001b[0m\u001b[1;33m,\u001b[0m \u001b[1;36m3\u001b[0m \u001b[1;33m:\u001b[0m \u001b[1;34m'b'\u001b[0m\u001b[1;33m,\u001b[0m \u001b[1;36m4\u001b[0m \u001b[1;33m:\u001b[0m \u001b[1;34m'm'\u001b[0m\u001b[1;33m}\u001b[0m\u001b[1;33m\u001b[0m\u001b[1;33m\u001b[0m\u001b[0m\n\u001b[0;32m     45\u001b[0m     \u001b[0mplt\u001b[0m\u001b[1;33m.\u001b[0m\u001b[0mscatter\u001b[0m\u001b[1;33m(\u001b[0m\u001b[0mdf\u001b[0m\u001b[1;33m[\u001b[0m\u001b[1;34m'f1'\u001b[0m\u001b[1;33m]\u001b[0m\u001b[1;33m,\u001b[0m \u001b[0mdf\u001b[0m\u001b[1;33m[\u001b[0m\u001b[1;34m'f2'\u001b[0m\u001b[1;33m]\u001b[0m\u001b[1;33m,\u001b[0m \u001b[0malpha\u001b[0m \u001b[1;33m=\u001b[0m \u001b[1;36m0.7\u001b[0m\u001b[1;33m,\u001b[0m \u001b[0mcolor\u001b[0m \u001b[1;33m=\u001b[0m \u001b[0mdf\u001b[0m\u001b[1;33m[\u001b[0m\u001b[1;34m'color'\u001b[0m\u001b[1;33m]\u001b[0m\u001b[1;33m,\u001b[0m \u001b[0medgecolor\u001b[0m \u001b[1;33m=\u001b[0m \u001b[1;34m'k'\u001b[0m\u001b[1;33m)\u001b[0m\u001b[1;33m\u001b[0m\u001b[1;33m\u001b[0m\u001b[0m\n",
      "\u001b[1;32m~\\Anaconda3\\lib\\site-packages\\matplotlib\\pyplot.py\u001b[0m in \u001b[0;36maxes\u001b[1;34m(arg, **kwargs)\u001b[0m\n\u001b[0;32m    875\u001b[0m \u001b[1;33m\u001b[0m\u001b[0m\n\u001b[0;32m    876\u001b[0m     \u001b[1;32mif\u001b[0m \u001b[0marg\u001b[0m \u001b[1;32mis\u001b[0m \u001b[1;32mNone\u001b[0m\u001b[1;33m:\u001b[0m\u001b[1;33m\u001b[0m\u001b[1;33m\u001b[0m\u001b[0m\n\u001b[1;32m--> 877\u001b[1;33m         \u001b[1;32mreturn\u001b[0m \u001b[0msubplot\u001b[0m\u001b[1;33m(\u001b[0m\u001b[1;36m111\u001b[0m\u001b[1;33m,\u001b[0m \u001b[1;33m**\u001b[0m\u001b[0mkwargs\u001b[0m\u001b[1;33m)\u001b[0m\u001b[1;33m\u001b[0m\u001b[1;33m\u001b[0m\u001b[0m\n\u001b[0m\u001b[0;32m    878\u001b[0m     \u001b[1;32melse\u001b[0m\u001b[1;33m:\u001b[0m\u001b[1;33m\u001b[0m\u001b[1;33m\u001b[0m\u001b[0m\n\u001b[0;32m    879\u001b[0m         \u001b[1;32mreturn\u001b[0m \u001b[0mgcf\u001b[0m\u001b[1;33m(\u001b[0m\u001b[1;33m)\u001b[0m\u001b[1;33m.\u001b[0m\u001b[0madd_axes\u001b[0m\u001b[1;33m(\u001b[0m\u001b[0marg\u001b[0m\u001b[1;33m,\u001b[0m \u001b[1;33m**\u001b[0m\u001b[0mkwargs\u001b[0m\u001b[1;33m)\u001b[0m\u001b[1;33m\u001b[0m\u001b[1;33m\u001b[0m\u001b[0m\n",
      "\u001b[1;32m~\\Anaconda3\\lib\\site-packages\\matplotlib\\pyplot.py\u001b[0m in \u001b[0;36msubplot\u001b[1;34m(*args, **kwargs)\u001b[0m\n\u001b[0;32m   1074\u001b[0m \u001b[1;33m\u001b[0m\u001b[0m\n\u001b[0;32m   1075\u001b[0m     \u001b[0mfig\u001b[0m \u001b[1;33m=\u001b[0m \u001b[0mgcf\u001b[0m\u001b[1;33m(\u001b[0m\u001b[1;33m)\u001b[0m\u001b[1;33m\u001b[0m\u001b[1;33m\u001b[0m\u001b[0m\n\u001b[1;32m-> 1076\u001b[1;33m     \u001b[0ma\u001b[0m \u001b[1;33m=\u001b[0m \u001b[0mfig\u001b[0m\u001b[1;33m.\u001b[0m\u001b[0madd_subplot\u001b[0m\u001b[1;33m(\u001b[0m\u001b[1;33m*\u001b[0m\u001b[0margs\u001b[0m\u001b[1;33m,\u001b[0m \u001b[1;33m**\u001b[0m\u001b[0mkwargs\u001b[0m\u001b[1;33m)\u001b[0m\u001b[1;33m\u001b[0m\u001b[1;33m\u001b[0m\u001b[0m\n\u001b[0m\u001b[0;32m   1077\u001b[0m     \u001b[0mbbox\u001b[0m \u001b[1;33m=\u001b[0m \u001b[0ma\u001b[0m\u001b[1;33m.\u001b[0m\u001b[0mbbox\u001b[0m\u001b[1;33m\u001b[0m\u001b[1;33m\u001b[0m\u001b[0m\n\u001b[0;32m   1078\u001b[0m     \u001b[0mbyebye\u001b[0m \u001b[1;33m=\u001b[0m \u001b[1;33m[\u001b[0m\u001b[1;33m]\u001b[0m\u001b[1;33m\u001b[0m\u001b[1;33m\u001b[0m\u001b[0m\n",
      "\u001b[1;32m~\\Anaconda3\\lib\\site-packages\\matplotlib\\figure.py\u001b[0m in \u001b[0;36madd_subplot\u001b[1;34m(self, *args, **kwargs)\u001b[0m\n\u001b[0;32m   1412\u001b[0m                     \u001b[0mself\u001b[0m\u001b[1;33m.\u001b[0m\u001b[0m_axstack\u001b[0m\u001b[1;33m.\u001b[0m\u001b[0mremove\u001b[0m\u001b[1;33m(\u001b[0m\u001b[0max\u001b[0m\u001b[1;33m)\u001b[0m\u001b[1;33m\u001b[0m\u001b[1;33m\u001b[0m\u001b[0m\n\u001b[0;32m   1413\u001b[0m \u001b[1;33m\u001b[0m\u001b[0m\n\u001b[1;32m-> 1414\u001b[1;33m             \u001b[0ma\u001b[0m \u001b[1;33m=\u001b[0m \u001b[0msubplot_class_factory\u001b[0m\u001b[1;33m(\u001b[0m\u001b[0mprojection_class\u001b[0m\u001b[1;33m)\u001b[0m\u001b[1;33m(\u001b[0m\u001b[0mself\u001b[0m\u001b[1;33m,\u001b[0m \u001b[1;33m*\u001b[0m\u001b[0margs\u001b[0m\u001b[1;33m,\u001b[0m \u001b[1;33m**\u001b[0m\u001b[0mkwargs\u001b[0m\u001b[1;33m)\u001b[0m\u001b[1;33m\u001b[0m\u001b[1;33m\u001b[0m\u001b[0m\n\u001b[0m\u001b[0;32m   1415\u001b[0m \u001b[1;33m\u001b[0m\u001b[0m\n\u001b[0;32m   1416\u001b[0m         \u001b[1;32mreturn\u001b[0m \u001b[0mself\u001b[0m\u001b[1;33m.\u001b[0m\u001b[0m_add_axes_internal\u001b[0m\u001b[1;33m(\u001b[0m\u001b[0mkey\u001b[0m\u001b[1;33m,\u001b[0m \u001b[0ma\u001b[0m\u001b[1;33m)\u001b[0m\u001b[1;33m\u001b[0m\u001b[1;33m\u001b[0m\u001b[0m\n",
      "\u001b[1;32m~\\Anaconda3\\lib\\site-packages\\matplotlib\\axes\\_subplots.py\u001b[0m in \u001b[0;36m__init__\u001b[1;34m(self, fig, *args, **kwargs)\u001b[0m\n\u001b[0;32m     67\u001b[0m \u001b[1;33m\u001b[0m\u001b[0m\n\u001b[0;32m     68\u001b[0m         \u001b[1;31m# _axes_class is set in the subplot_class_factory\u001b[0m\u001b[1;33m\u001b[0m\u001b[1;33m\u001b[0m\u001b[1;33m\u001b[0m\u001b[0m\n\u001b[1;32m---> 69\u001b[1;33m         \u001b[0mself\u001b[0m\u001b[1;33m.\u001b[0m\u001b[0m_axes_class\u001b[0m\u001b[1;33m.\u001b[0m\u001b[0m__init__\u001b[0m\u001b[1;33m(\u001b[0m\u001b[0mself\u001b[0m\u001b[1;33m,\u001b[0m \u001b[0mfig\u001b[0m\u001b[1;33m,\u001b[0m \u001b[0mself\u001b[0m\u001b[1;33m.\u001b[0m\u001b[0mfigbox\u001b[0m\u001b[1;33m,\u001b[0m \u001b[1;33m**\u001b[0m\u001b[0mkwargs\u001b[0m\u001b[1;33m)\u001b[0m\u001b[1;33m\u001b[0m\u001b[1;33m\u001b[0m\u001b[0m\n\u001b[0m\u001b[0;32m     70\u001b[0m         \u001b[1;31m# add a layout box to this, for both the full axis, and the poss\u001b[0m\u001b[1;33m\u001b[0m\u001b[1;33m\u001b[0m\u001b[1;33m\u001b[0m\u001b[0m\n\u001b[0;32m     71\u001b[0m         \u001b[1;31m# of the axis.  We need both because the axes may become smaller\u001b[0m\u001b[1;33m\u001b[0m\u001b[1;33m\u001b[0m\u001b[1;33m\u001b[0m\u001b[0m\n",
      "\u001b[1;32m~\\Anaconda3\\lib\\site-packages\\matplotlib\\axes\\_base.py\u001b[0m in \u001b[0;36m__init__\u001b[1;34m(self, fig, rect, facecolor, frameon, sharex, sharey, label, xscale, yscale, **kwargs)\u001b[0m\n\u001b[0;32m    493\u001b[0m         \u001b[0mself\u001b[0m\u001b[1;33m.\u001b[0m\u001b[0m_rasterization_zorder\u001b[0m \u001b[1;33m=\u001b[0m \u001b[1;32mNone\u001b[0m\u001b[1;33m\u001b[0m\u001b[1;33m\u001b[0m\u001b[0m\n\u001b[0;32m    494\u001b[0m         \u001b[0mself\u001b[0m\u001b[1;33m.\u001b[0m\u001b[0m_connected\u001b[0m \u001b[1;33m=\u001b[0m \u001b[1;33m{\u001b[0m\u001b[1;33m}\u001b[0m  \u001b[1;31m# a dict from events to (id, func)\u001b[0m\u001b[1;33m\u001b[0m\u001b[1;33m\u001b[0m\u001b[0m\n\u001b[1;32m--> 495\u001b[1;33m         \u001b[0mself\u001b[0m\u001b[1;33m.\u001b[0m\u001b[0mcla\u001b[0m\u001b[1;33m(\u001b[0m\u001b[1;33m)\u001b[0m\u001b[1;33m\u001b[0m\u001b[1;33m\u001b[0m\u001b[0m\n\u001b[0m\u001b[0;32m    496\u001b[0m \u001b[1;33m\u001b[0m\u001b[0m\n\u001b[0;32m    497\u001b[0m         \u001b[1;31m# funcs used to format x and y - fall back on major formatters\u001b[0m\u001b[1;33m\u001b[0m\u001b[1;33m\u001b[0m\u001b[1;33m\u001b[0m\u001b[0m\n",
      "\u001b[1;32m~\\Anaconda3\\lib\\site-packages\\matplotlib\\axes\\_base.py\u001b[0m in \u001b[0;36mcla\u001b[1;34m(self)\u001b[0m\n\u001b[0;32m   1043\u001b[0m         \u001b[0mself\u001b[0m\u001b[1;33m.\u001b[0m\u001b[0mcontainers\u001b[0m \u001b[1;33m=\u001b[0m \u001b[1;33m[\u001b[0m\u001b[1;33m]\u001b[0m\u001b[1;33m\u001b[0m\u001b[1;33m\u001b[0m\u001b[0m\n\u001b[0;32m   1044\u001b[0m \u001b[1;33m\u001b[0m\u001b[0m\n\u001b[1;32m-> 1045\u001b[1;33m         \u001b[0mself\u001b[0m\u001b[1;33m.\u001b[0m\u001b[0mgrid\u001b[0m\u001b[1;33m(\u001b[0m\u001b[1;32mFalse\u001b[0m\u001b[1;33m)\u001b[0m  \u001b[1;31m# Disable grid on init to use rcParameter\u001b[0m\u001b[1;33m\u001b[0m\u001b[1;33m\u001b[0m\u001b[0m\n\u001b[0m\u001b[0;32m   1046\u001b[0m         self.grid(self._gridOn, which=rcParams['axes.grid.which'],\n\u001b[0;32m   1047\u001b[0m                   axis=rcParams['axes.grid.axis'])\n",
      "\u001b[1;32m~\\Anaconda3\\lib\\site-packages\\matplotlib\\axes\\_base.py\u001b[0m in \u001b[0;36mgrid\u001b[1;34m(self, b, which, axis, **kwargs)\u001b[0m\n\u001b[0;32m   2785\u001b[0m             \u001b[0mself\u001b[0m\u001b[1;33m.\u001b[0m\u001b[0mxaxis\u001b[0m\u001b[1;33m.\u001b[0m\u001b[0mgrid\u001b[0m\u001b[1;33m(\u001b[0m\u001b[0mb\u001b[0m\u001b[1;33m,\u001b[0m \u001b[0mwhich\u001b[0m\u001b[1;33m=\u001b[0m\u001b[0mwhich\u001b[0m\u001b[1;33m,\u001b[0m \u001b[1;33m**\u001b[0m\u001b[0mkwargs\u001b[0m\u001b[1;33m)\u001b[0m\u001b[1;33m\u001b[0m\u001b[1;33m\u001b[0m\u001b[0m\n\u001b[0;32m   2786\u001b[0m         \u001b[1;32mif\u001b[0m \u001b[0maxis\u001b[0m \u001b[1;32min\u001b[0m \u001b[1;33m[\u001b[0m\u001b[1;34m'y'\u001b[0m\u001b[1;33m,\u001b[0m \u001b[1;34m'both'\u001b[0m\u001b[1;33m]\u001b[0m\u001b[1;33m:\u001b[0m\u001b[1;33m\u001b[0m\u001b[1;33m\u001b[0m\u001b[0m\n\u001b[1;32m-> 2787\u001b[1;33m             \u001b[0mself\u001b[0m\u001b[1;33m.\u001b[0m\u001b[0myaxis\u001b[0m\u001b[1;33m.\u001b[0m\u001b[0mgrid\u001b[0m\u001b[1;33m(\u001b[0m\u001b[0mb\u001b[0m\u001b[1;33m,\u001b[0m \u001b[0mwhich\u001b[0m\u001b[1;33m=\u001b[0m\u001b[0mwhich\u001b[0m\u001b[1;33m,\u001b[0m \u001b[1;33m**\u001b[0m\u001b[0mkwargs\u001b[0m\u001b[1;33m)\u001b[0m\u001b[1;33m\u001b[0m\u001b[1;33m\u001b[0m\u001b[0m\n\u001b[0m\u001b[0;32m   2788\u001b[0m \u001b[1;33m\u001b[0m\u001b[0m\n\u001b[0;32m   2789\u001b[0m     def ticklabel_format(self, *, axis='both', style='', scilimits=None,\n",
      "\u001b[1;32m~\\Anaconda3\\lib\\site-packages\\matplotlib\\axis.py\u001b[0m in \u001b[0;36mgrid\u001b[1;34m(self, b, which, **kwargs)\u001b[0m\n\u001b[0;32m   1475\u001b[0m                 \u001b[0mself\u001b[0m\u001b[1;33m.\u001b[0m\u001b[0m_gridOnMajor\u001b[0m \u001b[1;33m=\u001b[0m \u001b[0mb\u001b[0m\u001b[1;33m\u001b[0m\u001b[1;33m\u001b[0m\u001b[0m\n\u001b[0;32m   1476\u001b[0m             self.set_tick_params(which='major', gridOn=self._gridOnMajor,\n\u001b[1;32m-> 1477\u001b[1;33m                                  **gridkw)\n\u001b[0m\u001b[0;32m   1478\u001b[0m         \u001b[0mself\u001b[0m\u001b[1;33m.\u001b[0m\u001b[0mstale\u001b[0m \u001b[1;33m=\u001b[0m \u001b[1;32mTrue\u001b[0m\u001b[1;33m\u001b[0m\u001b[1;33m\u001b[0m\u001b[0m\n\u001b[0;32m   1479\u001b[0m \u001b[1;33m\u001b[0m\u001b[0m\n",
      "\u001b[1;32m~\\Anaconda3\\lib\\site-packages\\matplotlib\\axis.py\u001b[0m in \u001b[0;36mset_tick_params\u001b[1;34m(self, which, reset, **kw)\u001b[0m\n\u001b[0;32m    887\u001b[0m             \u001b[1;32mif\u001b[0m \u001b[0mwhich\u001b[0m \u001b[1;33m==\u001b[0m \u001b[1;34m'major'\u001b[0m \u001b[1;32mor\u001b[0m \u001b[0mwhich\u001b[0m \u001b[1;33m==\u001b[0m \u001b[1;34m'both'\u001b[0m\u001b[1;33m:\u001b[0m\u001b[1;33m\u001b[0m\u001b[1;33m\u001b[0m\u001b[0m\n\u001b[0;32m    888\u001b[0m                 \u001b[1;32mfor\u001b[0m \u001b[0mtick\u001b[0m \u001b[1;32min\u001b[0m \u001b[0mself\u001b[0m\u001b[1;33m.\u001b[0m\u001b[0mmajorTicks\u001b[0m\u001b[1;33m:\u001b[0m\u001b[1;33m\u001b[0m\u001b[1;33m\u001b[0m\u001b[0m\n\u001b[1;32m--> 889\u001b[1;33m                     \u001b[0mtick\u001b[0m\u001b[1;33m.\u001b[0m\u001b[0m_apply_params\u001b[0m\u001b[1;33m(\u001b[0m\u001b[1;33m**\u001b[0m\u001b[0mkwtrans\u001b[0m\u001b[1;33m)\u001b[0m\u001b[1;33m\u001b[0m\u001b[1;33m\u001b[0m\u001b[0m\n\u001b[0m\u001b[0;32m    890\u001b[0m             \u001b[1;32mif\u001b[0m \u001b[0mwhich\u001b[0m \u001b[1;33m==\u001b[0m \u001b[1;34m'minor'\u001b[0m \u001b[1;32mor\u001b[0m \u001b[0mwhich\u001b[0m \u001b[1;33m==\u001b[0m \u001b[1;34m'both'\u001b[0m\u001b[1;33m:\u001b[0m\u001b[1;33m\u001b[0m\u001b[1;33m\u001b[0m\u001b[0m\n\u001b[0;32m    891\u001b[0m                 \u001b[1;32mfor\u001b[0m \u001b[0mtick\u001b[0m \u001b[1;32min\u001b[0m \u001b[0mself\u001b[0m\u001b[1;33m.\u001b[0m\u001b[0mminorTicks\u001b[0m\u001b[1;33m:\u001b[0m\u001b[1;33m\u001b[0m\u001b[1;33m\u001b[0m\u001b[0m\n",
      "\u001b[1;32m~\\Anaconda3\\lib\\site-packages\\matplotlib\\axis.py\u001b[0m in \u001b[0;36m_apply_params\u001b[1;34m(self, **kw)\u001b[0m\n\u001b[0;32m    358\u001b[0m             \u001b[0mself\u001b[0m\u001b[1;33m.\u001b[0m\u001b[0mlabel2\u001b[0m\u001b[1;33m.\u001b[0m\u001b[0mset_transform\u001b[0m\u001b[1;33m(\u001b[0m\u001b[0mtrans\u001b[0m\u001b[1;33m)\u001b[0m\u001b[1;33m\u001b[0m\u001b[1;33m\u001b[0m\u001b[0m\n\u001b[0;32m    359\u001b[0m         \u001b[0mtick_kw\u001b[0m \u001b[1;33m=\u001b[0m \u001b[1;33m{\u001b[0m\u001b[0mk\u001b[0m\u001b[1;33m:\u001b[0m \u001b[0mv\u001b[0m \u001b[1;32mfor\u001b[0m \u001b[0mk\u001b[0m\u001b[1;33m,\u001b[0m \u001b[0mv\u001b[0m \u001b[1;32min\u001b[0m \u001b[0mkw\u001b[0m\u001b[1;33m.\u001b[0m\u001b[0mitems\u001b[0m\u001b[1;33m(\u001b[0m\u001b[1;33m)\u001b[0m \u001b[1;32mif\u001b[0m \u001b[0mk\u001b[0m \u001b[1;32min\u001b[0m \u001b[1;33m[\u001b[0m\u001b[1;34m'color'\u001b[0m\u001b[1;33m,\u001b[0m \u001b[1;34m'zorder'\u001b[0m\u001b[1;33m]\u001b[0m\u001b[1;33m}\u001b[0m\u001b[1;33m\u001b[0m\u001b[1;33m\u001b[0m\u001b[0m\n\u001b[1;32m--> 360\u001b[1;33m         \u001b[0mself\u001b[0m\u001b[1;33m.\u001b[0m\u001b[0mtick1line\u001b[0m\u001b[1;33m.\u001b[0m\u001b[0mset\u001b[0m\u001b[1;33m(\u001b[0m\u001b[1;33m**\u001b[0m\u001b[0mtick_kw\u001b[0m\u001b[1;33m)\u001b[0m\u001b[1;33m\u001b[0m\u001b[1;33m\u001b[0m\u001b[0m\n\u001b[0m\u001b[0;32m    361\u001b[0m         \u001b[0mself\u001b[0m\u001b[1;33m.\u001b[0m\u001b[0mtick2line\u001b[0m\u001b[1;33m.\u001b[0m\u001b[0mset\u001b[0m\u001b[1;33m(\u001b[0m\u001b[1;33m**\u001b[0m\u001b[0mtick_kw\u001b[0m\u001b[1;33m)\u001b[0m\u001b[1;33m\u001b[0m\u001b[1;33m\u001b[0m\u001b[0m\n\u001b[0;32m    362\u001b[0m         \u001b[1;32mfor\u001b[0m \u001b[0mk\u001b[0m\u001b[1;33m,\u001b[0m \u001b[0mv\u001b[0m \u001b[1;32min\u001b[0m \u001b[0mtick_kw\u001b[0m\u001b[1;33m.\u001b[0m\u001b[0mitems\u001b[0m\u001b[1;33m(\u001b[0m\u001b[1;33m)\u001b[0m\u001b[1;33m:\u001b[0m\u001b[1;33m\u001b[0m\u001b[1;33m\u001b[0m\u001b[0m\n",
      "\u001b[1;32m~\\Anaconda3\\lib\\site-packages\\matplotlib\\artist.py\u001b[0m in \u001b[0;36mset\u001b[1;34m(self, **kwargs)\u001b[0m\n\u001b[0;32m   1069\u001b[0m             sorted(kwargs.items(), reverse=True,\n\u001b[0;32m   1070\u001b[0m                    key=lambda x: (self._prop_order.get(x[0], 0), x[0])))\n\u001b[1;32m-> 1071\u001b[1;33m         \u001b[1;32mreturn\u001b[0m \u001b[0mself\u001b[0m\u001b[1;33m.\u001b[0m\u001b[0mupdate\u001b[0m\u001b[1;33m(\u001b[0m\u001b[0mprops\u001b[0m\u001b[1;33m)\u001b[0m\u001b[1;33m\u001b[0m\u001b[1;33m\u001b[0m\u001b[0m\n\u001b[0m\u001b[0;32m   1072\u001b[0m \u001b[1;33m\u001b[0m\u001b[0m\n\u001b[0;32m   1073\u001b[0m     \u001b[1;32mdef\u001b[0m \u001b[0mfindobj\u001b[0m\u001b[1;33m(\u001b[0m\u001b[0mself\u001b[0m\u001b[1;33m,\u001b[0m \u001b[0mmatch\u001b[0m\u001b[1;33m=\u001b[0m\u001b[1;32mNone\u001b[0m\u001b[1;33m,\u001b[0m \u001b[0minclude_self\u001b[0m\u001b[1;33m=\u001b[0m\u001b[1;32mTrue\u001b[0m\u001b[1;33m)\u001b[0m\u001b[1;33m:\u001b[0m\u001b[1;33m\u001b[0m\u001b[1;33m\u001b[0m\u001b[0m\n",
      "\u001b[1;32m~\\Anaconda3\\lib\\site-packages\\matplotlib\\artist.py\u001b[0m in \u001b[0;36mupdate\u001b[1;34m(self, props)\u001b[0m\n\u001b[0;32m    972\u001b[0m \u001b[1;33m\u001b[0m\u001b[0m\n\u001b[0;32m    973\u001b[0m         \u001b[1;32mwith\u001b[0m \u001b[0mcbook\u001b[0m\u001b[1;33m.\u001b[0m\u001b[0m_setattr_cm\u001b[0m\u001b[1;33m(\u001b[0m\u001b[0mself\u001b[0m\u001b[1;33m,\u001b[0m \u001b[0meventson\u001b[0m\u001b[1;33m=\u001b[0m\u001b[1;32mFalse\u001b[0m\u001b[1;33m)\u001b[0m\u001b[1;33m:\u001b[0m\u001b[1;33m\u001b[0m\u001b[1;33m\u001b[0m\u001b[0m\n\u001b[1;32m--> 974\u001b[1;33m             \u001b[0mret\u001b[0m \u001b[1;33m=\u001b[0m \u001b[1;33m[\u001b[0m\u001b[0m_update_property\u001b[0m\u001b[1;33m(\u001b[0m\u001b[0mself\u001b[0m\u001b[1;33m,\u001b[0m \u001b[0mk\u001b[0m\u001b[1;33m,\u001b[0m \u001b[0mv\u001b[0m\u001b[1;33m)\u001b[0m \u001b[1;32mfor\u001b[0m \u001b[0mk\u001b[0m\u001b[1;33m,\u001b[0m \u001b[0mv\u001b[0m \u001b[1;32min\u001b[0m \u001b[0mprops\u001b[0m\u001b[1;33m.\u001b[0m\u001b[0mitems\u001b[0m\u001b[1;33m(\u001b[0m\u001b[1;33m)\u001b[0m\u001b[1;33m]\u001b[0m\u001b[1;33m\u001b[0m\u001b[1;33m\u001b[0m\u001b[0m\n\u001b[0m\u001b[0;32m    975\u001b[0m \u001b[1;33m\u001b[0m\u001b[0m\n\u001b[0;32m    976\u001b[0m         \u001b[1;32mif\u001b[0m \u001b[0mlen\u001b[0m\u001b[1;33m(\u001b[0m\u001b[0mret\u001b[0m\u001b[1;33m)\u001b[0m\u001b[1;33m:\u001b[0m\u001b[1;33m\u001b[0m\u001b[1;33m\u001b[0m\u001b[0m\n",
      "\u001b[1;32m~\\Anaconda3\\lib\\site-packages\\matplotlib\\artist.py\u001b[0m in \u001b[0;36m<listcomp>\u001b[1;34m(.0)\u001b[0m\n\u001b[0;32m    972\u001b[0m \u001b[1;33m\u001b[0m\u001b[0m\n\u001b[0;32m    973\u001b[0m         \u001b[1;32mwith\u001b[0m \u001b[0mcbook\u001b[0m\u001b[1;33m.\u001b[0m\u001b[0m_setattr_cm\u001b[0m\u001b[1;33m(\u001b[0m\u001b[0mself\u001b[0m\u001b[1;33m,\u001b[0m \u001b[0meventson\u001b[0m\u001b[1;33m=\u001b[0m\u001b[1;32mFalse\u001b[0m\u001b[1;33m)\u001b[0m\u001b[1;33m:\u001b[0m\u001b[1;33m\u001b[0m\u001b[1;33m\u001b[0m\u001b[0m\n\u001b[1;32m--> 974\u001b[1;33m             \u001b[0mret\u001b[0m \u001b[1;33m=\u001b[0m \u001b[1;33m[\u001b[0m\u001b[0m_update_property\u001b[0m\u001b[1;33m(\u001b[0m\u001b[0mself\u001b[0m\u001b[1;33m,\u001b[0m \u001b[0mk\u001b[0m\u001b[1;33m,\u001b[0m \u001b[0mv\u001b[0m\u001b[1;33m)\u001b[0m \u001b[1;32mfor\u001b[0m \u001b[0mk\u001b[0m\u001b[1;33m,\u001b[0m \u001b[0mv\u001b[0m \u001b[1;32min\u001b[0m \u001b[0mprops\u001b[0m\u001b[1;33m.\u001b[0m\u001b[0mitems\u001b[0m\u001b[1;33m(\u001b[0m\u001b[1;33m)\u001b[0m\u001b[1;33m]\u001b[0m\u001b[1;33m\u001b[0m\u001b[1;33m\u001b[0m\u001b[0m\n\u001b[0m\u001b[0;32m    975\u001b[0m \u001b[1;33m\u001b[0m\u001b[0m\n\u001b[0;32m    976\u001b[0m         \u001b[1;32mif\u001b[0m \u001b[0mlen\u001b[0m\u001b[1;33m(\u001b[0m\u001b[0mret\u001b[0m\u001b[1;33m)\u001b[0m\u001b[1;33m:\u001b[0m\u001b[1;33m\u001b[0m\u001b[1;33m\u001b[0m\u001b[0m\n",
      "\u001b[1;31mKeyboardInterrupt\u001b[0m: "
     ]
    },
    {
     "data": {
      "text/plain": [
       "<Figure size 360x360 with 0 Axes>"
      ]
     },
     "metadata": {},
     "output_type": "display_data"
    }
   ],
   "source": [
    "def euclid(df, centroids):\n",
    "    klust = []\n",
    "    for i in range(len(df)):\n",
    "        ds = []\n",
    "        for h in range(1,k+1):\n",
    "            dist = 0\n",
    "            for j in range(2):\n",
    "                #print(dist)\n",
    "                if(centroids[h][j] == 'nan' ):\n",
    "                    print('PORCAPUPAZZA')\n",
    "                dist = dist + (df.loc[i][j]-centroids[h][j])**2\n",
    "            dist = np.sqrt(dist)\n",
    "            ds.append(dist)\n",
    "            #if here we use nanargmin the code won't crash but it will give just 1 cluster and 3 empty clusters and this is not what we want!\n",
    "        klust.append(np.argmin(ds) + 1)\n",
    "    df['clusters'] = klust\n",
    "    df['color'] = df['clusters'].map(lambda x: colmap[x])\n",
    "    return df\n",
    "#put the first clusters\n",
    "df = euclid(df, centroids)\n",
    "df.head()\n",
    "\n",
    "def new_centroids(df, centr, k):\n",
    "    names = ['f1', 'f2']\n",
    "    for i in range(1,k+1):\n",
    "        for j in range(2):\n",
    "            centr[i][j] = np.mean(df[df['clusters']==i][names[j]])\n",
    "    return centr\n",
    "\n",
    "\n",
    "#o = 0\n",
    "while True:\n",
    "    closest_centroids = df['clusters'].copy(deep=True)\n",
    "    old_centroids = copy.deepcopy(centroids)\n",
    "    centroids = new_centroids(df, centroids, k)\n",
    "    df = euclid(df, centroids)\n",
    "    print(centroids)\n",
    "    if closest_centroids.equals(df['clusters']):\n",
    "        print('yeeeeeee')\n",
    "        break   \n",
    "    fig = plt.figure(figsize = (5,5))\n",
    "    ax = plt.axes()\n",
    "    colmap = {1 :'r', 2 : 'g', 3 : 'b', 4 : 'm'}\n",
    "    plt.scatter(df['f1'], df['f2'], alpha = 0.7, color = df['color'], edgecolor = 'k')\n",
    "    for i in centroids:\n",
    "        plt.scatter(*centroids[i], color = colmap[i])\n",
    "    plt.xlim(0,110)\n",
    "    plt.ylim(0,20)\n",
    "    old = []\n",
    "    for i in old_centroids.keys():\n",
    "        l = []\n",
    "        for j in range(0,2):\n",
    "            l.append(old_centroids[i][j])\n",
    "        old.append(l)\n",
    "        dx = (centroids[i][0] - old_centroids[i][0]) * 0.75\n",
    "        dy = (centroids[i][1] - old_centroids[i][1]) * 0.75\n",
    "        ax.arrow(old[i-1][0], old[i-1][1], dx, dy, head_width=1, head_length=np.sqrt(dx**2+dy**2)*0.3, fc=colmap[i], ec=colmap[i])\n",
    "    plt.show()"
   ]
  },
  {
   "cell_type": "code",
   "execution_count": null,
   "metadata": {},
   "outputs": [],
   "source": []
  }
 ],
 "metadata": {
  "kernelspec": {
   "display_name": "Python 3",
   "language": "python",
   "name": "python3"
  },
  "language_info": {
   "codemirror_mode": {
    "name": "ipython",
    "version": 3
   },
   "file_extension": ".py",
   "mimetype": "text/x-python",
   "name": "python",
   "nbconvert_exporter": "python",
   "pygments_lexer": "ipython3",
   "version": "3.7.5"
  }
 },
 "nbformat": 4,
 "nbformat_minor": 2
}
