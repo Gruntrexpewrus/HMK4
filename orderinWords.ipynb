{
 "cells": [
  {
   "cell_type": "code",
   "execution_count": 1,
   "metadata": {},
   "outputs": [],
   "source": [
    "#I am inspiring myself on the wikipedia page for the algo\n",
    "def CountingSort(alphabet, lis):\n",
    "    #first i need the max value and min value of the list, based on the aphabetical dictionary\n",
    "    max_al = alphabet[lis[0]]\n",
    "    min_al = alphabet[lis[0]]\n",
    "    min_l = max_l = 0\n",
    "    for i in range(len(lis)):\n",
    "        item = lis[i]\n",
    "        if alphabet[item] > max_al:\n",
    "            max_l = item\n",
    "            max_al = alphabet[max_l]\n",
    "            \n",
    "        elif alphabet[item]< min_al:\n",
    "            min_l = item\n",
    "            min_al = alphabet[min_l]\n",
    "            \n",
    "    #now i take an array of dimension max-min+1\n",
    "    array = [0]*(max_al - min_al + 2)\n",
    "    #Here i start counting each value in the list and putting it in the relative component of the array\n",
    "    for i in lis:\n",
    "        array[alphabet[i]-min_al+1] = array[alphabet[i]-min_al+1] + 1\n",
    "        #Now I sum the characters in row\n",
    "    for i in range(1,len(array)):\n",
    "        array[i] = array[i]+array[i-1]\n",
    "    #Now the real counting sort starts!\n",
    "    k = 0\n",
    "    new_l = [0]*len(lis)\n",
    "    for i in range(len(lis)):\n",
    "            item = alphabet[lis[i]]-min_al +1\n",
    "            new_l[array[item]-1] = lis[i]\n",
    "            array[item] = array[item] - 1\n",
    "    return new_l"
   ]
  },
  {
   "cell_type": "code",
   "execution_count": 2,
   "metadata": {},
   "outputs": [],
   "source": [
    "def CS(lis, index, excl):\n",
    "    temp = []\n",
    "    di = {}\n",
    "    new = []\n",
    "    #lis = lis[excl:]\n",
    "    for i in lis:\n",
    "        #print(i)\n",
    "        try:\n",
    "            di[list(i)[index]].append(i)\n",
    "        except KeyError:\n",
    "            di[list(i)[index]] = [i]\n",
    "        temp.append(list(i)[index])\n",
    "    temp = CountingSort(alpha_dict, temp)\n",
    "    #print(temp)\n",
    "    print('di', di)\n",
    "    temp = list(dict.fromkeys(temp))\n",
    "    for i in temp:\n",
    "        for j in di[i]:\n",
    "            new.append(j)\n",
    "    print('Counted', new)\n",
    "    return new"
   ]
  },
  {
   "cell_type": "code",
   "execution_count": 3,
   "metadata": {},
   "outputs": [
    {
     "name": "stdout",
     "output_type": "stream",
     "text": [
      "lprinc ['oak', 'bee', 'algorithm', 'olympic', 'jack', 'sleep']\n",
      "diction {'s': ['slee dog']}\n",
      "di {'o': ['oak', 'olympic'], 'b': ['bee'], 'a': ['algorithm'], 'j': ['jack'], 's': ['sleep']}\n",
      "Counted ['algorithm', 'bee', 'jack', 'oak', 'olympic', 'sleep']\n",
      "final1 []\n",
      "excl 0\n",
      "lprinc ['algorithm', 'bee', 'jack', 'oak', 'olympic', 'sleep']\n",
      "algorithm 1\n",
      "bee 1\n",
      "jack 1\n",
      "oak 1\n",
      "olympic 1\n",
      "sleep 1\n",
      "index 1\n",
      "final ['algorithm', 'bee', 'jack', 'oak', 'olympic']\n",
      "lprinc ['sleep']\n"
     ]
    },
    {
     "data": {
      "text/plain": [
       "['algorithm', 'bee', 'jack', 'oak', 'olympic', 'sleep']"
      ]
     },
     "execution_count": 3,
     "metadata": {},
     "output_type": "execute_result"
    }
   ],
   "source": [
    "import string\n",
    "Words = [\"oak\",\"bee\",\"Algorithm\",\"Slee Dog\",\"Olympic\",\"jack\",\"sleep\"]\n",
    "#Words = ['a', 'ab', 'a z', 'bc', 'b t', 'b z j', 'b z']\n",
    "alpha_dict = dict(zip(string.ascii_lowercase, range(0,26)))\n",
    "\n",
    "def Function(Words, alpha_dict):\n",
    "    for i in range(len(Words)):\n",
    "        Words[i] = Words[i].lower()\n",
    "    lprinc = []\n",
    "    diction = {}\n",
    "    index = 0\n",
    "    new_index = 0\n",
    "    final = []\n",
    "    excl = 0\n",
    "    for i in Words:\n",
    "        if len(i.split()) == 1:\n",
    "            lprinc.append(i)\n",
    "        else:\n",
    "            first = list(i.split())[0][0]\n",
    "            #print(first)\n",
    "            try:\n",
    "                diction[first].append(i)\n",
    "            except KeyError:\n",
    "                diction[first] = [i]\n",
    "    print('lprinc', lprinc)\n",
    "    print('diction', diction)\n",
    "    while len(lprinc)>1:\n",
    "        excl = 0\n",
    "        final1 = []\n",
    "        lprinc = CS(lprinc, index, excl)\n",
    "        for i in lprinc:\n",
    "            if len(list(i))==index+1:\n",
    "                final1.append(i)\n",
    "                #excl = excl + 1\n",
    "        for i in final1:\n",
    "            if i in lprinc:\n",
    "                lprinc.remove(i)\n",
    "        print('final1',final)  \n",
    "        print('excl', excl)\n",
    "        print('lprinc', lprinc)\n",
    "        temp = []\n",
    "        h=0\n",
    "        for i in final1:\n",
    "            final.append(i)\n",
    "        index = index + 1\n",
    "        for i in range(len(lprinc)):\n",
    "            print(lprinc[i], index)\n",
    "            if h==0 and i != len(lprinc)-1 and list(lprinc[i])[index] < list(lprinc[i+1])[index] or (i != len(lprinc)-1 and list(lprinc[i])[0] < list(lprinc[i+1])[0]) :\n",
    "                #excl = excl+ 1\n",
    "                final.append(lprinc[i])\n",
    "                if list(lprinc[i])[index] < list(lprinc[i+1])[index]:\n",
    "                    h = h+1\n",
    "            else:\n",
    "                temp.append(lprinc[i])\n",
    "        \n",
    "        lprinc = temp\n",
    "        print('index', index)\n",
    "        print('final' , final)\n",
    "        print('lprinc', lprinc)\n",
    "    if len(lprinc)==1:\n",
    "        final.append(lprinc[0])\n",
    "    return final\n",
    "                \n",
    "Function(Words, alpha_dict)    \n",
    "    "
   ]
  },
  {
   "cell_type": "code",
   "execution_count": 4,
   "metadata": {},
   "outputs": [
    {
     "name": "stdout",
     "output_type": "stream",
     "text": [
      "lprinc ['dog', 'dag', 'd']\n",
      "diction {}\n",
      "di {'d': ['dog', 'dag', 'd']}\n",
      "Counted ['dog', 'dag', 'd']\n",
      "final1 []\n",
      "excl 0\n",
      "lprinc ['dog', 'dag']\n",
      "dog 1\n",
      "dag 1\n",
      "index 1\n",
      "final ['d']\n",
      "lprinc ['dog', 'dag']\n",
      "di {'o': ['dog'], 'a': ['dag']}\n",
      "Counted ['dag', 'dog']\n",
      "final1 ['d']\n",
      "excl 0\n",
      "lprinc ['dag', 'dog']\n",
      "dag 2\n",
      "dog 2\n",
      "index 2\n",
      "final ['d']\n",
      "lprinc ['dag', 'dog']\n",
      "di {'g': ['dag', 'dog']}\n",
      "Counted ['dag', 'dog']\n",
      "final1 ['d']\n",
      "excl 0\n",
      "lprinc []\n",
      "index 3\n",
      "final ['d', 'dag', 'dog']\n",
      "lprinc []\n"
     ]
    },
    {
     "data": {
      "text/plain": [
       "['d', 'dag', 'dog']"
      ]
     },
     "execution_count": 4,
     "metadata": {},
     "output_type": "execute_result"
    }
   ],
   "source": [
    "d = ['dog', 'dag', 'd']\n",
    "Function(d, alpha_dict)  "
   ]
  },
  {
   "cell_type": "code",
   "execution_count": null,
   "metadata": {},
   "outputs": [],
   "source": []
  }
 ],
 "metadata": {
  "kernelspec": {
   "display_name": "Python 3",
   "language": "python",
   "name": "python3"
  },
  "language_info": {
   "codemirror_mode": {
    "name": "ipython",
    "version": 3
   },
   "file_extension": ".py",
   "mimetype": "text/x-python",
   "name": "python",
   "nbconvert_exporter": "python",
   "pygments_lexer": "ipython3",
   "version": "3.7.5"
  }
 },
 "nbformat": 4,
 "nbformat_minor": 2
}
