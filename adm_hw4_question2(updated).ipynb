{
 "cells": [
  {
   "cell_type": "markdown",
   "metadata": {},
   "source": [
    "<h1> Alphabetical Sort </h1>\n",
    "<h3> 1. Counting sort for alphabets </h3>"
   ]
  },
  {
   "cell_type": "code",
   "execution_count": 75,
   "metadata": {},
   "outputs": [],
   "source": [
    "#import libraries\n",
    "import pandas as pd\n",
    "import sys\n",
    "import string\n",
    "from collections import Counter\n",
    "import re"
   ]
  },
  {
   "cell_type": "code",
   "execution_count": 63,
   "metadata": {
    "scrolled": false
   },
   "outputs": [
    {
     "name": "stdout",
     "output_type": "stream",
     "text": [
      "a\n",
      "r\n",
      "t\n",
      "r\n",
      "r\n",
      "r\n",
      "r\n",
      "r\n",
      "\n"
     ]
    }
   ],
   "source": [
    "#create an empty list and keep appending the input of alphabets to the list until :\n",
    "#1. an empty input occurs\n",
    "#2. the length of input is greater than 1\n",
    "#3. the input is a number\n",
    "alphabet_lst = []\n",
    "while True:\n",
    "    inp = input()\n",
    "    if inp == \"\" or len(inp) > 1 or inp.isdigit() == True:    break\n",
    "    alphabet_lst.append(inp)"
   ]
  },
  {
   "cell_type": "code",
   "execution_count": 64,
   "metadata": {},
   "outputs": [
    {
     "data": {
      "text/plain": [
       "['a', 'r', 't', 'r', 'r', 'r', 'r', 'r']"
      ]
     },
     "execution_count": 64,
     "metadata": {},
     "output_type": "execute_result"
    }
   ],
   "source": [
    "alphabet_lst"
   ]
  },
  {
   "cell_type": "code",
   "execution_count": 65,
   "metadata": {},
   "outputs": [],
   "source": [
    "#create a dictionary of all alphabets mapping to numbers\n",
    "alpha_dict = dict(zip(string.ascii_lowercase, range(0,26)))"
   ]
  },
  {
   "cell_type": "code",
   "execution_count": 66,
   "metadata": {
    "scrolled": true
   },
   "outputs": [
    {
     "data": {
      "text/plain": [
       "{'a': 0,\n",
       " 'b': 1,\n",
       " 'c': 2,\n",
       " 'd': 3,\n",
       " 'e': 4,\n",
       " 'f': 5,\n",
       " 'g': 6,\n",
       " 'h': 7,\n",
       " 'i': 8,\n",
       " 'j': 9,\n",
       " 'k': 10,\n",
       " 'l': 11,\n",
       " 'm': 12,\n",
       " 'n': 13,\n",
       " 'o': 14,\n",
       " 'p': 15,\n",
       " 'q': 16,\n",
       " 'r': 17,\n",
       " 's': 18,\n",
       " 't': 19,\n",
       " 'u': 20,\n",
       " 'v': 21,\n",
       " 'w': 22,\n",
       " 'x': 23,\n",
       " 'y': 24,\n",
       " 'z': 25}"
      ]
     },
     "execution_count": 66,
     "metadata": {},
     "output_type": "execute_result"
    }
   ],
   "source": [
    "alpha_dict"
   ]
  },
  {
   "cell_type": "code",
   "execution_count": 67,
   "metadata": {
    "scrolled": true
   },
   "outputs": [
    {
     "data": {
      "text/plain": [
       "26"
      ]
     },
     "execution_count": 67,
     "metadata": {},
     "output_type": "execute_result"
    }
   ],
   "source": [
    "#check the length of the dictionary of alphabets\n",
    "len(alpha_dict)"
   ]
  },
  {
   "cell_type": "code",
   "execution_count": 68,
   "metadata": {},
   "outputs": [],
   "source": [
    "def count_sort(alphabet_lst,alpha_dict):\n",
    "    #create an auxiliary list of size greater than \"alpha_dict\" holding initial values as 0\n",
    "    aux_lst = [0] * (len(alpha_dict)+1)\n",
    "    #traverse through \"alphabet_lst\" and store the count of occurrence of each element in the appropriate index of \"aux_lst\"\n",
    "    for i in alphabet_lst:\n",
    "        aux_lst[alpha_dict[i]+1] = aux_lst[alpha_dict[i]+1] + 1\n",
    "    \n",
    "    #find the cumulative sum of the elements\n",
    "    cumul = {}\n",
    "    running_sum = 0\n",
    "    for index in range(len(alpha_dict)):\n",
    "        cumul[index] = running_sum\n",
    "        running_sum += aux_lst[index+1]\n",
    "    \n",
    "    #initialize the output list with zeros\n",
    "    output_lst = [0] * len(alphabet_lst)\n",
    "    for letter in alphabet_lst:\n",
    "        output_lst[cumul[alpha_dict[letter]]] = letter\n",
    "        cumul[alpha_dict[letter]] += 1\n",
    "    return output_lst"
   ]
  },
  {
   "cell_type": "code",
   "execution_count": 69,
   "metadata": {
    "scrolled": true
   },
   "outputs": [
    {
     "data": {
      "text/plain": [
       "['a', 'r', 'r', 'r', 'r', 'r', 'r', 't']"
      ]
     },
     "execution_count": 69,
     "metadata": {},
     "output_type": "execute_result"
    }
   ],
   "source": [
    "count_sort(alphabet_lst,alpha_dict)"
   ]
  },
  {
   "cell_type": "markdown",
   "metadata": {},
   "source": [
    "<h3> 2. Counting sort for strings </h3>"
   ]
  },
  {
   "cell_type": "code",
   "execution_count": 94,
   "metadata": {},
   "outputs": [],
   "source": [
    "import re"
   ]
  },
  {
   "cell_type": "code",
   "execution_count": 95,
   "metadata": {},
   "outputs": [],
   "source": [
    "#Check the size of the word with more length\n",
    "def check_max_word_size(words):\n",
    "    m_length = 0\n",
    "    for word in words:\n",
    "        if len(word) > m_length:\n",
    "            m_length=len(word)\n",
    "    return m_length"
   ]
  },
  {
   "cell_type": "code",
   "execution_count": 96,
   "metadata": {},
   "outputs": [],
   "source": [
    "#Adds '.' characters to the words that have less length than the max, so we can compare the same indices\n",
    "def set_same_size(words, max_size):\n",
    "    new_list=[]\n",
    "    for word in words:\n",
    "        new_arr = ['.' * (max_size - len(word))]\n",
    "        new_list.append(word.lower()+''.join(new_arr))\n",
    "\n",
    "    return new_list"
   ]
  },
  {
   "cell_type": "code",
   "execution_count": 97,
   "metadata": {},
   "outputs": [],
   "source": [
    "def sort(words, max_size, index):\n",
    "    if(index == max_size+1):\n",
    "        return words\n",
    "    dic = []\n",
    "    dict_letters = {}\n",
    "    letters=['a', 'b', 'c', 'd', 'e', 'f', 'g', 'h', 'i', 'j', 'k', 'l', 'm', 'n', 'o', 'p', 'q', 'r', 's', 't', 'u', 'v', 'w', 'x', 'y', 'z']\n",
    "    letter_index=0\n",
    "    tmp_list = []\n",
    "\n",
    "    #create dic with the value for each letter of the alphabet, in order to make comparision possible\n",
    "    for x in range(26):\n",
    "        dict_letters.update({letters[letter_index]:(x+1)})\n",
    "        letter_index+=1\n",
    "    dict_letters.update({'.':1000})\n",
    "\n",
    "    #create a dict with key value corresponding to the word and its value\n",
    "    for word in words:\n",
    "        if(dict_letters[word[max_size-index].lower()] < 1000 ):\n",
    "            dic.append([word.lower(), dict_letters[word[max_size-index].lower()] ])\n",
    "\n",
    "    #create and sort a list of words for the current index\n",
    "    for x, y in dic:\n",
    "        tmp_list.append([x,y])\n",
    "    tmp_list.sort(key=lambda x: x[1])\n",
    "\n",
    "    #create a return list that is populated with the list above\n",
    "    return_list=[]\n",
    "    for item in tmp_list:\n",
    "        return_list.append(item[0])\n",
    "\n",
    "    #add the remaining elements that are ordered from previous recursions\n",
    "    for item in words:\n",
    "        if item not in return_list:\n",
    "            return_list.append(item.lower())\n",
    "\n",
    "    #recursive call for the next index\n",
    "    return sort(return_list, max_size, index+1)"
   ]
  },
  {
   "cell_type": "code",
   "execution_count": 98,
   "metadata": {},
   "outputs": [
    {
     "name": "stdout",
     "output_type": "stream",
     "text": [
      "['algorithm', 'bee', 'jack', 'oak', 'olympic', 'sell', 'sleep']\n"
     ]
    }
   ],
   "source": [
    "def main():\n",
    "    words = [\"oak\",\"bee\",\"Algorithm\",\"sell\",\"Olympic\",\"jack\",\"sleep\"]\n",
    "    max_size = check_max_word_size(words)\n",
    "    new_list = set_same_size(words, max_size)\n",
    "    new_list = sort(new_list, max_size-1, 0)\n",
    "    #Remove the dots previously added to the words\n",
    "    index = 0\n",
    "    for word in new_list:\n",
    "        new_list[index]= re.sub('[.]', '', word)\n",
    "        index+=1\n",
    "    #Print the final ordered list, all lower case\n",
    "    print(new_list)\n",
    "\n",
    "if __name__ == '__main__':\n",
    "    main()"
   ]
  },
  {
   "cell_type": "code",
   "execution_count": null,
   "metadata": {},
   "outputs": [],
   "source": []
  },
  {
   "cell_type": "code",
   "execution_count": null,
   "metadata": {},
   "outputs": [],
   "source": []
  }
 ],
 "metadata": {
  "kernelspec": {
   "display_name": "Python 3",
   "language": "python",
   "name": "python3"
  },
  "language_info": {
   "codemirror_mode": {
    "name": "ipython",
    "version": 3
   },
   "file_extension": ".py",
   "mimetype": "text/x-python",
   "name": "python",
   "nbconvert_exporter": "python",
   "pygments_lexer": "ipython3",
   "version": "3.7.4"
  }
 },
 "nbformat": 4,
 "nbformat_minor": 2
}
