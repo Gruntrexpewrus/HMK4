{
 "cells": [
  {
   "cell_type": "markdown",
   "metadata": {},
   "source": [
    "<h1> Counting Sort </h1>"
   ]
  },
  {
   "cell_type": "code",
   "execution_count": 4,
   "metadata": {},
   "outputs": [],
   "source": [
    "#import libraries\n",
    "import pandas as pd\n",
    "import sys\n",
    "import string\n",
    "from collections import Counter"
   ]
  },
  {
   "cell_type": "code",
   "execution_count": 39,
   "metadata": {
    "scrolled": true
   },
   "outputs": [
    {
     "name": "stdout",
     "output_type": "stream",
     "text": [
      "a\n",
      "n\n",
      "g\n",
      "h\n",
      "t\n",
      "r\n",
      "e\n",
      "g\n",
      "e\n",
      "h\n",
      "h\n",
      "h\n",
      "j\n",
      "s\n",
      "\n"
     ]
    }
   ],
   "source": [
    "#create an empty list and keep appending the input of alphabets to the list until :\n",
    "#1. an empty input occurs\n",
    "#2. the length of input is greater than 1\n",
    "#3. the input is a number\n",
    "alphabet_lst = []\n",
    "while True:\n",
    "    inp = input()\n",
    "    if inp == \"\" or len(inp) > 1 or inp.isdigit() == True:    break\n",
    "    alphabet_lst.append(inp)"
   ]
  },
  {
   "cell_type": "code",
   "execution_count": 7,
   "metadata": {},
   "outputs": [
    {
     "name": "stdout",
     "output_type": "stream",
     "text": [
      "1\n",
      "1\n",
      "1\n"
     ]
    }
   ],
   "source": [
    "A = [1,1,1]\n",
    "for i in A:\n",
    "    print(i)"
   ]
  },
  {
   "cell_type": "code",
   "execution_count": 46,
   "metadata": {},
   "outputs": [],
   "source": [
    "alphabet_lst = ['a','f','g','h','i','a','h']"
   ]
  },
  {
   "cell_type": "code",
   "execution_count": 56,
   "metadata": {},
   "outputs": [],
   "source": [
    "#create a dictionary of all alphabets mapping to numbers\n",
    "alpha_dict = dict(zip(string.ascii_lowercase, range(0,26)))"
   ]
  },
  {
   "cell_type": "code",
   "execution_count": 57,
   "metadata": {
    "scrolled": true
   },
   "outputs": [
    {
     "data": {
      "text/plain": [
       "{'a': 0,\n",
       " 'b': 1,\n",
       " 'c': 2,\n",
       " 'd': 3,\n",
       " 'e': 4,\n",
       " 'f': 5,\n",
       " 'g': 6,\n",
       " 'h': 7,\n",
       " 'i': 8,\n",
       " 'j': 9,\n",
       " 'k': 10,\n",
       " 'l': 11,\n",
       " 'm': 12,\n",
       " 'n': 13,\n",
       " 'o': 14,\n",
       " 'p': 15,\n",
       " 'q': 16,\n",
       " 'r': 17,\n",
       " 's': 18,\n",
       " 't': 19,\n",
       " 'u': 20,\n",
       " 'v': 21,\n",
       " 'w': 22,\n",
       " 'x': 23,\n",
       " 'y': 24,\n",
       " 'z': 25}"
      ]
     },
     "execution_count": 57,
     "metadata": {},
     "output_type": "execute_result"
    }
   ],
   "source": [
    "alpha_dict"
   ]
  },
  {
   "cell_type": "code",
   "execution_count": 128,
   "metadata": {
    "scrolled": true
   },
   "outputs": [
    {
     "data": {
      "text/plain": [
       "26"
      ]
     },
     "execution_count": 128,
     "metadata": {},
     "output_type": "execute_result"
    }
   ],
   "source": [
    "#check the length of the dictionary of alphabets\n",
    "len(alpha_dict)"
   ]
  },
  {
   "cell_type": "code",
   "execution_count": 72,
   "metadata": {},
   "outputs": [],
   "source": [
    "#I am inspiring myself on the wikipedia page for the algo\n",
    "def mycountryispizza(alphabet, lis):\n",
    "    #first i need the max value and min value of the list, based on the aphabetical dictionary\n",
    "    max_al = alphabet[lis[0]]\n",
    "    min_al = alphabet[lis[0]]\n",
    "    min_l = max_l = 0\n",
    "    for i in range(len(lis)):\n",
    "        item = lis[i]\n",
    "        if alphabet[item] > max_al:\n",
    "            max_l = item\n",
    "            max_al = alphabet[max_l]\n",
    "            \n",
    "        elif alphabet[item]< min_al:\n",
    "            min_l = item\n",
    "            min_al = alphabet[min_l]\n",
    "            \n",
    "    #now i take an array of dimension max-min+1\n",
    "    array = [0]*(max_al - min_al + 2)\n",
    "    #Here i start counting each value in the list and putting it in the relative component of the array\n",
    "    for i in lis:\n",
    "        array[alphabet[i]-min_al+1] = array[alphabet[i]-min_al+1] + 1\n",
    "        #Now I sum the characters in row\n",
    "    for i in range(1,len(array)):\n",
    "        array[i] = array[i]+array[i-1]\n",
    "    #Now the real counting sort starts!\n",
    "    k = 0\n",
    "    new_l = [0]*len(lis)\n",
    "    for i in range(len(lis)):\n",
    "            item = alphabet[lis[i]]-min_al +1\n",
    "            new_l[array[item]-1] = lis[i]\n",
    "            array[item] = array[item] - 1\n",
    "    return new_l"
   ]
  },
  {
   "cell_type": "code",
   "execution_count": 73,
   "metadata": {
    "scrolled": true
   },
   "outputs": [
    {
     "data": {
      "text/plain": [
       "['a', 'a', 'h', 'h', 'j', 'z', 'z']"
      ]
     },
     "execution_count": 73,
     "metadata": {},
     "output_type": "execute_result"
    }
   ],
   "source": [
    "alphabet_lst = ['a','z','z','h','j','a','h']\n",
    "mycountryispizza(alpha_dict, alphabet_lst)"
   ]
  },
  {
   "cell_type": "code",
   "execution_count": 71,
   "metadata": {},
   "outputs": [
    {
     "data": {
      "text/plain": [
       "['a', 'z', 'z', 'h', 'j', 'a', 'h']"
      ]
     },
     "execution_count": 71,
     "metadata": {},
     "output_type": "execute_result"
    }
   ],
   "source": [
    "alphabet_lst"
   ]
  },
  {
   "cell_type": "code",
   "execution_count": 67,
   "metadata": {},
   "outputs": [],
   "source": [
    "def count_sort(alphabet_lst,alpha_dict):\n",
    "    #create an auxiliary list of size greater than \"alpha_dict\" holding initial values as 0\n",
    "    aux_lst = [0] * (len(alpha_dict)+1)\n",
    "    print(aux_lst)\n",
    "    #traverse through the alphabet_lst and store the count of occurrence of each element in the appropriate index of \"aux_lst\"\n",
    "    for i in alphabet_lst:\n",
    "        print(aux_lst)\n",
    "        aux_lst[alpha_dict[i]+1] = aux_lst[alpha_dict[i]+1] + 1\n",
    "    \n",
    "    #find the cumulative sum of the elements\n",
    "    cumul = {}\n",
    "    running_sum = 0\n",
    "    for index in range(len(alpha_dict)):\n",
    "        print(cumul, running_sum)\n",
    "        cumul[index] = running_sum\n",
    "        running_sum += aux_lst[index+1]\n",
    "    \n",
    "    #initialize the output list with zeros\n",
    "    output_lst = [0] * len(alphabet_lst)\n",
    "    for letter in alphabet_lst:\n",
    "        print(output_lst)\n",
    "        output_lst[cumul[alpha_dict[letter]]] = letter\n",
    "        cumul[alpha_dict[letter]] += 1\n",
    "    return output_lst"
   ]
  },
  {
   "cell_type": "code",
   "execution_count": 68,
   "metadata": {
    "scrolled": true
   },
   "outputs": [
    {
     "name": "stdout",
     "output_type": "stream",
     "text": [
      "[0, 0, 0, 0, 0, 0, 0, 0, 0, 0, 0, 0, 0, 0, 0, 0, 0, 0, 0, 0, 0, 0, 0, 0, 0, 0, 0]\n",
      "[0, 0, 0, 0, 0, 0, 0, 0, 0, 0, 0, 0, 0, 0, 0, 0, 0, 0, 0, 0, 0, 0, 0, 0, 0, 0, 0]\n",
      "[0, 1, 0, 0, 0, 0, 0, 0, 0, 0, 0, 0, 0, 0, 0, 0, 0, 0, 0, 0, 0, 0, 0, 0, 0, 0, 0]\n",
      "[0, 1, 0, 0, 0, 0, 0, 0, 0, 0, 0, 0, 0, 0, 0, 0, 0, 0, 0, 0, 0, 0, 0, 0, 0, 0, 1]\n",
      "[0, 1, 0, 0, 0, 0, 0, 0, 0, 0, 0, 0, 0, 0, 0, 0, 0, 0, 0, 0, 0, 0, 0, 0, 0, 0, 2]\n",
      "[0, 1, 0, 0, 0, 0, 0, 0, 1, 0, 0, 0, 0, 0, 0, 0, 0, 0, 0, 0, 0, 0, 0, 0, 0, 0, 2]\n",
      "[0, 1, 0, 0, 0, 0, 0, 0, 1, 0, 1, 0, 0, 0, 0, 0, 0, 0, 0, 0, 0, 0, 0, 0, 0, 0, 2]\n",
      "[0, 2, 0, 0, 0, 0, 0, 0, 1, 0, 1, 0, 0, 0, 0, 0, 0, 0, 0, 0, 0, 0, 0, 0, 0, 0, 2]\n",
      "{} 0\n",
      "{0: 0} 2\n",
      "{0: 0, 1: 2} 2\n",
      "{0: 0, 1: 2, 2: 2} 2\n",
      "{0: 0, 1: 2, 2: 2, 3: 2} 2\n",
      "{0: 0, 1: 2, 2: 2, 3: 2, 4: 2} 2\n",
      "{0: 0, 1: 2, 2: 2, 3: 2, 4: 2, 5: 2} 2\n",
      "{0: 0, 1: 2, 2: 2, 3: 2, 4: 2, 5: 2, 6: 2} 2\n",
      "{0: 0, 1: 2, 2: 2, 3: 2, 4: 2, 5: 2, 6: 2, 7: 2} 4\n",
      "{0: 0, 1: 2, 2: 2, 3: 2, 4: 2, 5: 2, 6: 2, 7: 2, 8: 4} 4\n",
      "{0: 0, 1: 2, 2: 2, 3: 2, 4: 2, 5: 2, 6: 2, 7: 2, 8: 4, 9: 4} 5\n",
      "{0: 0, 1: 2, 2: 2, 3: 2, 4: 2, 5: 2, 6: 2, 7: 2, 8: 4, 9: 4, 10: 5} 5\n",
      "{0: 0, 1: 2, 2: 2, 3: 2, 4: 2, 5: 2, 6: 2, 7: 2, 8: 4, 9: 4, 10: 5, 11: 5} 5\n",
      "{0: 0, 1: 2, 2: 2, 3: 2, 4: 2, 5: 2, 6: 2, 7: 2, 8: 4, 9: 4, 10: 5, 11: 5, 12: 5} 5\n",
      "{0: 0, 1: 2, 2: 2, 3: 2, 4: 2, 5: 2, 6: 2, 7: 2, 8: 4, 9: 4, 10: 5, 11: 5, 12: 5, 13: 5} 5\n",
      "{0: 0, 1: 2, 2: 2, 3: 2, 4: 2, 5: 2, 6: 2, 7: 2, 8: 4, 9: 4, 10: 5, 11: 5, 12: 5, 13: 5, 14: 5} 5\n",
      "{0: 0, 1: 2, 2: 2, 3: 2, 4: 2, 5: 2, 6: 2, 7: 2, 8: 4, 9: 4, 10: 5, 11: 5, 12: 5, 13: 5, 14: 5, 15: 5} 5\n",
      "{0: 0, 1: 2, 2: 2, 3: 2, 4: 2, 5: 2, 6: 2, 7: 2, 8: 4, 9: 4, 10: 5, 11: 5, 12: 5, 13: 5, 14: 5, 15: 5, 16: 5} 5\n",
      "{0: 0, 1: 2, 2: 2, 3: 2, 4: 2, 5: 2, 6: 2, 7: 2, 8: 4, 9: 4, 10: 5, 11: 5, 12: 5, 13: 5, 14: 5, 15: 5, 16: 5, 17: 5} 5\n",
      "{0: 0, 1: 2, 2: 2, 3: 2, 4: 2, 5: 2, 6: 2, 7: 2, 8: 4, 9: 4, 10: 5, 11: 5, 12: 5, 13: 5, 14: 5, 15: 5, 16: 5, 17: 5, 18: 5} 5\n",
      "{0: 0, 1: 2, 2: 2, 3: 2, 4: 2, 5: 2, 6: 2, 7: 2, 8: 4, 9: 4, 10: 5, 11: 5, 12: 5, 13: 5, 14: 5, 15: 5, 16: 5, 17: 5, 18: 5, 19: 5} 5\n",
      "{0: 0, 1: 2, 2: 2, 3: 2, 4: 2, 5: 2, 6: 2, 7: 2, 8: 4, 9: 4, 10: 5, 11: 5, 12: 5, 13: 5, 14: 5, 15: 5, 16: 5, 17: 5, 18: 5, 19: 5, 20: 5} 5\n",
      "{0: 0, 1: 2, 2: 2, 3: 2, 4: 2, 5: 2, 6: 2, 7: 2, 8: 4, 9: 4, 10: 5, 11: 5, 12: 5, 13: 5, 14: 5, 15: 5, 16: 5, 17: 5, 18: 5, 19: 5, 20: 5, 21: 5} 5\n",
      "{0: 0, 1: 2, 2: 2, 3: 2, 4: 2, 5: 2, 6: 2, 7: 2, 8: 4, 9: 4, 10: 5, 11: 5, 12: 5, 13: 5, 14: 5, 15: 5, 16: 5, 17: 5, 18: 5, 19: 5, 20: 5, 21: 5, 22: 5} 5\n",
      "{0: 0, 1: 2, 2: 2, 3: 2, 4: 2, 5: 2, 6: 2, 7: 2, 8: 4, 9: 4, 10: 5, 11: 5, 12: 5, 13: 5, 14: 5, 15: 5, 16: 5, 17: 5, 18: 5, 19: 5, 20: 5, 21: 5, 22: 5, 23: 5} 5\n",
      "{0: 0, 1: 2, 2: 2, 3: 2, 4: 2, 5: 2, 6: 2, 7: 2, 8: 4, 9: 4, 10: 5, 11: 5, 12: 5, 13: 5, 14: 5, 15: 5, 16: 5, 17: 5, 18: 5, 19: 5, 20: 5, 21: 5, 22: 5, 23: 5, 24: 5} 5\n",
      "[0, 0, 0, 0, 0, 0, 0]\n",
      "['a', 0, 0, 0, 0, 0, 0]\n",
      "['a', 0, 0, 0, 0, 'z', 0]\n",
      "['a', 0, 0, 0, 0, 'z', 'z']\n",
      "['a', 0, 'h', 0, 0, 'z', 'z']\n",
      "['a', 0, 'h', 0, 'j', 'z', 'z']\n",
      "['a', 'a', 'h', 0, 'j', 'z', 'z']\n"
     ]
    },
    {
     "data": {
      "text/plain": [
       "['a', 'a', 'h', 'h', 'j', 'z', 'z']"
      ]
     },
     "execution_count": 68,
     "metadata": {},
     "output_type": "execute_result"
    }
   ],
   "source": [
    "alphabet_lst = ['a','z','z','h','j','a','h']\n",
    "count_sort(alphabet_lst,alpha_dict)"
   ]
  }
 ],
 "metadata": {
  "kernelspec": {
   "display_name": "Python 3",
   "language": "python",
   "name": "python3"
  },
  "language_info": {
   "codemirror_mode": {
    "name": "ipython",
    "version": 3
   },
   "file_extension": ".py",
   "mimetype": "text/x-python",
   "name": "python",
   "nbconvert_exporter": "python",
   "pygments_lexer": "ipython3",
   "version": "3.7.5"
  }
 },
 "nbformat": 4,
 "nbformat_minor": 2
}
