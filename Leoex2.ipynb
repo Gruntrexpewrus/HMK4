{
 "cells": [
  {
   "cell_type": "markdown",
   "metadata": {},
   "source": [
    "# 1. Let's create a Counting Sort algorithm!"
   ]
  },
  {
   "cell_type": "code",
   "execution_count": 4,
   "metadata": {},
   "outputs": [],
   "source": [
    "#import libraries\n",
    "import pandas as pd\n",
    "import sys\n",
    "import string\n",
    "from collections import Counter"
   ]
  },
  {
   "cell_type": "code",
   "execution_count": 39,
   "metadata": {
    "scrolled": true
   },
   "outputs": [
    {
     "name": "stdout",
     "output_type": "stream",
     "text": [
      "a\n",
      "n\n",
      "g\n",
      "h\n",
      "t\n",
      "r\n",
      "e\n",
      "g\n",
      "e\n",
      "h\n",
      "h\n",
      "h\n",
      "j\n",
      "s\n",
      "\n"
     ]
    }
   ],
   "source": [
    "#create an empty list and keep appending the input of alphabets to the list until :\n",
    "#1. an empty input occurs\n",
    "#2. the length of input is greater than 1\n",
    "#3. the input is a number\n",
    "alphabet_lst = []\n",
    "while True:\n",
    "    inp = input()\n",
    "    if inp == \"\" or len(inp) > 1 or inp.isdigit() == True:    break\n",
    "    alphabet_lst.append(inp)"
   ]
  },
  {
   "cell_type": "code",
   "execution_count": 128,
   "metadata": {
    "scrolled": true
   },
   "outputs": [
    {
     "data": {
      "text/plain": [
       "26"
      ]
     },
     "execution_count": 128,
     "metadata": {},
     "output_type": "execute_result"
    }
   ],
   "source": [
    "#check the length of the dictionary of alphabets\n",
    "len(alpha_dict)"
   ]
  },
  {
   "cell_type": "code",
   "execution_count": 80,
   "metadata": {},
   "outputs": [
    {
     "name": "stdout",
     "output_type": "stream",
     "text": [
      "Gimme a string of lettersAAAAJJJJGKJUTJC\n"
     ]
    },
    {
     "data": {
      "text/plain": [
       "['a', 'a', 'a', 'a', 'j', 'j', 'j', 'j', 'g', 'k', 'j', 'u', 't', 'j', 'c']"
      ]
     },
     "execution_count": 80,
     "metadata": {},
     "output_type": "execute_result"
    }
   ],
   "source": [
    "Ask = input('Gimme a string of letters')\n",
    "letters = list(Ask.lower())\n",
    "letters"
   ]
  },
  {
   "cell_type": "code",
   "execution_count": 192,
   "metadata": {},
   "outputs": [],
   "source": [
    "#I am inspiring myself on the wikipedia page for the algo\n",
    "def CountingSort(alphabet, lis):\n",
    "    #first i need the max value and min value of the list, based on the aphabetical dictionary\n",
    "    max_al = alphabet[lis[0]]\n",
    "    min_al = alphabet[lis[0]]\n",
    "    min_l = max_l = 0\n",
    "    for i in range(len(lis)):\n",
    "        item = lis[i]\n",
    "        if alphabet[item] > max_al:\n",
    "            max_l = item\n",
    "            max_al = alphabet[max_l]\n",
    "            \n",
    "        elif alphabet[item]< min_al:\n",
    "            min_l = item\n",
    "            min_al = alphabet[min_l]\n",
    "            \n",
    "    #now i take an array of dimension max-min+1\n",
    "    array = [0]*(max_al - min_al + 2)\n",
    "    #Here i start counting each value in the list and putting it in the relative component of the array\n",
    "    for i in lis:\n",
    "        array[alphabet[i]-min_al+1] = array[alphabet[i]-min_al+1] + 1\n",
    "        #Now I sum the characters in row\n",
    "    for i in range(1,len(array)):\n",
    "        array[i] = array[i]+array[i-1]\n",
    "    #Now the real counting sort starts!\n",
    "    k = 0\n",
    "    new_l = [0]*len(lis)\n",
    "    for i in range(len(lis)):\n",
    "            item = alphabet[lis[i]]-min_al +1\n",
    "            new_l[array[item]-1] = lis[i]\n",
    "            array[item] = array[item] - 1\n",
    "    return new_l"
   ]
  },
  {
   "cell_type": "code",
   "execution_count": 84,
   "metadata": {
    "scrolled": true
   },
   "outputs": [
    {
     "name": "stdout",
     "output_type": "stream",
     "text": [
      "Gimme a string of lettersShkuvyidyqcidiubyhivAJJHDKFJYV\n"
     ]
    },
    {
     "data": {
      "text/plain": [
       "['a',\n",
       " 'b',\n",
       " 'c',\n",
       " 'd',\n",
       " 'd',\n",
       " 'd',\n",
       " 'f',\n",
       " 'h',\n",
       " 'h',\n",
       " 'h',\n",
       " 'i',\n",
       " 'i',\n",
       " 'i',\n",
       " 'i',\n",
       " 'j',\n",
       " 'j',\n",
       " 'j',\n",
       " 'k',\n",
       " 'k',\n",
       " 'q',\n",
       " 's',\n",
       " 'u',\n",
       " 'u',\n",
       " 'v',\n",
       " 'v',\n",
       " 'v',\n",
       " 'y',\n",
       " 'y',\n",
       " 'y',\n",
       " 'y']"
      ]
     },
     "execution_count": 84,
     "metadata": {},
     "output_type": "execute_result"
    }
   ],
   "source": [
    "alpha_dict = dict(zip(string.ascii_lowercase, range(0,26)))\n",
    "alphabet_lst = ['a','z','z','h','j','a','h']\n",
    "Ask = input('Gimme a string of letters')\n",
    "letters = list(Ask.lower())\n",
    "CountingSort(alpha_dict, letters)"
   ]
  },
  {
   "cell_type": "markdown",
   "metadata": {},
   "source": [
    "# 2. Sort a permutated alphabet string and discuss complexity."
   ]
  },
  {
   "cell_type": "code",
   "execution_count": 188,
   "metadata": {},
   "outputs": [],
   "source": [
    "import numpy as np\n",
    "def Permutator(li):\n",
    "    for i in range(100):\n",
    "        A = np.random.randint(26)\n",
    "        B = np.random.randint(26)\n",
    "        aux = li[A]\n",
    "        li[A]= li[B]\n",
    "        li[B] = aux\n",
    "    return li"
   ]
  },
  {
   "cell_type": "code",
   "execution_count": 190,
   "metadata": {
    "scrolled": true
   },
   "outputs": [
    {
     "data": {
      "text/plain": [
       "['c',\n",
       " 'g',\n",
       " 'o',\n",
       " 'n',\n",
       " 't',\n",
       " 'a',\n",
       " 'i',\n",
       " 'j',\n",
       " 'e',\n",
       " 'y',\n",
       " 'x',\n",
       " 'v',\n",
       " 'r',\n",
       " 'u',\n",
       " 'd',\n",
       " 'h',\n",
       " 'b',\n",
       " 'f',\n",
       " 'w',\n",
       " 'p',\n",
       " 's',\n",
       " 'm',\n",
       " 'k',\n",
       " 'q',\n",
       " 'z',\n",
       " 'l']"
      ]
     },
     "execution_count": 190,
     "metadata": {},
     "output_type": "execute_result"
    }
   ],
   "source": [
    "ex2 = list(string.ascii_lowercase)\n",
    "Permutator(ex2)\n",
    "ex2"
   ]
  },
  {
   "cell_type": "code",
   "execution_count": 193,
   "metadata": {
    "scrolled": true
   },
   "outputs": [
    {
     "data": {
      "text/plain": [
       "['a',\n",
       " 'b',\n",
       " 'c',\n",
       " 'd',\n",
       " 'e',\n",
       " 'f',\n",
       " 'g',\n",
       " 'h',\n",
       " 'i',\n",
       " 'j',\n",
       " 'k',\n",
       " 'l',\n",
       " 'm',\n",
       " 'n',\n",
       " 'o',\n",
       " 'p',\n",
       " 'q',\n",
       " 'r',\n",
       " 's',\n",
       " 't',\n",
       " 'u',\n",
       " 'v',\n",
       " 'w',\n",
       " 'x',\n",
       " 'y',\n",
       " 'z']"
      ]
     },
     "execution_count": 193,
     "metadata": {},
     "output_type": "execute_result"
    }
   ],
   "source": [
    "alpha_dict = dict(zip(string.ascii_lowercase, range(0,26)))\n",
    "CountingSort(alpha_dict, ex2)"
   ]
  },
  {
   "cell_type": "markdown",
   "metadata": {},
   "source": [
    "## Let's discuss the complexity."
   ]
  },
  {
   "cell_type": "markdown",
   "metadata": {},
   "source": [
    "The CountingSort is: <br><br>\n",
    "\n",
    "def CountingSort(alphabet, lis):<br>\n",
    "$\\;\\;\\;\\;\\;\\;$max_al = alphabet[lis[0]]  **Complexity O(1)**<br>\n",
    "$\\;\\;\\;\\;\\;\\;$min_al = alphabet[lis[0]]  **Complexity O(1)**<br>\n",
    "$\\;\\;\\;\\;\\;\\;$min_l = max_l = 0          **Complexity O(1)**<br>\n",
    "$\\;\\;\\;\\;\\;\\;$for i in range(len(lis)):  **Complexity O(k) { where k is the len of the input list(in this case 26)**<br>\n",
    "$\\;\\;\\;\\;\\;\\;$$\\;\\;\\;\\;\\;\\;$item = lis[i]          **Complexity O(1)** <br>\n",
    "$\\;\\;\\;\\;\\;\\;$$\\;\\;\\;\\;\\;\\;$if alphabet[item] > max_al:  **Complexity O(1)**<br>\n",
    "$\\;\\;\\;\\;\\;\\;$$\\;\\;\\;\\;\\;\\;$$\\;\\;\\;\\;\\;\\;$max_l = item       **Complexity O(1)**<br>\n",
    "$\\;\\;\\;\\;\\;\\;$$\\;\\;\\;\\;\\;\\;$$\\;\\;\\;\\;\\;\\;$max_al = alphabet[max_l]  **Complexity O(1)**<br>    \n",
    "$\\;\\;\\;\\;\\;\\;$$\\;\\;\\;\\;\\;\\;$elif alphabet[item]< min_al: **Complexity O(1)** <br>\n",
    "$\\;\\;\\;\\;\\;\\;$$\\;\\;\\;\\;\\;\\;$$\\;\\;\\;\\;\\;\\;$min_l = item  **Complexity O(1)**<br>\n",
    "$\\;\\;\\;\\;\\;\\;$$\\;\\;\\;\\;\\;\\;$$\\;\\;\\;\\;\\;\\;$min_al = alphabet[min_l]  **Complexity O(1) }**<br>         \n",
    "$\\;\\;\\;\\;\\;\\;$array = [0]\\*(max_al - min_al + 2) **Complexity O(2)**<br>\n",
    "$\\;\\;\\;\\;\\;\\;$for i in lis:    **Complexity O(k)**<br>\n",
    "$\\;\\;\\;\\;\\;\\;$$\\;\\;\\;\\;\\;\\;$array[alphabet[i]-min_al+1] = array[alphabet[i]-min_al+1] + 1   **Complexity O(1)**<br>\n",
    "$\\;\\;\\;\\;\\;\\;$for i in range(1,len(array)): **Complexity O(c) where c(max_al - min_al + 2) in this case of alphabet is 27**<br>\n",
    "$\\;\\;\\;\\;\\;\\;$$\\;\\;\\;\\;\\;\\;$array[i] = array[i]+array[i-1] **Complexity O(1)** <br>\n",
    "$\\;\\;\\;\\;\\;\\;$k = 0  **Complexity O(1)**<br>\n",
    "$\\;\\;\\;\\;\\;\\;$new_l = [0]\\*len(lis) **Complexity O(k)**<br>\n",
    "$\\;\\;\\;\\;\\;\\;$for i in range(len(lis)):  **Complexity O(k)**<br>\n",
    "$\\;\\;\\;\\;\\;\\;$$\\;\\;\\;\\;\\;\\;$item = alphabet[lis[i]]-min_al +1   **Complexity O(2)**<br>\n",
    "$\\;\\;\\;\\;\\;\\;$$\\;\\;\\;\\;\\;\\;$new_l[array[item]-1] = lis[i]  **Complexity O(1)**<br>\n",
    "$\\;\\;\\;\\;\\;\\;$$\\;\\;\\;\\;\\;\\;$array[item] = array[item] - 1  **Complexity O(1)**<br>\n",
    "$\\;\\;\\;\\;\\;\\;$return new_l "
   ]
  },
  {
   "cell_type": "markdown",
   "metadata": {},
   "source": [
    "So we would like to check that the algorithm respect the CountingSort complexity of $O(k+c)$ where k is the length of the list to order and c the distance between the max and min element + 1.\n",
    "Let's go!\n",
    "$f(k, c) = O(1) + O(1)+ O(1) + O(k(O(1)+O(1+2)+O(1+2)) + O(c) + O(k) + O(c) + O(1) + O(k) + O(k4)$ = <br>\n",
    "$O(k)+O(c)= O(k+c)$.\n",
    "We can say it's a perfect implemented CountingSort for list of letters."
   ]
  }
 ],
 "metadata": {
  "kernelspec": {
   "display_name": "Python 3",
   "language": "python",
   "name": "python3"
  },
  "language_info": {
   "codemirror_mode": {
    "name": "ipython",
    "version": 3
   },
   "file_extension": ".py",
   "mimetype": "text/x-python",
   "name": "python",
   "nbconvert_exporter": "python",
   "pygments_lexer": "ipython3",
   "version": "3.7.5"
  }
 },
 "nbformat": 4,
 "nbformat_minor": 2
}
